{
 "cells": [
  {
   "cell_type": "markdown",
   "id": "5100b673",
   "metadata": {},
   "source": [
    "Q1. Pearson correlation coefficient is a measure of the linear relationship between two variables. Suppose\n",
    "you have collected data on the amount of time students spend studying for an exam and their final exam\n",
    "scores. Calculate the Pearson correlation coefficient between these two variables and interpret the result."
   ]
  },
  {
   "cell_type": "code",
   "execution_count": 1,
   "id": "59198b9c",
   "metadata": {},
   "outputs": [
    {
     "data": {
      "text/plain": [
       "'To calculate the Pearson correlation coefficient between the amount of time students spend studying for an exam and their final exam scores, you would first need to compute the covariance and standard deviations of both variables. Then, you can use the formula for the Pearson correlation coefficient:\\n\\n\\\\[ r = \\x0crac{\\\\sum((X_i - \\x08ar{X})(Y_i - \\x08ar{Y}))}{\\\\sqrt{\\\\sum(X_i - \\x08ar{X})^2 \\\\sum(Y_i - \\x08ar{Y})^2}} \\\\]\\n\\nWhere:\\n- \\\\( X_i \\\\) is the value of the amount of time spent studying for the ith student.\\n- \\\\( Y_i \\\\) is the final exam score of the ith student.\\n- \\\\( \\x08ar{X} \\\\) is the mean of the amount of time spent studying.\\n- \\\\( \\x08ar{Y} \\\\) is the mean of the final exam scores.\\n\\nThe correlation coefficient (\\\\( r \\\\)) ranges from -1 to 1. A positive correlation indicates a positive linear relationship, where higher values of one variable are associated with higher values of the other variable. A negative correlation indicates an inverse relationship, where higher values of one variable are associated with lower values of the other variable. A correlation close to 0 suggests no linear relationship between the variables.\\n\\nInterpretation:\\n- If \\\\( r \\\\) is close to 1, it suggests a strong positive linear relationship, indicating that students who spend more time studying tend to achieve higher exam scores.\\n- If \\\\( r \\\\) is close to -1, it suggests a strong negative linear relationship, indicating that students who spend more time studying tend to achieve lower exam scores.\\n- If \\\\( r \\\\) is close to 0, it suggests no linear relationship between the variables, indicating that the amount of time spent studying does not significantly predict exam scores.\\n\\nOnce you calculate \\\\( r \\\\), you can interpret its value accordingly to understand the relationship between the variables in your data set.'"
      ]
     },
     "execution_count": 1,
     "metadata": {},
     "output_type": "execute_result"
    }
   ],
   "source": [
    "\"\"\"To calculate the Pearson correlation coefficient between the amount of time students spend studying for an exam and their final exam scores, you would first need to compute the covariance and standard deviations of both variables. Then, you can use the formula for the Pearson correlation coefficient:\n",
    "\n",
    "\\[ r = \\frac{\\sum((X_i - \\bar{X})(Y_i - \\bar{Y}))}{\\sqrt{\\sum(X_i - \\bar{X})^2 \\sum(Y_i - \\bar{Y})^2}} \\]\n",
    "\n",
    "Where:\n",
    "- \\( X_i \\) is the value of the amount of time spent studying for the ith student.\n",
    "- \\( Y_i \\) is the final exam score of the ith student.\n",
    "- \\( \\bar{X} \\) is the mean of the amount of time spent studying.\n",
    "- \\( \\bar{Y} \\) is the mean of the final exam scores.\n",
    "\n",
    "The correlation coefficient (\\( r \\)) ranges from -1 to 1. A positive correlation indicates a positive linear relationship, where higher values of one variable are associated with higher values of the other variable. A negative correlation indicates an inverse relationship, where higher values of one variable are associated with lower values of the other variable. A correlation close to 0 suggests no linear relationship between the variables.\n",
    "\n",
    "Interpretation:\n",
    "- If \\( r \\) is close to 1, it suggests a strong positive linear relationship, indicating that students who spend more time studying tend to achieve higher exam scores.\n",
    "- If \\( r \\) is close to -1, it suggests a strong negative linear relationship, indicating that students who spend more time studying tend to achieve lower exam scores.\n",
    "- If \\( r \\) is close to 0, it suggests no linear relationship between the variables, indicating that the amount of time spent studying does not significantly predict exam scores.\n",
    "\n",
    "Once you calculate \\( r \\), you can interpret its value accordingly to understand the relationship between the variables in your data set.\"\"\""
   ]
  },
  {
   "cell_type": "markdown",
   "id": "b1846e47",
   "metadata": {},
   "source": [
    "Q2. Spearman's rank correlation is a measure of the monotonic relationship between two variables.\n",
    "Suppose you have collected data on the amount of sleep individuals get each night and their overall job\n",
    "satisfaction level on a scale of 1 to 10. Calculate the Spearman's rank correlation between these two\n",
    "variables and interpret the result."
   ]
  },
  {
   "cell_type": "code",
   "execution_count": 2,
   "id": "62ea43d4",
   "metadata": {},
   "outputs": [
    {
     "data": {
      "text/plain": [
       "\"To calculate Spearman's rank correlation coefficient between the amount of sleep individuals get each night and their overall job satisfaction level, you first need to rank both variables and then compute the correlation based on the ranks. Here's how you can do it:\\n\\n1. Rank the amount of sleep and job satisfaction levels separately, from lowest to highest, assigning ranks starting from 1.\\n2. Calculate the differences between the ranks for each pair of observations.\\n3. Square these differences and sum them to get the sum of squared differences.\\n4. Use the formula for Spearman's rank correlation coefficient:\\n\\n\\\\[ \\rho = 1 - \\x0crac{6\\\\sum d^2}{n(n^2 - 1)} \\\\]\\n\\nWhere:\\n- \\\\( \\rho \\\\) (rho) is the Spearman's rank correlation coefficient.\\n- \\\\( d \\\\) is the difference between the ranks of corresponding pairs of data.\\n- \\\\( n \\\\) is the number of observations.\\n\\nThe value of \\\\( \\rho \\\\) ranges from -1 to 1. A positive value indicates a positive monotonic relationship, while a negative value indicates a negative monotonic relationship. A value close to 0 suggests no monotonic relationship between the variables.\\n\\nInterpretation:\\n- If \\\\( \\rho \\\\) is close to 1, it suggests a strong positive monotonic relationship, indicating that as the amount of sleep individuals get each night increases, their job satisfaction levels tend to increase as well.\\n- If \\\\( \\rho \\\\) is close to -1, it suggests a strong negative monotonic relationship, indicating that as the amount of sleep individuals get each night increases, their job satisfaction levels tend to decrease.\\n- If \\\\( \\rho \\\\) is close to 0, it suggests no monotonic relationship between the variables, indicating that the amount of sleep individuals get each night does not significantly predict their job satisfaction levels.\\n\\nOnce you calculate \\\\( \\rho \\\\), you can interpret its value accordingly to understand the monotonic relationship between the variables in your data set.\""
      ]
     },
     "execution_count": 2,
     "metadata": {},
     "output_type": "execute_result"
    }
   ],
   "source": [
    "\"\"\"To calculate Spearman's rank correlation coefficient between the amount of sleep individuals get each night and their overall job satisfaction level, you first need to rank both variables and then compute the correlation based on the ranks. Here's how you can do it:\n",
    "\n",
    "1. Rank the amount of sleep and job satisfaction levels separately, from lowest to highest, assigning ranks starting from 1.\n",
    "2. Calculate the differences between the ranks for each pair of observations.\n",
    "3. Square these differences and sum them to get the sum of squared differences.\n",
    "4. Use the formula for Spearman's rank correlation coefficient:\n",
    "\n",
    "\\[ \\rho = 1 - \\frac{6\\sum d^2}{n(n^2 - 1)} \\]\n",
    "\n",
    "Where:\n",
    "- \\( \\rho \\) (rho) is the Spearman's rank correlation coefficient.\n",
    "- \\( d \\) is the difference between the ranks of corresponding pairs of data.\n",
    "- \\( n \\) is the number of observations.\n",
    "\n",
    "The value of \\( \\rho \\) ranges from -1 to 1. A positive value indicates a positive monotonic relationship, while a negative value indicates a negative monotonic relationship. A value close to 0 suggests no monotonic relationship between the variables.\n",
    "\n",
    "Interpretation:\n",
    "- If \\( \\rho \\) is close to 1, it suggests a strong positive monotonic relationship, indicating that as the amount of sleep individuals get each night increases, their job satisfaction levels tend to increase as well.\n",
    "- If \\( \\rho \\) is close to -1, it suggests a strong negative monotonic relationship, indicating that as the amount of sleep individuals get each night increases, their job satisfaction levels tend to decrease.\n",
    "- If \\( \\rho \\) is close to 0, it suggests no monotonic relationship between the variables, indicating that the amount of sleep individuals get each night does not significantly predict their job satisfaction levels.\n",
    "\n",
    "Once you calculate \\( \\rho \\), you can interpret its value accordingly to understand the monotonic relationship between the variables in your data set.\"\"\""
   ]
  },
  {
   "cell_type": "markdown",
   "id": "7edd2203",
   "metadata": {},
   "source": [
    "Q3. Suppose you are conducting a study to examine the relationship between the number of hours of\n",
    "exercise per week and body mass index (BMI) in a sample of adults. You collected data on both variables\n",
    "for 50 participants. Calculate the Pearson correlation coefficient and the Spearman's rank correlation\n",
    "between these two variables and compare the results."
   ]
  },
  {
   "cell_type": "code",
   "execution_count": 3,
   "id": "1c64f541",
   "metadata": {},
   "outputs": [
    {
     "data": {
      "text/plain": [
       "\"To calculate both the Pearson correlation coefficient and the Spearman's rank correlation between the number of hours of exercise per week and body mass index (BMI) in your sample of adults, follow these steps:\\n\\n1. **Pearson Correlation Coefficient (r)**:\\n\\n\\\\[ r = \\x0crac{\\\\sum((X_i - \\x08ar{X})(Y_i - \\x08ar{Y}))}{\\\\sqrt{\\\\sum(X_i - \\x08ar{X})^2 \\\\sum(Y_i - \\x08ar{Y})^2}} \\\\]\\n\\nWhere:\\n- \\\\( X_i \\\\) is the number of hours of exercise per week for the ith participant.\\n- \\\\( Y_i \\\\) is the BMI for the ith participant.\\n- \\\\( \\x08ar{X} \\\\) is the mean of the number of hours of exercise per week.\\n- \\\\( \\x08ar{Y} \\\\) is the mean of the BMI.\\n\\n2. **Spearman's Rank Correlation Coefficient (\\\\( \\rho \\\\))**:\\n\\n\\\\[ \\rho = 1 - \\x0crac{6\\\\sum d^2}{n(n^2 - 1)} \\\\]\\n\\nWhere:\\n- \\\\( d \\\\) is the difference between the ranks of corresponding pairs of data.\\n- \\\\( n \\\\) is the number of observations.\\n\\nNow, let's calculate both coefficients and compare the results:\\n\\nSuppose your data looks like this:\\n\\n```\\nNumber of hours of exercise (X): [5, 3, 4, 6, 2, ...]\\nBMI (Y): [25.3, 28.1, 24.5, 29.8, 27.0, ...]\\n```\\n\\n1. Calculate the Pearson correlation coefficient (r) using the given formula.\\n2. Rank the data for both variables and then calculate the Spearman's rank correlation coefficient (\\\\( \\rho \\\\)) using the given formula.\\n\\nAfter calculating both coefficients, compare their values. If both coefficients are close to each other, it indicates that the relationship between the variables is approximately linear. If the Pearson coefficient is significantly different from the Spearman coefficient, it suggests that the relationship may not be linear, but there might still be some monotonic relationship between the variables.\""
      ]
     },
     "execution_count": 3,
     "metadata": {},
     "output_type": "execute_result"
    }
   ],
   "source": [
    "\"\"\"To calculate both the Pearson correlation coefficient and the Spearman's rank correlation between the number of hours of exercise per week and body mass index (BMI) in your sample of adults, follow these steps:\n",
    "\n",
    "1. **Pearson Correlation Coefficient (r)**:\n",
    "\n",
    "\\[ r = \\frac{\\sum((X_i - \\bar{X})(Y_i - \\bar{Y}))}{\\sqrt{\\sum(X_i - \\bar{X})^2 \\sum(Y_i - \\bar{Y})^2}} \\]\n",
    "\n",
    "Where:\n",
    "- \\( X_i \\) is the number of hours of exercise per week for the ith participant.\n",
    "- \\( Y_i \\) is the BMI for the ith participant.\n",
    "- \\( \\bar{X} \\) is the mean of the number of hours of exercise per week.\n",
    "- \\( \\bar{Y} \\) is the mean of the BMI.\n",
    "\n",
    "2. **Spearman's Rank Correlation Coefficient (\\( \\rho \\))**:\n",
    "\n",
    "\\[ \\rho = 1 - \\frac{6\\sum d^2}{n(n^2 - 1)} \\]\n",
    "\n",
    "Where:\n",
    "- \\( d \\) is the difference between the ranks of corresponding pairs of data.\n",
    "- \\( n \\) is the number of observations.\n",
    "\n",
    "Now, let's calculate both coefficients and compare the results:\n",
    "\n",
    "Suppose your data looks like this:\n",
    "\n",
    "```\n",
    "Number of hours of exercise (X): [5, 3, 4, 6, 2, ...]\n",
    "BMI (Y): [25.3, 28.1, 24.5, 29.8, 27.0, ...]\n",
    "```\n",
    "\n",
    "1. Calculate the Pearson correlation coefficient (r) using the given formula.\n",
    "2. Rank the data for both variables and then calculate the Spearman's rank correlation coefficient (\\( \\rho \\)) using the given formula.\n",
    "\n",
    "After calculating both coefficients, compare their values. If both coefficients are close to each other, it indicates that the relationship between the variables is approximately linear. If the Pearson coefficient is significantly different from the Spearman coefficient, it suggests that the relationship may not be linear, but there might still be some monotonic relationship between the variables.\"\"\""
   ]
  },
  {
   "cell_type": "markdown",
   "id": "9d2cb856",
   "metadata": {},
   "source": [
    "Q4. A researcher is interested in examining the relationship between the number of hours individuals\n",
    "spend watching television per day and their level of physical activity. The researcher collected data on\n",
    "both variables from a sample of 50 participants. Calculate the Pearson correlation coefficient between\n",
    "these two variables."
   ]
  },
  {
   "cell_type": "code",
   "execution_count": 4,
   "id": "5e92f6dc",
   "metadata": {},
   "outputs": [
    {
     "data": {
      "text/plain": [
       "\"To calculate the Pearson correlation coefficient, you would need the data on the number of hours individuals spend watching television per day and their level of physical activity for the 50 participants. Let's denote the number of hours spent watching television as variable X and the level of physical activity as variable Y.\\n\\nOnce you have the data, you can calculate the Pearson correlation coefficient (r) using the following formula:\\n\\n\\\\[ r = \\x0crac{{\\\\sum{(X_i - \\x08ar{X})(Y_i - \\x08ar{Y})}}}{{\\\\sqrt{\\\\sum{(X_i - \\x08ar{X})^2} \\\\cdot \\\\sum{(Y_i - \\x08ar{Y})^2}}}} \\\\]\\n\\nWhere:\\n- \\\\( X_i \\\\) and \\\\( Y_i \\\\) are the individual data points for variables X and Y.\\n- \\\\( \\x08ar{X} \\\\) and \\\\( \\x08ar{Y} \\\\) are the means of variables X and Y.\\n\\nYou would calculate the means (\\\\( \\x08ar{X} \\\\) and \\\\( \\x08ar{Y} \\\\)), then calculate the deviations from the mean for each data point, multiply those deviations, sum them up, and divide by the product of the standard deviations of X and Y.\\n\\nHowever, since we don't have the actual data, we can't compute the Pearson correlation coefficient. You would need to input the actual data to calculate it. Once you have the data, you can input it into the formula to find the correlation coefficient.\""
      ]
     },
     "execution_count": 4,
     "metadata": {},
     "output_type": "execute_result"
    }
   ],
   "source": [
    "\"\"\"To calculate the Pearson correlation coefficient, you would need the data on the number of hours individuals spend watching television per day and their level of physical activity for the 50 participants. Let's denote the number of hours spent watching television as variable X and the level of physical activity as variable Y.\n",
    "\n",
    "Once you have the data, you can calculate the Pearson correlation coefficient (r) using the following formula:\n",
    "\n",
    "\\[ r = \\frac{{\\sum{(X_i - \\bar{X})(Y_i - \\bar{Y})}}}{{\\sqrt{\\sum{(X_i - \\bar{X})^2} \\cdot \\sum{(Y_i - \\bar{Y})^2}}}} \\]\n",
    "\n",
    "Where:\n",
    "- \\( X_i \\) and \\( Y_i \\) are the individual data points for variables X and Y.\n",
    "- \\( \\bar{X} \\) and \\( \\bar{Y} \\) are the means of variables X and Y.\n",
    "\n",
    "You would calculate the means (\\( \\bar{X} \\) and \\( \\bar{Y} \\)), then calculate the deviations from the mean for each data point, multiply those deviations, sum them up, and divide by the product of the standard deviations of X and Y.\n",
    "\n",
    "However, since we don't have the actual data, we can't compute the Pearson correlation coefficient. You would need to input the actual data to calculate it. Once you have the data, you can input it into the formula to find the correlation coefficient.\"\"\""
   ]
  },
  {
   "cell_type": "markdown",
   "id": "1855843e",
   "metadata": {},
   "source": [
    "\n",
    "Q5. A survey was conducted to examine the relationship between age and preference for a particular\n",
    "brand of soft drink. The survey results are shown below:.\n",
    "Age(Years)\n",
    "25 Coke\n",
    "42 Pepsi\n",
    "37\n",
    "19\n",
    "31\n",
    "28\n",
    "\n",
    "Mountain dew\n",
    "Coke\n",
    "Pepsi\n",
    "Coke"
   ]
  },
  {
   "cell_type": "code",
   "execution_count": 6,
   "id": "d47380bd",
   "metadata": {},
   "outputs": [
    {
     "data": {
      "text/plain": [
       "'To interpret the survey results, it seems the data is presented in two columns: one for age and the other for the soft drink preference. Here\\'s a breakdown of the provided data:\\n\\nAge (Years): 25, 19, 31, 28\\nSoft Drink Preference: Coke, Pepsi, Pepsi, Coke\\n\\nFrom the given data, it appears that four individuals participated in the survey. Here\\'s the distribution of soft drink preferences by age:\\n\\n- Age 25: Coke\\n- Age 19: Pepsi\\n- Age 31: Pepsi\\n- Age 28: Coke\\n\\nIt\\'s not entirely clear what \"Mountain Dew\" refers to. If it\\'s another soft drink preference, then there might be an error in the provided data as it doesn\\'t correspond to any of the ages listed. \\n\\nSo, based on the provided information, it seems there\\'s a mix of preferences for Coke and Pepsi among the surveyed individuals, with no clear trend in preference based on age. However, without complete data, it\\'s difficult to draw definitive conclusions.'"
      ]
     },
     "execution_count": 6,
     "metadata": {},
     "output_type": "execute_result"
    }
   ],
   "source": [
    "\"\"\"To interpret the survey results, it seems the data is presented in two columns: one for age and the other for the soft drink preference. Here's a breakdown of the provided data:\n",
    "\n",
    "Age (Years): 25, 19, 31, 28\n",
    "Soft Drink Preference: Coke, Pepsi, Pepsi, Coke\n",
    "\n",
    "From the given data, it appears that four individuals participated in the survey. Here's the distribution of soft drink preferences by age:\n",
    "\n",
    "- Age 25: Coke\n",
    "- Age 19: Pepsi\n",
    "- Age 31: Pepsi\n",
    "- Age 28: Coke\n",
    "\n",
    "It's not entirely clear what \"Mountain Dew\" refers to. If it's another soft drink preference, then there might be an error in the provided data as it doesn't correspond to any of the ages listed. \n",
    "\n",
    "So, based on the provided information, it seems there's a mix of preferences for Coke and Pepsi among the surveyed individuals, with no clear trend in preference based on age. However, without complete data, it's difficult to draw definitive conclusions.\"\"\""
   ]
  },
  {
   "cell_type": "markdown",
   "id": "eef68545",
   "metadata": {},
   "source": [
    "Q6. A company is interested in examining the relationship between the number of sales calls made per day\n",
    "and the number of sales made per week. The company collected data on both variables from a sample of\n",
    "30 sales representatives. Calculate the Pearson correlation coefficient between these two variables."
   ]
  },
  {
   "cell_type": "code",
   "execution_count": 5,
   "id": "aa5339bd",
   "metadata": {},
   "outputs": [
    {
     "data": {
      "text/plain": [
       "'To calculate the Pearson correlation coefficient (r) between the number of sales calls made per day and the number of sales made per week, you need the data for both variables from the 30 sales representatives.\\n\\nOnce you have the data, you can calculate the Pearson correlation coefficient using the formula:\\n\\n\\\\[ r = \\x0crac{{\\\\sum{(X_i - \\x08ar{X})(Y_i - \\x08ar{Y})}}}{{\\\\sqrt{\\\\sum{(X_i - \\x08ar{X})^2} \\\\cdot \\\\sum{(Y_i - \\x08ar{Y})^2}}}} \\\\]\\n\\nWhere:\\n- \\\\( X_i \\\\) and \\\\( Y_i \\\\) are the individual data points for the number of sales calls made per day and the number of sales made per week, respectively.\\n- \\\\( \\x08ar{X} \\\\) and \\\\( \\x08ar{Y} \\\\) are the means of the number of sales calls made per day and the number of sales made per week, respectively.\\n\\nYou would calculate the means (\\\\( \\x08ar{X} \\\\) and \\\\( \\x08ar{Y} \\\\)), then calculate the deviations from the mean for each data point, multiply those deviations, sum them up, and divide by the product of the standard deviations of X and Y.\\n\\nWithout the actual data, we cannot compute the Pearson correlation coefficient. Once you have the data, you can input it into the formula to find the correlation coefficient.'"
      ]
     },
     "execution_count": 5,
     "metadata": {},
     "output_type": "execute_result"
    }
   ],
   "source": [
    "\"\"\"To calculate the Pearson correlation coefficient (r) between the number of sales calls made per day and the number of sales made per week, you need the data for both variables from the 30 sales representatives.\n",
    "\n",
    "Once you have the data, you can calculate the Pearson correlation coefficient using the formula:\n",
    "\n",
    "\\[ r = \\frac{{\\sum{(X_i - \\bar{X})(Y_i - \\bar{Y})}}}{{\\sqrt{\\sum{(X_i - \\bar{X})^2} \\cdot \\sum{(Y_i - \\bar{Y})^2}}}} \\]\n",
    "\n",
    "Where:\n",
    "- \\( X_i \\) and \\( Y_i \\) are the individual data points for the number of sales calls made per day and the number of sales made per week, respectively.\n",
    "- \\( \\bar{X} \\) and \\( \\bar{Y} \\) are the means of the number of sales calls made per day and the number of sales made per week, respectively.\n",
    "\n",
    "You would calculate the means (\\( \\bar{X} \\) and \\( \\bar{Y} \\)), then calculate the deviations from the mean for each data point, multiply those deviations, sum them up, and divide by the product of the standard deviations of X and Y.\n",
    "\n",
    "Without the actual data, we cannot compute the Pearson correlation coefficient. Once you have the data, you can input it into the formula to find the correlation coefficient.\"\"\""
   ]
  },
  {
   "cell_type": "code",
   "execution_count": null,
   "id": "526d12de",
   "metadata": {},
   "outputs": [],
   "source": []
  }
 ],
 "metadata": {
  "kernelspec": {
   "display_name": "Python 3 (ipykernel)",
   "language": "python",
   "name": "python3"
  },
  "language_info": {
   "codemirror_mode": {
    "name": "ipython",
    "version": 3
   },
   "file_extension": ".py",
   "mimetype": "text/x-python",
   "name": "python",
   "nbconvert_exporter": "python",
   "pygments_lexer": "ipython3",
   "version": "3.9.13"
  }
 },
 "nbformat": 4,
 "nbformat_minor": 5
}
