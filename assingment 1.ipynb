{
 "cells": [
  {
   "cell_type": "markdown",
   "id": "3e1c32dd",
   "metadata": {},
   "source": [
    "<!--  creating variable of each type\n",
    " Question 1 answer given below -->\n"
   ]
  },
  {
   "cell_type": "code",
   "execution_count": null,
   "id": "c39cb7b4",
   "metadata": {},
   "outputs": [],
   "source": [
    "## Question 1 answer given below"
   ]
  },
  {
   "cell_type": "code",
   "execution_count": 6,
   "id": "04f53cfd",
   "metadata": {},
   "outputs": [
    {
     "name": "stdout",
     "output_type": "stream",
     "text": [
      "sahil\n",
      "<class 'str'>\n",
      "['sahil', 3, 4.9, 9]\n",
      "<class 'list'>\n",
      "7.4\n",
      "<class 'float'>\n",
      "('sahil', 3, 4.9, 9)\n",
      "<class 'tuple'>\n"
     ]
    }
   ],
   "source": [
    "name=\"sahil\"\n",
    "l=[\"sahil\",3,4.9,9]\n",
    "k=7.4\n",
    "t=(\"sahil\",3,4.9,9)\n",
    "print(name)\n",
    "print(type(name))\n",
    "print(l)\n",
    "print(type(l))\n",
    "print(k)\n",
    "print(type(k))\n",
    "print(t)\n",
    "print(type(t))"
   ]
  },
  {
   "cell_type": "code",
   "execution_count": 7,
   "id": "9839cbb6",
   "metadata": {},
   "outputs": [],
   "source": [
    "## Question 2 answer given below"
   ]
  },
  {
   "cell_type": "code",
   "execution_count": 16,
   "id": "d0388473",
   "metadata": {},
   "outputs": [
    {
     "name": "stdout",
     "output_type": "stream",
     "text": [
      "<class 'str'>\n",
      "<class 'str'>\n",
      "<class 'list'>\n",
      "<class 'float'>\n"
     ]
    }
   ],
   "source": [
    "var1 = ' '\n",
    "var2 = '[ DS , ML , Python]'\n",
    "var3 = [ 'DS' , 'ML' , 'Python' ]\n",
    "var4 = 1.\n",
    "print(type(var1))\n",
    "print(type(var2))\n",
    "print(type(var3))\n",
    "print(type(var4))\n"
   ]
  },
  {
   "cell_type": "markdown",
   "id": "71455620",
   "metadata": {},
   "source": [
    "## Question 3 answer  below\n",
    "(i) /\n",
    "(ii) %\n",
    "(iii) //\n",
    "(iv) **\n"
   ]
  },
  {
   "cell_type": "markdown",
   "id": "be54bd2c",
   "metadata": {},
   "source": [
    "# /\n",
    "This operator is used for  finding Qutoient value."
   ]
  },
  {
   "cell_type": "code",
   "execution_count": 18,
   "id": "ba820c42",
   "metadata": {},
   "outputs": [
    {
     "data": {
      "text/plain": [
       "2"
      ]
     },
     "execution_count": 18,
     "metadata": {},
     "output_type": "execute_result"
    }
   ],
   "source": [
    "int(10/5)"
   ]
  },
  {
   "cell_type": "markdown",
   "id": "914251db",
   "metadata": {},
   "source": [
    "# %\n",
    "This operator is used for finding remainder."
   ]
  },
  {
   "cell_type": "code",
   "execution_count": 19,
   "id": "fb9f6236",
   "metadata": {},
   "outputs": [
    {
     "data": {
      "text/plain": [
       "0"
      ]
     },
     "execution_count": 19,
     "metadata": {},
     "output_type": "execute_result"
    }
   ],
   "source": [
    "10%2"
   ]
  },
  {
   "cell_type": "markdown",
   "id": "cac37d0b",
   "metadata": {},
   "source": [
    "# //\n",
    "This operator is used to get floor values"
   ]
  },
  {
   "cell_type": "code",
   "execution_count": 20,
   "id": "b8a1b753",
   "metadata": {},
   "outputs": [
    {
     "data": {
      "text/plain": [
       "1"
      ]
     },
     "execution_count": 20,
     "metadata": {},
     "output_type": "execute_result"
    }
   ],
   "source": [
    "10//6"
   ]
  },
  {
   "cell_type": "markdown",
   "id": "678ddbc6",
   "metadata": {},
   "source": [
    "# ** \n",
    "This operator is used  for doing Expotentation."
   ]
  },
  {
   "cell_type": "code",
   "execution_count": 21,
   "id": "2d5970bf",
   "metadata": {},
   "outputs": [
    {
     "name": "stdout",
     "output_type": "stream",
     "text": [
      "32\n"
     ]
    }
   ],
   "source": [
    "x = 2\n",
    "y = 5\n",
    "\n",
    "print(x ** y) #same as 2*2*2*2*2"
   ]
  },
  {
   "cell_type": "markdown",
   "id": "1a169c98",
   "metadata": {},
   "source": [
    "#Q4. Create a list of length 10 of your choice containing multiple types of data. Using for loop print the\n",
    "element and its data type."
   ]
  },
  {
   "cell_type": "code",
   "execution_count": 23,
   "id": "de84c177",
   "metadata": {},
   "outputs": [
    {
     "name": "stdout",
     "output_type": "stream",
     "text": [
      "<class 'str'> sahil\n",
      "<class 'int'> 69\n",
      "<class 'str'> gupta\n",
      "<class 'float'> 7.9\n",
      "<class 'str'> A\n",
      "<class 'int'> 34\n",
      "<class 'str'> python\n",
      "<class 'str'> pytorch\n",
      "<class 'int'> 1\n",
      "<class 'int'> 89\n"
     ]
    }
   ],
   "source": [
    "## creating list\n",
    "l=[\"sahil\",69,\"gupta\",7.9,'A',34,\"python\",\"pytorch\",1,89]\n",
    "len(l)\n",
    "for i in l:\n",
    "    print(type(i),i)\n"
   ]
  },
  {
   "cell_type": "raw",
   "id": "a4466320",
   "metadata": {},
   "source": [
    "Q4.Create a list containing 25 int type data. Using for loop and if-else condition print if the element is\n",
    "divisible by 3 or not."
   ]
  },
  {
   "cell_type": "code",
   "execution_count": 34,
   "id": "6e7e7b08",
   "metadata": {},
   "outputs": [
    {
     "name": "stdout",
     "output_type": "stream",
     "text": [
      "3 is divisible by 3\n",
      "6 is divisible by 3\n",
      "9 is divisible by 3\n",
      "12 is divisible by 3\n",
      "15 is divisible by 3\n",
      "18 is divisible by 3\n",
      "21 is divisible by 3\n",
      "24 is divisible by 3\n"
     ]
    }
   ],
   "source": [
    "## creating a list\n",
    "l=[1,2,3,4,5,6,7,8,9,10,11,12,13,14,15,16,17,18,19,20,21,22,23,24,25]\n",
    "len(l)\n",
    "for i in l:\n",
    "    if(i%3==0):\n",
    "        print(i,\"is divisible by 3\")\n",
    "    else:\n",
    "        continue"
   ]
  },
  {
   "cell_type": "raw",
   "id": "df632b8c",
   "metadata": {},
   "source": [
    "Q5. Using a while loop, verify if the number A is purely divisible by number B and if so then how many\n",
    "times it can be divisible."
   ]
  },
  {
   "cell_type": "code",
   "execution_count": 13,
   "id": "f16eb7aa",
   "metadata": {},
   "outputs": [
    {
     "name": "stdout",
     "output_type": "stream",
     "text": [
      "number not purely divisible\n",
      "complete\n"
     ]
    }
   ],
   "source": [
    "a = 18\n",
    "b = 5\n",
    "s = b\n",
    "i = 1\n",
    "while(s<=a):\n",
    "    s = b*i\n",
    "    if(a == s):\n",
    "        print(i)\n",
    "        break\n",
    "    i = i+1\n",
    "else:\n",
    "    print(\"number not purely divisible\")\n",
    "print('complete')"
   ]
  },
  {
   "cell_type": "raw",
   "id": "2433263f",
   "metadata": {},
   "source": [
    "Question 7 answer below\n",
    "##What do you understand about mutable and immutable data types? Give examples for both showingthis property.\n",
    "Immutable datatypes are objects that cannot be modified or altered after they have been created \n",
    "(for example, by adding new elements, removing elements, or replacing elements).\n",
    "Python's immutable data types are: Int. Float. Tuple.28\n",
    "## mutable datatype\n",
    "An object that allows you to change its values without changing its identity is a mutable object.\n",
    "Examples : List, Set, Dictionary"
   ]
  },
  {
   "cell_type": "code",
   "execution_count": 26,
   "id": "ea3e514b",
   "metadata": {},
   "outputs": [
    {
     "ename": "TypeError",
     "evalue": "'tuple' object does not support item assignment",
     "output_type": "error",
     "traceback": [
      "\u001b[1;31m---------------------------------------------------------------------------\u001b[0m",
      "\u001b[1;31mTypeError\u001b[0m                                 Traceback (most recent call last)",
      "\u001b[1;32m~\\AppData\\Local\\Temp\\ipykernel_18024\\42423401.py\u001b[0m in \u001b[0;36m<module>\u001b[1;34m\u001b[0m\n\u001b[0;32m      3\u001b[0m \u001b[1;33m\u001b[0m\u001b[0m\n\u001b[0;32m      4\u001b[0m \u001b[0mtuple1\u001b[0m \u001b[1;33m=\u001b[0m \u001b[1;33m(\u001b[0m\u001b[1;36m0\u001b[0m\u001b[1;33m,\u001b[0m \u001b[1;36m1\u001b[0m\u001b[1;33m,\u001b[0m \u001b[1;36m2\u001b[0m\u001b[1;33m,\u001b[0m \u001b[1;36m3\u001b[0m\u001b[1;33m)\u001b[0m\u001b[1;33m\u001b[0m\u001b[1;33m\u001b[0m\u001b[0m\n\u001b[1;32m----> 5\u001b[1;33m \u001b[0mtuple1\u001b[0m\u001b[1;33m[\u001b[0m\u001b[1;36m0\u001b[0m\u001b[1;33m]\u001b[0m \u001b[1;33m=\u001b[0m \u001b[1;36m4\u001b[0m\u001b[1;33m\u001b[0m\u001b[1;33m\u001b[0m\u001b[0m\n\u001b[0m\u001b[0;32m      6\u001b[0m \u001b[0mprint\u001b[0m\u001b[1;33m(\u001b[0m\u001b[0mtuple1\u001b[0m\u001b[1;33m)\u001b[0m\u001b[1;33m\u001b[0m\u001b[1;33m\u001b[0m\u001b[0m\n\u001b[0;32m      7\u001b[0m \u001b[1;33m\u001b[0m\u001b[0m\n",
      "\u001b[1;31mTypeError\u001b[0m: 'tuple' object does not support item assignment"
     ]
    }
   ],
   "source": [
    "\n",
    "# Python code to test that\n",
    "# tuples are immutable \n",
    "tuple1 = (0, 1, 2, 3)\n",
    "tuple1[0] = 4\n",
    "print(tuple1)\n",
    "\n"
   ]
  },
  {
   "cell_type": "code",
   "execution_count": 27,
   "id": "c4b93dcc",
   "metadata": {},
   "outputs": [
    {
     "name": "stdout",
     "output_type": "stream",
     "text": [
      "['red', 'blue', 'green']\n",
      "['pink', 'blue', 'orange']\n"
     ]
    }
   ],
   "source": [
    "# Python code to test that\n",
    "# lists are mutable\n",
    "color = [\"red\", \"blue\", \"green\"]\n",
    "print(color)\n",
    " \n",
    "color[0] = \"pink\"\n",
    "color[-1] = \"orange\"\n",
    "print(color)"
   ]
  },
  {
   "cell_type": "code",
   "execution_count": 16,
   "id": "faacca3d",
   "metadata": {},
   "outputs": [
    {
     "name": "stdout",
     "output_type": "stream",
     "text": [
      " Volume in drive C is Windows\n",
      " Volume Serial Number is 68B7-69C8\n",
      "\n",
      " Directory of C:\\Users\\sahil\n",
      "\n",
      "06-06-2023  09:49    <DIR>          .\n",
      "18-03-2023  15:16    <DIR>          ..\n",
      "24-04-2023  23:25    <DIR>          .android\n",
      "26-03-2023  01:11    <DIR>          .cache\n",
      "24-05-2023  10:29    <DIR>          .conda\n",
      "23-05-2023  21:28                25 .condarc\n",
      "23-05-2023  21:27    <DIR>          .continuum\n",
      "11-04-2023  23:50                16 .emulator_console_auth_token\n",
      "26-03-2023  01:24    <DIR>          .gradle\n",
      "05-06-2023  22:52    <DIR>          .ipynb_checkpoints\n",
      "02-02-2023  20:01    <DIR>          .ipython\n",
      "02-02-2023  20:01    <DIR>          .jupyter\n",
      "26-03-2023  01:25    <DIR>          .m2\n",
      "02-02-2023  20:26    <DIR>          .matplotlib\n",
      "09-02-2023  23:26    <DIR>          .ms-ad\n",
      "21-01-2023  18:55    <DIR>          .vscode\n",
      "24-05-2023  10:29    <DIR>          .vscode-cli\n",
      "31-05-2023  12:02             1,254 AMDRM_Install.log\n",
      "11-04-2023  23:35    <DIR>          AndroidStudioProjects\n",
      "24-03-2023  20:29               378 archive.zip\n",
      "06-06-2023  09:49            10,190 assingment 1.ipynb\n",
      "24-04-2023  22:34            15,698 Automated EDA using pandas-profiling.ipynb\n",
      "25-03-2023  11:18            22,583 Banglore house prediction.ipynb\n",
      "22-02-2023  20:11    <DIR>          c++ coding\n",
      "24-03-2023  21:05            17,209 car data.csv\n",
      "24-03-2023  22:43           119,725 car price prediction.ipynb\n",
      "03-06-2023  10:28        53,244,531 chart in data visualization training.ipynb\n",
      "18-03-2023  15:38    <DIR>          Contacts\n",
      "22-02-2023  21:41             1,191 Country Satisfaction Prediction using Linear Regression .csv\n",
      "18-04-2023  22:00            28,198 cross validation.ipynb\n",
      "25-02-2023  00:09           872,091 Data cleanong.ipynb\n",
      "31-05-2023  11:51            19,658 Data visualizaton and training.ipynb\n",
      "22-02-2023  20:57    <DIR>          datasets\n",
      "11-04-2023  22:56           186,823 decisiom classifierr.ipynb\n",
      "14-03-2023  22:54            47,632 Desktop.ipynb\n",
      "08-02-2023  15:21    <DIR>          Documents\n",
      "03-06-2023  21:28    <DIR>          Downloads\n",
      "24-04-2023  23:03            15,641 EDA using D-Tale library.ipynb\n",
      "24-04-2023  22:44            10,215 EDA using sweeetviz library.ipynb\n",
      "18-03-2023  15:38    <DIR>          Favorites\n",
      "20-03-2023  10:51           154,139 first project.ipynb\n",
      "01-06-2023  21:07    <DIR>          flask-blog\n",
      "22-02-2023  20:59               913 gdp_happiness.csv\n",
      "24-02-2023  23:10           203,809 house-prices-advanced-regression-techniques.zip\n",
      "05-06-2023  12:07    <DIR>          Html and css\n",
      "24-04-2023  18:39             1,108 Indian flag using python.ipynb\n",
      "27-05-2023  10:49    <DIR>          java coding\n",
      "18-03-2023  15:38    <DIR>          Links\n",
      "20-03-2023  11:06           344,092 logistic regression.ipynb\n",
      "18-03-2023  15:38    <DIR>          Music\n",
      "28-03-2023  21:35             3,388 numpy tutorial1.ipynb\n",
      "30-05-2023  09:32    <DIR>          OneDrive\n",
      "24-04-2023  22:34           979,070 output.html\n",
      "24-04-2023  23:27    <DIR>          PycharmProject\n",
      "20-03-2023  14:53               452 salary_data.csv\n",
      "18-03-2023  15:38    <DIR>          Saved Games\n",
      "24-04-2023  22:30    <DIR>          seaborn-data\n",
      "18-03-2023  15:38    <DIR>          Searches\n",
      "24-04-2023  22:42           923,199 SWEETVIZ_REPORT.html\n",
      "02-03-2023  22:19            19,676 train test.ipynb\n",
      "24-02-2023  23:15           462,137 train_csv\n",
      "02-02-2023  20:03               589 Untitled.ipynb\n",
      "02-02-2023  20:25                 0 untitled.txt\n",
      "02-02-2023  21:04           155,816 Untitled1.ipynb\n",
      "28-03-2023  12:09            14,307 Untitled10.ipynb\n",
      "25-02-2023  22:37                72 Untitled11.ipynb\n",
      "27-02-2023  21:54            25,460 Untitled12.ipynb\n",
      "28-02-2023  21:23               931 Untitled13.ipynb\n",
      "28-02-2023  22:06             1,366 Untitled14.ipynb\n",
      "02-03-2023  22:17            19,523 Untitled15.ipynb\n",
      "14-03-2023  22:18               589 Untitled16.ipynb\n",
      "15-03-2023  13:10            19,513 Untitled17.ipynb\n",
      "15-03-2023  15:34           344,058 Untitled18.ipynb\n",
      "20-03-2023  14:10             1,469 Untitled19.ipynb\n",
      "21-02-2023  14:54             9,886 Untitled2.ipynb\n",
      "20-03-2023  15:10            15,139 Untitled20.ipynb\n",
      "23-03-2023  20:51            45,313 Untitled21.ipynb\n",
      "26-03-2023  23:08               589 Untitled22.ipynb\n",
      "09-04-2023  13:33             4,432 Untitled23.ipynb\n",
      "09-04-2023  14:53             1,139 Untitled24.ipynb\n",
      "15-04-2023  12:09             3,968 Untitled25.ipynb\n",
      "11-04-2023  22:31               589 Untitled26.ipynb\n",
      "14-04-2023  13:39                72 Untitled27.ipynb\n",
      "22-04-2023  15:15             1,360 Untitled28.ipynb\n",
      "05-06-2023  22:54             1,172 Untitled29.ipynb\n",
      "21-02-2023  21:32             9,614 Untitled3.ipynb\n",
      "22-02-2023  19:21            10,060 Untitled4.ipynb\n",
      "03-06-2023  10:25            19,350 Untitled5.ipynb\n",
      "22-02-2023  21:34            36,418 Untitled6.ipynb\n",
      "22-02-2023  20:59             1,651 Untitled7.ipynb\n",
      "14-03-2023  22:16            58,438 Untitled8.ipynb\n",
      "25-02-2023  22:39           929,668 Untitled9.ipynb\n",
      "18-03-2023  15:38    <DIR>          Videos\n",
      "              60 File(s)     59,437,592 bytes\n",
      "              33 Dir(s)  171,755,618,304 bytes free\n"
     ]
    }
   ],
   "source": [
    "!dir\n"
   ]
  },
  {
   "cell_type": "code",
   "execution_count": null,
   "id": "aa190dba",
   "metadata": {},
   "outputs": [],
   "source": []
  }
 ],
 "metadata": {
  "kernelspec": {
   "display_name": "Python 3 (ipykernel)",
   "language": "python",
   "name": "python3"
  },
  "language_info": {
   "codemirror_mode": {
    "name": "ipython",
    "version": 3
   },
   "file_extension": ".py",
   "mimetype": "text/x-python",
   "name": "python",
   "nbconvert_exporter": "python",
   "pygments_lexer": "ipython3",
   "version": "3.9.13"
  }
 },
 "nbformat": 4,
 "nbformat_minor": 5
}
