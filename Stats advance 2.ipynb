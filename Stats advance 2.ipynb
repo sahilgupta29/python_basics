{
 "cells": [
  {
   "cell_type": "markdown",
   "id": "0ed1d46c",
   "metadata": {},
   "source": [
    "Q1: What are the Probability Mass Function (PMF) and Probability Density Function (PDF)? Explain with\n",
    "an example."
   ]
  },
  {
   "cell_type": "code",
   "execution_count": 1,
   "id": "8dd9fb59",
   "metadata": {},
   "outputs": [
    {
     "data": {
      "text/plain": [
       "'Probability Mass Function (PMF) and Probability Density Function (PDF) are mathematical concepts used to describe\\nthe distribution of probabilities or likelihoods of different outcomes in a discrete and continuous random variable,\\nrespectively.\\n\\n**PMF (Probability Mass Function):**\\n- Used for discrete random variables.\\n- Gives the probability of each specific outcome.\\n- Often represented as a table, graph, or formula.\\n- Example: Rolling a fair six-sided die. The PMF gives the probabilities of rolling each number (1, 2, 3, 4, 5, or 6).\\n\\n**PDF (Probability Density Function):**\\n- Used for continuous random variables.\\n- Gives the relative likelihood of a variable falling within a range of values.\\n- Often represented by a curve on a graph.\\n- Example: Height of individuals in a population. The PDF gives the likelihood of finding people within certain height intervals.\\n\\nIn summary, PMF is for discrete outcomes and provides specific probabilities, while PDF is for continuous outcomes and \\ngives the likelihood of values in a range.'"
      ]
     },
     "execution_count": 1,
     "metadata": {},
     "output_type": "execute_result"
    }
   ],
   "source": [
    "\"\"\"Probability Mass Function (PMF) and Probability Density Function (PDF) are mathematical concepts used to describe\n",
    "the distribution of probabilities or likelihoods of different outcomes in a discrete and continuous random variable,\n",
    "respectively.\n",
    "\n",
    "**PMF (Probability Mass Function):**\n",
    "- Used for discrete random variables.\n",
    "- Gives the probability of each specific outcome.\n",
    "- Often represented as a table, graph, or formula.\n",
    "- Example: Rolling a fair six-sided die. The PMF gives the probabilities of rolling each number (1, 2, 3, 4, 5, or 6).\n",
    "\n",
    "**PDF (Probability Density Function):**\n",
    "- Used for continuous random variables.\n",
    "- Gives the relative likelihood of a variable falling within a range of values.\n",
    "- Often represented by a curve on a graph.\n",
    "- Example: Height of individuals in a population. The PDF gives the likelihood of finding people within certain height intervals.\n",
    "\n",
    "In summary, PMF is for discrete outcomes and provides specific probabilities, while PDF is for continuous outcomes and \n",
    "gives the likelihood of values in a range.\"\"\""
   ]
  },
  {
   "cell_type": "markdown",
   "id": "8def8238",
   "metadata": {},
   "source": [
    "Q2: What is Cumulative Density Function (CDF)? Explain with an example. Why CDF is used?"
   ]
  },
  {
   "cell_type": "code",
   "execution_count": 2,
   "id": "5e57e0f9",
   "metadata": {},
   "outputs": [
    {
     "data": {
      "text/plain": [
       "'**Cumulative Density Function (CDF):**\\nThe Cumulative Density Function (CDF) is a mathematical concept used in probability and statistics to describe the \\nprobability that a random variable takes on a value less than or equal to a given value. In other words, it provides \\ninformation about the cumulative probability distribution of a random variable.\\n\\n**Example:**\\nConsider a fair six-sided die. The CDF of this die gives the probability of rolling a number less than or equal to \\na specific value. For each value on the die (1, 2, 3, 4, 5, 6), the CDF would show the cumulative probability of rolling \\nthat value or lower. The CDF table might look like this:\\n\\n| Value (x) | CDF(x) |\\n|-----------|--------|\\n| 1         | 1/6    |\\n| 2         | 2/6    |\\n| 3         | 3/6    |\\n| 4         | 4/6    |\\n| 5         | 5/6    |\\n| 6         | 6/6    |\\n\\n**Why CDF is Used:**\\n1. **Probability Calculation:** The CDF provides a way to calculate probabilities for a range of values without needing \\nto sum up individual probabilities. For example, to find the probability of rolling a 3 or less on a fair six-sided die,\\nyou can simply look up the CDF value for 3 (which is 3/6 = 0.5).\\n\\n2. **Quantile Calculation:** CDF also helps find quantiles, which are values that divide a distribution into specified \\nproportions. For example, you can use the CDF to find the value below which a certain percentage of data falls \\n(e.g., the 75th percentile).\\n\\n3. **Distribution Properties:** The CDF provides insights into the shape, spread, and characteristics of a probability \\ndistribution, helping researchers and analysts understand the behavior of random variables.\\n\\n4. **Statistical Analysis:** CDF is used in various statistical analyses, hypothesis testing, and modeling, aiding in \\nmaking informed decisions based on the distribution of data.\\n\\nIn summary, the Cumulative Density Function (CDF) is a valuable tool that simplifies probability calculations, \\n\\nhelps analyze distributions, and provides insights into the behavior of random variables.'"
      ]
     },
     "execution_count": 2,
     "metadata": {},
     "output_type": "execute_result"
    }
   ],
   "source": [
    "\"\"\"**Cumulative Density Function (CDF):**\n",
    "The Cumulative Density Function (CDF) is a mathematical concept used in probability and statistics to describe the \n",
    "probability that a random variable takes on a value less than or equal to a given value. In other words, it provides \n",
    "information about the cumulative probability distribution of a random variable.\n",
    "\n",
    "**Example:**\n",
    "Consider a fair six-sided die. The CDF of this die gives the probability of rolling a number less than or equal to \n",
    "a specific value. For each value on the die (1, 2, 3, 4, 5, 6), the CDF would show the cumulative probability of rolling \n",
    "that value or lower. The CDF table might look like this:\n",
    "\n",
    "| Value (x) | CDF(x) |\n",
    "|-----------|--------|\n",
    "| 1         | 1/6    |\n",
    "| 2         | 2/6    |\n",
    "| 3         | 3/6    |\n",
    "| 4         | 4/6    |\n",
    "| 5         | 5/6    |\n",
    "| 6         | 6/6    |\n",
    "\n",
    "**Why CDF is Used:**\n",
    "1. **Probability Calculation:** The CDF provides a way to calculate probabilities for a range of values without needing \n",
    "to sum up individual probabilities. For example, to find the probability of rolling a 3 or less on a fair six-sided die,\n",
    "you can simply look up the CDF value for 3 (which is 3/6 = 0.5).\n",
    "\n",
    "2. **Quantile Calculation:** CDF also helps find quantiles, which are values that divide a distribution into specified \n",
    "proportions. For example, you can use the CDF to find the value below which a certain percentage of data falls \n",
    "(e.g., the 75th percentile).\n",
    "\n",
    "3. **Distribution Properties:** The CDF provides insights into the shape, spread, and characteristics of a probability \n",
    "distribution, helping researchers and analysts understand the behavior of random variables.\n",
    "\n",
    "4. **Statistical Analysis:** CDF is used in various statistical analyses, hypothesis testing, and modeling, aiding in \n",
    "making informed decisions based on the distribution of data.\n",
    "\n",
    "In summary, the Cumulative Density Function (CDF) is a valuable tool that simplifies probability calculations, \n",
    "\n",
    "helps analyze distributions, and provides insights into the behavior of random variables.\"\"\"\n"
   ]
  },
  {
   "cell_type": "markdown",
   "id": "9b3dffad",
   "metadata": {},
   "source": [
    "Q3: What are some examples of situations where the normal distribution might be used as a model?\n",
    "Explain how the parameters of the normal distribution relate to the shape of the distribution."
   ]
  },
  {
   "cell_type": "code",
   "execution_count": 3,
   "id": "8bfc369f",
   "metadata": {},
   "outputs": [
    {
     "data": {
      "text/plain": [
       "'**Examples of Situations Using the Normal Distribution:**\\n- Heights of people, test scores, measurement errors, stock returns, IQ scores, natural phenomena.\\n\\n**Parameters and Shape of the Normal Distribution:**\\n- Mean (μ) determines the central location (peak) of the distribution.\\n- Standard deviation (σ) controls the spread (width) of the curve.\\n- Larger σ leads to wider, flatter curve; smaller σ results in narrower, taller curve.\\n- μ and σ together define the entire shape of the normal distribution.'"
      ]
     },
     "execution_count": 3,
     "metadata": {},
     "output_type": "execute_result"
    }
   ],
   "source": [
    "\"\"\"**Examples of Situations Using the Normal Distribution:**\n",
    "- Heights of people, test scores, measurement errors, stock returns, IQ scores, natural phenomena.\n",
    "\n",
    "**Parameters and Shape of the Normal Distribution:**\n",
    "- Mean (μ) determines the central location (peak) of the distribution.\n",
    "- Standard deviation (σ) controls the spread (width) of the curve.\n",
    "- Larger σ leads to wider, flatter curve; smaller σ results in narrower, taller curve.\n",
    "- μ and σ together define the entire shape of the normal distribution.\"\"\""
   ]
  },
  {
   "cell_type": "markdown",
   "id": "96fd0f19",
   "metadata": {},
   "source": [
    "Q4: Explain the importance of Normal Distribution. Give a few real-life examples of Normal\n",
    "Distribution."
   ]
  },
  {
   "cell_type": "code",
   "execution_count": 4,
   "id": "737fd4aa",
   "metadata": {},
   "outputs": [
    {
     "data": {
      "text/plain": [
       "\"The Normal Distribution holds significant importance in statistics, probability theory, and data analysis \\ndue to its wide-ranging applicability and several essential properties. Here's why the Normal Distribution is important,\\nalong with a few real-life examples:\\n\\n**Importance of Normal Distribution:**\\n\\n1. **Central Limit Theorem:** The Normal Distribution is a crucial component of the Central Limit Theorem, \\nwhich states that the sum or average of a large number of independent, identically distributed random variables tends\\nto follow a normal distribution, regardless of the original distribution. This theorem underpins many statistical methods \\nand hypothesis tests.\\n\\n2. **Statistical Inference:** Many statistical methods and tests, such as t-tests, ANOVA, and regression analysis, \\nassume that the underlying data follows a normal distribution. This simplifies calculations and ensures the validity\\nof these methods.\\n\\n3. **Predictive Modeling:** The Normal Distribution is used in predictive modeling and machine learning algorithms to estimate \\nparameters and make predictions. It provides a solid foundation for building models that describe real-world phenomena.\\n\\n4. **Standardization:** The concept of z-scores, which standardize data to a standard normal distribution\\n(mean of 0 and standard deviation of 1), allows for easier comparison and analysis across different datasets.\\n\\n**Real-Life Examples of Normal Distribution:**\\n\\n1. **Heights of People:** The heights of people in a large population often follow a normal distribution. \\nMost people fall near the average height, with fewer individuals being extremely tall or short.\\n\\n2. **Exam Scores:** In a well-designed exam, the scores of a large number of students tend to approximate a normal distribution.\\nMany educational institutions use normal distribution assumptions for grading purposes.\\n\\n3. **Blood Pressure:** Blood pressure readings in a population can exhibit a normal distribution, with most individuals\\nhaving readings around the mean and fewer individuals having extremely high or low readings.\\n\\n4. **Measurement Errors:** Errors in scientific measurements, such as length, weight, or temperature, often follow a normal \\ndistribution. This is crucial for assessing the reliability of experimental data.\\n\\n5. **Astronomical Observations:** The brightness of stars in the sky or other astronomical measurements can follow a \\nnormal distribution due to the complex interactions of various factors.\\n\\n6. **Financial Market Returns:** Daily stock price returns in financial markets tend to have a distribution that is\\napproximately normal, which is essential for risk assessment and portfolio management.\\n\\n\""
      ]
     },
     "execution_count": 4,
     "metadata": {},
     "output_type": "execute_result"
    }
   ],
   "source": [
    "\"\"\"The Normal Distribution holds significant importance in statistics, probability theory, and data analysis \n",
    "due to its wide-ranging applicability and several essential properties. Here's why the Normal Distribution is important,\n",
    "along with a few real-life examples:\n",
    "\n",
    "**Importance of Normal Distribution:**\n",
    "\n",
    "1. **Central Limit Theorem:** The Normal Distribution is a crucial component of the Central Limit Theorem, \n",
    "which states that the sum or average of a large number of independent, identically distributed random variables tends\n",
    "to follow a normal distribution, regardless of the original distribution. This theorem underpins many statistical methods \n",
    "and hypothesis tests.\n",
    "\n",
    "2. **Statistical Inference:** Many statistical methods and tests, such as t-tests, ANOVA, and regression analysis, \n",
    "assume that the underlying data follows a normal distribution. This simplifies calculations and ensures the validity\n",
    "of these methods.\n",
    "\n",
    "3. **Predictive Modeling:** The Normal Distribution is used in predictive modeling and machine learning algorithms to estimate \n",
    "parameters and make predictions. It provides a solid foundation for building models that describe real-world phenomena.\n",
    "\n",
    "4. **Standardization:** The concept of z-scores, which standardize data to a standard normal distribution\n",
    "(mean of 0 and standard deviation of 1), allows for easier comparison and analysis across different datasets.\n",
    "\n",
    "**Real-Life Examples of Normal Distribution:**\n",
    "\n",
    "1. **Heights of People:** The heights of people in a large population often follow a normal distribution. \n",
    "Most people fall near the average height, with fewer individuals being extremely tall or short.\n",
    "\n",
    "2. **Exam Scores:** In a well-designed exam, the scores of a large number of students tend to approximate a normal distribution.\n",
    "Many educational institutions use normal distribution assumptions for grading purposes.\n",
    "\n",
    "3. **Blood Pressure:** Blood pressure readings in a population can exhibit a normal distribution, with most individuals\n",
    "having readings around the mean and fewer individuals having extremely high or low readings.\n",
    "\n",
    "4. **Measurement Errors:** Errors in scientific measurements, such as length, weight, or temperature, often follow a normal \n",
    "distribution. This is crucial for assessing the reliability of experimental data.\n",
    "\n",
    "5. **Astronomical Observations:** The brightness of stars in the sky or other astronomical measurements can follow a \n",
    "normal distribution due to the complex interactions of various factors.\n",
    "\n",
    "6. **Financial Market Returns:** Daily stock price returns in financial markets tend to have a distribution that is\n",
    "approximately normal, which is essential for risk assessment and portfolio management.\n",
    "\n",
    "\"\"\""
   ]
  },
  {
   "cell_type": "markdown",
   "id": "c970e439",
   "metadata": {},
   "source": [
    "Q5: What is Bernaulli Distribution? Give an Example. What is the difference between Bernoulli\n",
    "Distribution and Binomial Distribution?"
   ]
  },
  {
   "cell_type": "code",
   "execution_count": 5,
   "id": "c6751ffd",
   "metadata": {},
   "outputs": [
    {
     "data": {
      "text/plain": [
       "'**Bernoulli Distribution:**\\nThe Bernoulli Distribution is a discrete probability distribution that models a single trial of an experiment with \\ntwo possible outcomes: success (usually denoted as \"S\") with probability \"p\" and failure (usually denoted as \"F\") \\nwith probability \"q,\" where q = 1 - p. In essence, it describes a simple yes/no or success/failure scenario.\\n\\n**Example of Bernoulli Distribution:**\\nFlipping a fair coin can be modeled using a Bernoulli Distribution. Let\\'s say we define \"heads\" as success (S) with a\\nprobability of 0.5 (p = 0.5), and \"tails\" as failure (F) with a probability of 0.5 (q = 0.5). In this case, the Bernoulli \\nDistribution represents the outcome of a single coin flip.\\n\\n**Difference Between Bernoulli and Binomial Distributions:**\\n\\n1. **Number of Trials:**\\n   - **Bernoulli Distribution:** Represents a single trial with two possible outcomes.\\n   - **Binomial Distribution:** Represents multiple independent Bernoulli trials with the same probability of success.\\n\\n2. **Number of Outcomes:**\\n   - **Bernoulli Distribution:** Has two possible outcomes: success (S) and failure (F).\\n   - **Binomial Distribution:** Counts the number of successes in a fixed number of trials (n).\\n\\n3. **Parameters:**\\n   - **Bernoulli Distribution:** It has a single parameter, the probability of success (p).\\n   - **Binomial Distribution:** It has two parameters: the number of trials (n) and the probability of success (p).\\n\\n4. **Use Cases:**\\n   - **Bernoulli Distribution:** Used for modeling a single yes/no experiment, like a coin flip or a single trial of a binary event.\\n   - **Binomial Distribution:** Used for modeling the number of successes in a fixed number of independent Bernoulli trials, \\n   such as counting the number of heads in a series of coin flips.\\n\\n5. **Probability Mass Function (PMF):**\\n   - **Bernoulli Distribution:** PMF is P(X = x) = p^x * q^(1-x), where x = 0 (failure) or 1 (success).\\n   - **Binomial Distribution:** PMF is P(X = k) = (n choose k) * p^k * q^(n-k), where k is the number of successes.'"
      ]
     },
     "execution_count": 5,
     "metadata": {},
     "output_type": "execute_result"
    }
   ],
   "source": [
    "\"\"\"**Bernoulli Distribution:**\n",
    "The Bernoulli Distribution is a discrete probability distribution that models a single trial of an experiment with \n",
    "two possible outcomes: success (usually denoted as \"S\") with probability \"p\" and failure (usually denoted as \"F\") \n",
    "with probability \"q,\" where q = 1 - p. In essence, it describes a simple yes/no or success/failure scenario.\n",
    "\n",
    "**Example of Bernoulli Distribution:**\n",
    "Flipping a fair coin can be modeled using a Bernoulli Distribution. Let's say we define \"heads\" as success (S) with a\n",
    "probability of 0.5 (p = 0.5), and \"tails\" as failure (F) with a probability of 0.5 (q = 0.5). In this case, the Bernoulli \n",
    "Distribution represents the outcome of a single coin flip.\n",
    "\n",
    "**Difference Between Bernoulli and Binomial Distributions:**\n",
    "\n",
    "1. **Number of Trials:**\n",
    "   - **Bernoulli Distribution:** Represents a single trial with two possible outcomes.\n",
    "   - **Binomial Distribution:** Represents multiple independent Bernoulli trials with the same probability of success.\n",
    "\n",
    "2. **Number of Outcomes:**\n",
    "   - **Bernoulli Distribution:** Has two possible outcomes: success (S) and failure (F).\n",
    "   - **Binomial Distribution:** Counts the number of successes in a fixed number of trials (n).\n",
    "\n",
    "3. **Parameters:**\n",
    "   - **Bernoulli Distribution:** It has a single parameter, the probability of success (p).\n",
    "   - **Binomial Distribution:** It has two parameters: the number of trials (n) and the probability of success (p).\n",
    "\n",
    "4. **Use Cases:**\n",
    "   - **Bernoulli Distribution:** Used for modeling a single yes/no experiment, like a coin flip or a single trial of a binary event.\n",
    "   - **Binomial Distribution:** Used for modeling the number of successes in a fixed number of independent Bernoulli trials, \n",
    "   such as counting the number of heads in a series of coin flips.\n",
    "\n",
    "5. **Probability Mass Function (PMF):**\n",
    "   - **Bernoulli Distribution:** PMF is P(X = x) = p^x * q^(1-x), where x = 0 (failure) or 1 (success).\n",
    "   - **Binomial Distribution:** PMF is P(X = k) = (n choose k) * p^k * q^(n-k), where k is the number of successes.\"\"\"\n",
    "\n"
   ]
  },
  {
   "cell_type": "markdown",
   "id": "5e907aa4",
   "metadata": {},
   "source": [
    "Q6. Consider a dataset with a mean of 50 and a standard deviation of 10. If we assume that the dataset\n",
    "is normally distributed, what is the probability that a randomly selected observation will be greater\n",
    "than 60? Use the appropriate formula and show your calculations."
   ]
  },
  {
   "cell_type": "code",
   "execution_count": 6,
   "id": "cb2c0698",
   "metadata": {},
   "outputs": [
    {
     "data": {
      "text/plain": [
       "\"To find the probability that a randomly selected observation from a normally distributed dataset with a mean of 50 and \\na standard deviation of 10 is greater than 60, we need to use the standard normal distribution (z-distribution) and \\ncalculate the z-score for the value 60. Then, we can use the cumulative distribution function (CDF) of the standard \\nnormal distribution to find the probability.\\n\\nThe formula to calculate the z-score is:\\n\\n\\\\[ z = \\x0crac{x - \\\\mu}{\\\\sigma} \\\\]\\n\\nWhere:\\n- \\\\( x \\\\) is the value (60 in this case),\\n- \\\\( \\\\mu \\\\) is the mean (50),\\n- \\\\( \\\\sigma \\\\) is the standard deviation (10).\\n\\nSubstituting the values:\\n\\n\\\\[ z = \\x0crac{60 - 50}{10} = 1 \\\\]\\n\\nNow, we'll use the standard normal distribution table or a calculator to find the cumulative probability for \\\\( z = 1 \\\\).\\nThe cumulative probability \\\\( P(Z > 1) \\\\) represents the probability that a randomly selected observation is greater than 60.\\n\\nUsing a standard normal distribution table, we find that \\\\( P(Z > 1) \\\\) is approximately 0.1587.\\n\\nSo, the probability that a randomly selected observation from the dataset will be greater than 60 is approximately 0.1587 or\\n15.87%.\\n\\nPlease note that the values from a standard normal distribution table or calculator might have slight variations due to rounding, \\nbut the general approach remains the same.\""
      ]
     },
     "execution_count": 6,
     "metadata": {},
     "output_type": "execute_result"
    }
   ],
   "source": [
    "\"\"\"To find the probability that a randomly selected observation from a normally distributed dataset with a mean of 50 and \n",
    "a standard deviation of 10 is greater than 60, we need to use the standard normal distribution (z-distribution) and \n",
    "calculate the z-score for the value 60. Then, we can use the cumulative distribution function (CDF) of the standard \n",
    "normal distribution to find the probability.\n",
    "\n",
    "The formula to calculate the z-score is:\n",
    "\n",
    "\\[ z = \\frac{x - \\mu}{\\sigma} \\]\n",
    "\n",
    "Where:\n",
    "- \\( x \\) is the value (60 in this case),\n",
    "- \\( \\mu \\) is the mean (50),\n",
    "- \\( \\sigma \\) is the standard deviation (10).\n",
    "\n",
    "Substituting the values:\n",
    "\n",
    "\\[ z = \\frac{60 - 50}{10} = 1 \\]\n",
    "\n",
    "Now, we'll use the standard normal distribution table or a calculator to find the cumulative probability for \\( z = 1 \\).\n",
    "The cumulative probability \\( P(Z > 1) \\) represents the probability that a randomly selected observation is greater than 60.\n",
    "\n",
    "Using a standard normal distribution table, we find that \\( P(Z > 1) \\) is approximately 0.1587.\n",
    "\n",
    "So, the probability that a randomly selected observation from the dataset will be greater than 60 is approximately 0.1587 or\n",
    "15.87%.\n",
    "\n",
    "Please note that the values from a standard normal distribution table or calculator might have slight variations due to rounding, \n",
    "but the general approach remains the same.\"\"\""
   ]
  },
  {
   "cell_type": "markdown",
   "id": "ef874fd6",
   "metadata": {},
   "source": [
    "Q7: Explain uniform Distribution with an example."
   ]
  },
  {
   "cell_type": "code",
   "execution_count": 7,
   "id": "daeef0a9",
   "metadata": {},
   "outputs": [
    {
     "data": {
      "text/plain": [
       "'**Uniform Distribution:**\\n\\n- **Definition:** All outcomes within a range are equally likely.\\n- **Example:** Rolling a fair six-sided die (discrete) or selecting a point on a ruler between 0 and 10 inches (continuous).\\n- **PDF:** Probability density function is a constant line over the interval [a, b].\\n- **Probability:** Each individual outcome has the same probability.\\n- **Use Cases:** Random sampling, simulations, generating random numbers within a specified range.'"
      ]
     },
     "execution_count": 7,
     "metadata": {},
     "output_type": "execute_result"
    }
   ],
   "source": [
    "\"\"\"**Uniform Distribution:**\n",
    "\n",
    "- **Definition:** All outcomes within a range are equally likely.\n",
    "- **Example:** Rolling a fair six-sided die (discrete) or selecting a point on a ruler between 0 and 10 inches (continuous).\n",
    "- **PDF:** Probability density function is a constant line over the interval [a, b].\n",
    "- **Probability:** Each individual outcome has the same probability.\n",
    "- **Use Cases:** Random sampling, simulations, generating random numbers within a specified range.\"\"\""
   ]
  },
  {
   "cell_type": "markdown",
   "id": "8db06dd5",
   "metadata": {},
   "source": [
    "Q8: What is the z score? State the importance of the z score."
   ]
  },
  {
   "cell_type": "code",
   "execution_count": 8,
   "id": "0976448c",
   "metadata": {},
   "outputs": [
    {
     "data": {
      "text/plain": [
       "\"**Z-Score:**\\n\\n- **Definition:** The z-score (standard score) measures how many standard deviations a data point is away from the mean \\nof a distribution.\\n- **Formula:** \\\\( z = \\x0crac{x - \\\\mu}{\\\\sigma} \\\\), where \\\\( x \\\\) is the data point, \\\\( \\\\mu \\\\) is the mean, and \\n\\\\( \\\\sigma \\\\) is the standard deviation.\\n- **Importance:** Z-scores standardize data, making it easier to compare and analyze different distributions. \\nThey help identify outliers and assess a data point's relative position within a distribution.\""
      ]
     },
     "execution_count": 8,
     "metadata": {},
     "output_type": "execute_result"
    }
   ],
   "source": [
    "\"\"\"**Z-Score:**\n",
    "\n",
    "- **Definition:** The z-score (standard score) measures how many standard deviations a data point is away from the mean \n",
    "of a distribution.\n",
    "- **Formula:** \\( z = \\frac{x - \\mu}{\\sigma} \\), where \\( x \\) is the data point, \\( \\mu \\) is the mean, and \n",
    "\\( \\sigma \\) is the standard deviation.\n",
    "- **Importance:** Z-scores standardize data, making it easier to compare and analyze different distributions. \n",
    "They help identify outliers and assess a data point's relative position within a distribution.\"\"\""
   ]
  },
  {
   "cell_type": "markdown",
   "id": "f76b17ae",
   "metadata": {},
   "source": [
    "Q9: What is Central Limit Theorem? State the significance of the Central Limit Theorem."
   ]
  },
  {
   "cell_type": "code",
   "execution_count": 9,
   "id": "d85452f7",
   "metadata": {},
   "outputs": [
    {
     "data": {
      "text/plain": [
       "\"**Central Limit Theorem (CLT):**\\n\\n- **Definition:** The Central Limit Theorem states that the sampling distribution of the sample mean (or sum) of a \\nsufficiently large number of independent, identically distributed random variables will be approximately normally distributed,\\n\\nregardless of the original distribution of the population.\\n\\n**Significance of the Central Limit Theorem:**\\n\\n1. **Sampling Theory:** The CLT forms the basis for many statistical methods. It allows us to make inferences about a\\npopulation based on a sample.\\n\\n2. **Robustness:** It holds true for a wide variety of distributions, even if the original population is not normally \\ndistributed. This makes it applicable in various real-world scenarios.\\n\\n3. **Averages and Sums:** It explains why the means (or sums) of many independent variables tend to follow a normal \\ndistribution.\\n\\n4. **Hypothesis Testing:** The CLT enables the use of parametric tests, like t-tests and ANOVA, which assume normality, \\neven if the underlying data isn't normally distributed.\\n\\n5. **Statistical Control:** In quality control and process improvement, the CLT helps assess the stability and \\nperformance of processes.\\n\\n\""
      ]
     },
     "execution_count": 9,
     "metadata": {},
     "output_type": "execute_result"
    }
   ],
   "source": [
    "\"\"\"**Central Limit Theorem (CLT):**\n",
    "\n",
    "- **Definition:** The Central Limit Theorem states that the sampling distribution of the sample mean (or sum) of a \n",
    "sufficiently large number of independent, identically distributed random variables will be approximately normally distributed,\n",
    "\n",
    "regardless of the original distribution of the population.\n",
    "\n",
    "**Significance of the Central Limit Theorem:**\n",
    "\n",
    "1. **Sampling Theory:** The CLT forms the basis for many statistical methods. It allows us to make inferences about a\n",
    "population based on a sample.\n",
    "\n",
    "2. **Robustness:** It holds true for a wide variety of distributions, even if the original population is not normally \n",
    "distributed. This makes it applicable in various real-world scenarios.\n",
    "\n",
    "3. **Averages and Sums:** It explains why the means (or sums) of many independent variables tend to follow a normal \n",
    "distribution.\n",
    "\n",
    "4. **Hypothesis Testing:** The CLT enables the use of parametric tests, like t-tests and ANOVA, which assume normality, \n",
    "even if the underlying data isn't normally distributed.\n",
    "\n",
    "5. **Statistical Control:** In quality control and process improvement, the CLT helps assess the stability and \n",
    "performance of processes.\n",
    "\n",
    "\"\"\""
   ]
  },
  {
   "cell_type": "markdown",
   "id": "5dac55fd",
   "metadata": {},
   "source": [
    "Q10: State the assumptions of the Central Limit Theorem."
   ]
  },
  {
   "cell_type": "code",
   "execution_count": 10,
   "id": "79690990",
   "metadata": {},
   "outputs": [
    {
     "data": {
      "text/plain": [
       "'The Central Limit Theorem (CLT) is a powerful statistical principle, but it relies on certain assumptions to hold true. \\nThe assumptions of the Central Limit Theorem include:\\n\\n1. **Independence:** The random variables in the sample must be independent of each other. This means that the outcome \\nof one observation does not influence the outcome of another.\\n\\n2. **Sample Size:** The sample size should be sufficiently large. While there is no strict rule for what constitutes \\n\"sufficiently large,\" a common guideline is that the sample size should be at least 30. However, the larger the sample size, \\nthe more robust the CLT becomes.\\n\\n3. **Identically Distributed:** The random variables should be drawn from the same distribution. This assumption ensures \\nthat the behavior of the sample mean is consistent across all observations.\\n\\n4. **Finite Variance:** The population from which the sample is drawn should have a finite variance. If the variance is \\ninfinite, the CLT might not hold.\\n\\n5. **No Extreme Outliers:** Extreme outliers or very skewed distributions can affect the applicability of the CLT. \\nWhile some non-normality is acceptable, very heavy tails can impact the theorem\\'s validity.\\n\\n'"
      ]
     },
     "execution_count": 10,
     "metadata": {},
     "output_type": "execute_result"
    }
   ],
   "source": [
    "\"\"\"The Central Limit Theorem (CLT) is a powerful statistical principle, but it relies on certain assumptions to hold true. \n",
    "The assumptions of the Central Limit Theorem include:\n",
    "\n",
    "1. **Independence:** The random variables in the sample must be independent of each other. This means that the outcome \n",
    "of one observation does not influence the outcome of another.\n",
    "\n",
    "2. **Sample Size:** The sample size should be sufficiently large. While there is no strict rule for what constitutes \n",
    "\"sufficiently large,\" a common guideline is that the sample size should be at least 30. However, the larger the sample size, \n",
    "the more robust the CLT becomes.\n",
    "\n",
    "3. **Identically Distributed:** The random variables should be drawn from the same distribution. This assumption ensures \n",
    "that the behavior of the sample mean is consistent across all observations.\n",
    "\n",
    "4. **Finite Variance:** The population from which the sample is drawn should have a finite variance. If the variance is \n",
    "infinite, the CLT might not hold.\n",
    "\n",
    "5. **No Extreme Outliers:** Extreme outliers or very skewed distributions can affect the applicability of the CLT. \n",
    "While some non-normality is acceptable, very heavy tails can impact the theorem's validity.\n",
    "\n",
    "\"\"\""
   ]
  },
  {
   "cell_type": "code",
   "execution_count": null,
   "id": "580f81f2",
   "metadata": {},
   "outputs": [],
   "source": []
  }
 ],
 "metadata": {
  "kernelspec": {
   "display_name": "Python 3 (ipykernel)",
   "language": "python",
   "name": "python3"
  },
  "language_info": {
   "codemirror_mode": {
    "name": "ipython",
    "version": 3
   },
   "file_extension": ".py",
   "mimetype": "text/x-python",
   "name": "python",
   "nbconvert_exporter": "python",
   "pygments_lexer": "ipython3",
   "version": "3.9.13"
  }
 },
 "nbformat": 4,
 "nbformat_minor": 5
}
