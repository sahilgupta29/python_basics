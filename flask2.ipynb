{
 "cells": [
  {
   "cell_type": "markdown",
   "id": "50b21780",
   "metadata": {},
   "source": [
    "Q1. Explain GET and POST methods.`"
   ]
  },
  {
   "cell_type": "code",
   "execution_count": 4,
   "id": "6ee51268",
   "metadata": {},
   "outputs": [
    {
     "data": {
      "text/plain": [
       "'In web development, the GET and POST methods are two commonly used HTTP request methods for transferring data between a client (typically a web browser) and a server. They serve different purposes and have different characteristics:\\n\\n1. **GET Method**:\\n   - The GET method is used to request data from a specified resource.\\n   - It sends data to the server as part of the URL in the form of query parameters.\\n   - The data sent with a GET request is visible to everyone as it appears in the URL, making it suitable for retrieving data but not for sensitive information such as passwords.\\n   - GET requests can be bookmarked, cached, and shared, making them ideal for retrieving static content or navigating between pages.\\n   - The data sent with a GET request is limited by the maximum length of a URL, which varies depending on the browser and server configurations.\\n   - GET requests should be idempotent, meaning that making the same request multiple times should have the same effect as making it once.\\n\\n2. **POST Method**:\\n   - The POST method is used to submit data to be processed to a specified resource.\\n   - It sends data to the server in the request body, rather than as part of the URL, making it suitable for transferring large amounts of data and sensitive information.\\n   - POST requests are not visible in the URL and are not cached or bookmarked by default, making them more secure for transmitting sensitive information.\\n   - The data sent with a POST request is not limited by the maximum length of a URL, allowing for the transfer of larger datasets.\\n   - POST requests can be used for actions that modify server-side data, such as submitting forms, uploading files, or creating new resources.\\n   - Unlike GET requests, POST requests are not idempotent by default, meaning that making the same request multiple times may have different effects.\\n\\nIn summary, the GET method is used to retrieve data from a server, while the POST method is used to submit data to a server for processing. Each method has its own use cases, advantages, and limitations, and choosing the appropriate method depends on the specific requirements of the application and the nature of the data being transferred.'"
      ]
     },
     "execution_count": 4,
     "metadata": {},
     "output_type": "execute_result"
    }
   ],
   "source": [
    "\"\"\"In web development, the GET and POST methods are two commonly used HTTP request methods for transferring data between a client (typically a web browser) and a server. They serve different purposes and have different characteristics:\n",
    "\n",
    "1. **GET Method**:\n",
    "   - The GET method is used to request data from a specified resource.\n",
    "   - It sends data to the server as part of the URL in the form of query parameters.\n",
    "   - The data sent with a GET request is visible to everyone as it appears in the URL, making it suitable for retrieving data but not for sensitive information such as passwords.\n",
    "   - GET requests can be bookmarked, cached, and shared, making them ideal for retrieving static content or navigating between pages.\n",
    "   - The data sent with a GET request is limited by the maximum length of a URL, which varies depending on the browser and server configurations.\n",
    "   - GET requests should be idempotent, meaning that making the same request multiple times should have the same effect as making it once.\n",
    "\n",
    "2. **POST Method**:\n",
    "   - The POST method is used to submit data to be processed to a specified resource.\n",
    "   - It sends data to the server in the request body, rather than as part of the URL, making it suitable for transferring large amounts of data and sensitive information.\n",
    "   - POST requests are not visible in the URL and are not cached or bookmarked by default, making them more secure for transmitting sensitive information.\n",
    "   - The data sent with a POST request is not limited by the maximum length of a URL, allowing for the transfer of larger datasets.\n",
    "   - POST requests can be used for actions that modify server-side data, such as submitting forms, uploading files, or creating new resources.\n",
    "   - Unlike GET requests, POST requests are not idempotent by default, meaning that making the same request multiple times may have different effects.\n",
    "\n",
    "In summary, the GET method is used to retrieve data from a server, while the POST method is used to submit data to a server for processing. Each method has its own use cases, advantages, and limitations, and choosing the appropriate method depends on the specific requirements of the application and the nature of the data being transferred.\"\"\""
   ]
  },
  {
   "cell_type": "markdown",
   "id": "69a804f3",
   "metadata": {},
   "source": [
    "Q2. Why is request used in Flask?"
   ]
  },
  {
   "cell_type": "code",
   "execution_count": 5,
   "id": "986a40bf",
   "metadata": {},
   "outputs": [
    {
     "data": {
      "text/plain": [
       "\"In Flask, the `request` object is used to access incoming request data submitted by a client (typically a web browser). It provides access to information such as form data, query parameters, cookies, headers, and file uploads. The `request` object allows Flask applications to interact with client requests and extract relevant data to process and respond accordingly.\\n\\nSome common uses of the `request` object in Flask include:\\n\\n1. **Accessing Form Data**: When a user submits a form on a web page, the form data is sent to the Flask server as part of the request. The `request` object allows Flask applications to access this form data and process it as needed.\\n\\n2. **Query Parameters**: When a user includes query parameters in the URL (e.g., `/search?q=flask`), the `request` object allows Flask applications to extract these parameters and use them to perform specific actions, such as filtering or searching.\\n\\n3. **Accessing Cookies**: Cookies are small pieces of data sent by the server and stored in the client's web browser. The `request` object allows Flask applications to access and manipulate cookies sent by the client.\\n\\n4. **Handling File Uploads**: When a user uploads a file through a form on a web page, the file data is included in the request. The `request` object provides methods to access and process file uploads, such as saving the uploaded file to the server.\\n\\n5. **Accessing Request Headers**: Request headers contain additional information about the request, such as the user agent, content type, and accepted languages. The `request` object allows Flask applications to access and inspect these headers.\\n\\nExample:\\n```python\\nfrom flask import Flask, request\\n\\napp = Flask(__name__)\\n\\n@app.route('/login', methods=['POST'])\\ndef login():\\n    username = request.form.get('username')\\n    password = request.form.get('password')\\n    # Validate username and password\\n    return f'Username: {username}, Password: {password}'\\n\\nif __name__ == '__main__':\\n    app.run(debug=True)\\n```\\n\\nIn the example above, the `/login` route handles POST requests containing form data. The `request` object is used to access the `username` and `password` fields from the form data submitted by the client. This data can then be processed to authenticate the user and perform the necessary actions.\""
      ]
     },
     "execution_count": 5,
     "metadata": {},
     "output_type": "execute_result"
    }
   ],
   "source": [
    "\"\"\"In Flask, the `request` object is used to access incoming request data submitted by a client (typically a web browser). It provides access to information such as form data, query parameters, cookies, headers, and file uploads. The `request` object allows Flask applications to interact with client requests and extract relevant data to process and respond accordingly.\n",
    "\n",
    "Some common uses of the `request` object in Flask include:\n",
    "\n",
    "1. **Accessing Form Data**: When a user submits a form on a web page, the form data is sent to the Flask server as part of the request. The `request` object allows Flask applications to access this form data and process it as needed.\n",
    "\n",
    "2. **Query Parameters**: When a user includes query parameters in the URL (e.g., `/search?q=flask`), the `request` object allows Flask applications to extract these parameters and use them to perform specific actions, such as filtering or searching.\n",
    "\n",
    "3. **Accessing Cookies**: Cookies are small pieces of data sent by the server and stored in the client's web browser. The `request` object allows Flask applications to access and manipulate cookies sent by the client.\n",
    "\n",
    "4. **Handling File Uploads**: When a user uploads a file through a form on a web page, the file data is included in the request. The `request` object provides methods to access and process file uploads, such as saving the uploaded file to the server.\n",
    "\n",
    "5. **Accessing Request Headers**: Request headers contain additional information about the request, such as the user agent, content type, and accepted languages. The `request` object allows Flask applications to access and inspect these headers.\n",
    "\n",
    "Example:\n",
    "```python\n",
    "from flask import Flask, request\n",
    "\n",
    "app = Flask(__name__)\n",
    "\n",
    "@app.route('/login', methods=['POST'])\n",
    "def login():\n",
    "    username = request.form.get('username')\n",
    "    password = request.form.get('password')\n",
    "    # Validate username and password\n",
    "    return f'Username: {username}, Password: {password}'\n",
    "\n",
    "if __name__ == '__main__':\n",
    "    app.run(debug=True)\n",
    "```\n",
    "\n",
    "In the example above, the `/login` route handles POST requests containing form data. The `request` object is used to access the `username` and `password` fields from the form data submitted by the client. This data can then be processed to authenticate the user and perform the necessary actions.\"\"\""
   ]
  },
  {
   "cell_type": "markdown",
   "id": "3742f49d",
   "metadata": {},
   "source": [
    "Q3. Why is redirect() used in Flask?"
   ]
  },
  {
   "cell_type": "code",
   "execution_count": 6,
   "id": "685a785b",
   "metadata": {},
   "outputs": [
    {
     "data": {
      "text/plain": [
       "\"In Flask, the `redirect()` function is used to redirect the client (typically a web browser) to a different URL. This can be useful for various purposes, such as:\\n\\n1. **Handling Form Submissions**: After processing form data submitted by a user, you might want to redirect them to another page to display a success message or to a different route to continue the application flow.\\n\\n2. **Managing Authentication and Authorization**: After a user successfully logs in or logs out, you can use `redirect()` to send them to the appropriate page, such as a dashboard or a login page.\\n\\n3. **Changing URL Structure**: If you update the URL structure of your web application, you can use redirects to ensure that old URLs are properly redirected to new ones, preventing broken links and maintaining SEO.\\n\\n4. **Handling Error Pages**: When encountering errors, such as a 404 Not Found error, you can use redirects to direct users to custom error pages with helpful information.\\n\\n5. **Implementing URL Shortening**: In some cases, `redirect()` can be used to implement URL shortening functionality, where long URLs are mapped to shorter ones for easier sharing.\\n\\nExample of usage:\\n```python\\nfrom flask import Flask, redirect, url_for\\n\\napp = Flask(__name__)\\n\\n@app.route('/admin')\\ndef admin():\\n    # Redirect user to the login page if not authenticated\\n    # Example: if not authenticated:\\n    # return redirect(url_for('login'))\\n    return 'Welcome to the admin page'\\n\\n@app.route('/login')\\ndef login():\\n    return 'Login page'\\n\\nif __name__ == '__main__':\\n    app.run(debug=True)\\n```\\n\\nIn the example above, when a user tries to access the `/admin` route without being authenticated, they are redirected to the `/login` route using `redirect(url_for('login'))`. This allows you to control the flow of your application and handle various scenarios effectively.\""
      ]
     },
     "execution_count": 6,
     "metadata": {},
     "output_type": "execute_result"
    }
   ],
   "source": [
    "\"\"\"In Flask, the `redirect()` function is used to redirect the client (typically a web browser) to a different URL. This can be useful for various purposes, such as:\n",
    "\n",
    "1. **Handling Form Submissions**: After processing form data submitted by a user, you might want to redirect them to another page to display a success message or to a different route to continue the application flow.\n",
    "\n",
    "2. **Managing Authentication and Authorization**: After a user successfully logs in or logs out, you can use `redirect()` to send them to the appropriate page, such as a dashboard or a login page.\n",
    "\n",
    "3. **Changing URL Structure**: If you update the URL structure of your web application, you can use redirects to ensure that old URLs are properly redirected to new ones, preventing broken links and maintaining SEO.\n",
    "\n",
    "4. **Handling Error Pages**: When encountering errors, such as a 404 Not Found error, you can use redirects to direct users to custom error pages with helpful information.\n",
    "\n",
    "5. **Implementing URL Shortening**: In some cases, `redirect()` can be used to implement URL shortening functionality, where long URLs are mapped to shorter ones for easier sharing.\n",
    "\n",
    "Example of usage:\n",
    "```python\n",
    "from flask import Flask, redirect, url_for\n",
    "\n",
    "app = Flask(__name__)\n",
    "\n",
    "@app.route('/admin')\n",
    "def admin():\n",
    "    # Redirect user to the login page if not authenticated\n",
    "    # Example: if not authenticated:\n",
    "    # return redirect(url_for('login'))\n",
    "    return 'Welcome to the admin page'\n",
    "\n",
    "@app.route('/login')\n",
    "def login():\n",
    "    return 'Login page'\n",
    "\n",
    "if __name__ == '__main__':\n",
    "    app.run(debug=True)\n",
    "```\n",
    "\n",
    "In the example above, when a user tries to access the `/admin` route without being authenticated, they are redirected to the `/login` route using `redirect(url_for('login'))`. This allows you to control the flow of your application and handle various scenarios effectively.\"\"\""
   ]
  },
  {
   "cell_type": "markdown",
   "id": "8a523a8d",
   "metadata": {},
   "source": [
    "Q4. What are templates in Flask? Why is the render_template() function used?"
   ]
  },
  {
   "cell_type": "code",
   "execution_count": 7,
   "id": "9fa4049b",
   "metadata": {},
   "outputs": [
    {
     "data": {
      "text/plain": [
       "\"In Flask, templates are files that contain static data and dynamic content, typically written in HTML or a template language such as Jinja2. They allow developers to create dynamic web pages by embedding variables, control structures, and inheritance mechanisms directly within HTML code. Templates help separate the presentation layer from the business logic, making web development more organized and maintainable.\\n\\nThe `render_template()` function is used to render templates and generate HTML pages dynamically in Flask. It takes the name of the template file as an argument and optionally additional variables to be passed to the template. When called, Flask looks for the specified template file in the templates directory (by default, named `templates`), processes it, substitutes any variables with their values, and returns the resulting HTML content to the client.\\n\\nSome reasons why the `render_template()` function is used in Flask include:\\n\\n1. **Dynamic Content**: Templates allow developers to inject dynamic content into HTML pages, such as database query results, user input, or server-side calculations.\\n\\n2. **Code Reusability**: Templates support code reuse by allowing developers to define common layout structures, headers, footers, and other components that can be reused across multiple pages.\\n\\n3. **Separation of Concerns**: Templates help separate the presentation layer from the business logic, promoting cleaner code architecture and better maintainability.\\n\\n4. **Improved Readability**: By embedding variables and control structures directly within HTML code, templates improve the readability and maintainability of web pages compared to embedding dynamic content directly within Python code.\\n\\nExample:\\n```python\\nfrom flask import Flask, render_template\\n\\napp = Flask(__name__)\\n\\n@app.route('/')\\ndef index():\\n    username = 'John Doe'\\n    return render_template('index.html', username=username)\\n\\nif __name__ == '__main__':\\n    app.run(debug=True)\\n```\\n\\nIn the example above, the `render_template()` function is used to render the `index.html` template file. The `username` variable is passed to the template and can be accessed within the HTML code using template syntax, allowing dynamic content to be displayed on the web page.\""
      ]
     },
     "execution_count": 7,
     "metadata": {},
     "output_type": "execute_result"
    }
   ],
   "source": [
    "\"\"\"In Flask, templates are files that contain static data and dynamic content, typically written in HTML or a template language such as Jinja2. They allow developers to create dynamic web pages by embedding variables, control structures, and inheritance mechanisms directly within HTML code. Templates help separate the presentation layer from the business logic, making web development more organized and maintainable.\n",
    "\n",
    "The `render_template()` function is used to render templates and generate HTML pages dynamically in Flask. It takes the name of the template file as an argument and optionally additional variables to be passed to the template. When called, Flask looks for the specified template file in the templates directory (by default, named `templates`), processes it, substitutes any variables with their values, and returns the resulting HTML content to the client.\n",
    "\n",
    "Some reasons why the `render_template()` function is used in Flask include:\n",
    "\n",
    "1. **Dynamic Content**: Templates allow developers to inject dynamic content into HTML pages, such as database query results, user input, or server-side calculations.\n",
    "\n",
    "2. **Code Reusability**: Templates support code reuse by allowing developers to define common layout structures, headers, footers, and other components that can be reused across multiple pages.\n",
    "\n",
    "3. **Separation of Concerns**: Templates help separate the presentation layer from the business logic, promoting cleaner code architecture and better maintainability.\n",
    "\n",
    "4. **Improved Readability**: By embedding variables and control structures directly within HTML code, templates improve the readability and maintainability of web pages compared to embedding dynamic content directly within Python code.\n",
    "\n",
    "Example:\n",
    "```python\n",
    "from flask import Flask, render_template\n",
    "\n",
    "app = Flask(__name__)\n",
    "\n",
    "@app.route('/')\n",
    "def index():\n",
    "    username = 'John Doe'\n",
    "    return render_template('index.html', username=username)\n",
    "\n",
    "if __name__ == '__main__':\n",
    "    app.run(debug=True)\n",
    "```\n",
    "\n",
    "In the example above, the `render_template()` function is used to render the `index.html` template file. The `username` variable is passed to the template and can be accessed within the HTML code using template syntax, allowing dynamic content to be displayed on the web page.\"\"\""
   ]
  },
  {
   "cell_type": "markdown",
   "id": "4c11c664",
   "metadata": {},
   "source": [
    "Q5. Create a simple API. Use Postman to test it. Attach the screenshot of the output in the Jupyter Notebook."
   ]
  },
  {
   "cell_type": "code",
   "execution_count": 1,
   "id": "f6c85c16",
   "metadata": {},
   "outputs": [
    {
     "name": "stdout",
     "output_type": "stream",
     "text": [
      " * Serving Flask app \"__main__\" (lazy loading)\n",
      " * Environment: production\n",
      "\u001b[31m   WARNING: This is a development server. Do not use it in a production deployment.\u001b[0m\n",
      "\u001b[2m   Use a production WSGI server instead.\u001b[0m\n",
      " * Debug mode: on\n"
     ]
    },
    {
     "name": "stderr",
     "output_type": "stream",
     "text": [
      " * Restarting with watchdog (windowsapi)\n"
     ]
    },
    {
     "ename": "SystemExit",
     "evalue": "1",
     "output_type": "error",
     "traceback": [
      "An exception has occurred, use %tb to see the full traceback.\n",
      "\u001b[1;31mSystemExit\u001b[0m\u001b[1;31m:\u001b[0m 1\n"
     ]
    },
    {
     "name": "stderr",
     "output_type": "stream",
     "text": [
      "C:\\ProgramData\\Anaconda3\\lib\\site-packages\\IPython\\core\\interactiveshell.py:3465: UserWarning: To exit: use 'exit', 'quit', or Ctrl-D.\n",
      "  warn(\"To exit: use 'exit', 'quit', or Ctrl-D.\", stacklevel=1)\n"
     ]
    }
   ],
   "source": [
    "from flask import Flask, request, jsonify\n",
    "\n",
    "app = Flask(__name__)\n",
    "\n",
    "@app.route('/api/add', methods=['POST'])\n",
    "def add_numbers():\n",
    "    data = request.get_json()\n",
    "    num1 = data['num1']\n",
    "    num2 = data['num2']\n",
    "    result = num1 + num2\n",
    "    return jsonify({'result': result})\n",
    "\n",
    "if __name__ == '__main__':\n",
    "    app.run(debug=True)\n"
   ]
  },
  {
   "cell_type": "code",
   "execution_count": null,
   "id": "a55ec186",
   "metadata": {},
   "outputs": [],
   "source": []
  }
 ],
 "metadata": {
  "kernelspec": {
   "display_name": "Python 3 (ipykernel)",
   "language": "python",
   "name": "python3"
  },
  "language_info": {
   "codemirror_mode": {
    "name": "ipython",
    "version": 3
   },
   "file_extension": ".py",
   "mimetype": "text/x-python",
   "name": "python",
   "nbconvert_exporter": "python",
   "pygments_lexer": "ipython3",
   "version": "3.9.13"
  }
 },
 "nbformat": 4,
 "nbformat_minor": 5
}
