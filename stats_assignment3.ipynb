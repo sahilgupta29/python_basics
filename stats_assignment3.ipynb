{
 "cells": [
  {
   "cell_type": "markdown",
   "id": "fc713aab",
   "metadata": {},
   "source": [
    "Q1: What is Estimation Statistics? Explain point estimate and interval estimate."
   ]
  },
  {
   "cell_type": "code",
   "execution_count": 2,
   "id": "591ce82f",
   "metadata": {},
   "outputs": [
    {
     "data": {
      "text/plain": [
       "\"Estimation statistics involves estimating population parameters based on sample statistics.\\n\\nPoint Estimate: It's a single value used to approximate a population parameter. For example, the sample mean \\ncan be used as a point estimate for the population mean \\n\\n\\nInterval Estimate: It provides a range of values within which the population parameter is likely to lie. \\nCommonly used interval estimates are confidence intervals. For instance, a 95% confidence interval for the population mean \\n is an interval estimate that suggests with 95% confidence that the true population mean lies within the interval.\""
      ]
     },
     "execution_count": 2,
     "metadata": {},
     "output_type": "execute_result"
    }
   ],
   "source": [
    "\"\"\"Estimation statistics involves estimating population parameters based on sample statistics.\n",
    "\n",
    "Point Estimate: It's a single value used to approximate a population parameter. For example, the sample mean \n",
    "can be used as a point estimate for the population mean \n",
    "\n",
    "\n",
    "Interval Estimate: It provides a range of values within which the population parameter is likely to lie. \n",
    "Commonly used interval estimates are confidence intervals. For instance, a 95% confidence interval for the population mean \n",
    " is an interval estimate that suggests with 95% confidence that the true population mean lies within the interval.\"\"\""
   ]
  },
  {
   "cell_type": "markdown",
   "id": "c5b886b6",
   "metadata": {},
   "source": [
    "Q2: Write a Python function to estimate the population mean using a sample mean and standard deviation."
   ]
  },
  {
   "cell_type": "code",
   "execution_count": 3,
   "id": "2973685d",
   "metadata": {},
   "outputs": [
    {
     "name": "stdout",
     "output_type": "stream",
     "text": [
      "Estimated Population Mean: 1.0\n"
     ]
    }
   ],
   "source": [
    "def estimate_population_mean(sample_mean, sample_std, sample_size):\n",
    "    import math\n",
    "    # Using the formula for estimating population mean from a sample mean\n",
    "    population_mean = sample_mean * (sample_size ** 0.5) / sample_size\n",
    "    return population_mean\n",
    "\n",
    "# Example usage:\n",
    "sample_mean = 10\n",
    "sample_std = 2\n",
    "sample_size = 100\n",
    "estimated_mean = estimate_population_mean(sample_mean, sample_std, sample_size)\n",
    "print(\"Estimated Population Mean:\", estimated_mean)\n"
   ]
  },
  {
   "cell_type": "markdown",
   "id": "3aef1834",
   "metadata": {},
   "source": [
    "Q3: What is Hypothesis testing? Why is it used? State the importance of Hypothesis testing.\n",
    "\n"
   ]
  },
  {
   "cell_type": "code",
   "execution_count": 4,
   "id": "a22c65b4",
   "metadata": {},
   "outputs": [
    {
     "data": {
      "text/plain": [
       "'Hypothesis testing is a statistical method used to make inferences about population parameters based on sample data. It involves testing a hypothesis or claim about a population parameter using sample data to determine the likelihood of the hypothesis being true.\\n\\nImportance of Hypothesis Testing:\\n\\nHelps in decision making: By providing statistical evidence, hypothesis testing aids in making decisions in various fields such as medicine, business, and science.\\nValidates theories: It allows researchers to test the validity of theories or hypotheses by comparing them against empirical evidence.\\nProvides insights: Hypothesis testing provides insights into population parameters and helps in drawing conclusions about the population based on sample data.'"
      ]
     },
     "execution_count": 4,
     "metadata": {},
     "output_type": "execute_result"
    }
   ],
   "source": [
    "\"\"\"Hypothesis testing is a statistical method used to make inferences about population parameters based on sample data. It involves testing a hypothesis or claim about a population parameter using sample data to determine the likelihood of the hypothesis being true.\n",
    "\n",
    "Importance of Hypothesis Testing:\n",
    "\n",
    "Helps in decision making: By providing statistical evidence, hypothesis testing aids in making decisions in various fields such as medicine, business, and science.\n",
    "Validates theories: It allows researchers to test the validity of theories or hypotheses by comparing them against empirical evidence.\n",
    "Provides insights: Hypothesis testing provides insights into population parameters and helps in drawing conclusions about the population based on sample data.\"\"\""
   ]
  },
  {
   "cell_type": "markdown",
   "id": "4e8b121f",
   "metadata": {},
   "source": [
    "Q4: Create a hypothesis that states whether the average weight of male college students is greater than the average weight of female college students."
   ]
  },
  {
   "cell_type": "code",
   "execution_count": 7,
   "id": "d434c0ea",
   "metadata": {},
   "outputs": [
    {
     "data": {
      "text/plain": [
       "'Null Hypothesis (H0): The average weight of male college students (μ m) is not greater than the average weight \\nof female college students (μ f).\\n\\nAlternative Hypothesis (H 1 ): The average weight of male college students (μ m) is greater than the average weight\\nof female college students (μ f).'"
      ]
     },
     "execution_count": 7,
     "metadata": {},
     "output_type": "execute_result"
    }
   ],
   "source": [
    "\"\"\"Null Hypothesis (H0): The average weight of male college students (μ m) is not greater than the average weight \n",
    "of female college students (μ f).\n",
    "\n",
    "Alternative Hypothesis (H 1 ): The average weight of male college students (μ m) is greater than the average weight\n",
    "of female college students (μ f).\"\"\""
   ]
  },
  {
   "cell_type": "markdown",
   "id": "262bdf8c",
   "metadata": {},
   "source": [
    "Q5: Write a Python script to conduct a hypothesis test on the difference between two population means, given a sample from each population.\n",
    "\n"
   ]
  },
  {
   "cell_type": "code",
   "execution_count": 6,
   "id": "40b09e38",
   "metadata": {},
   "outputs": [
    {
     "name": "stdout",
     "output_type": "stream",
     "text": [
      "T-statistic: -7.694172948385197\n",
      "P-value: 6.57698990695072e-13\n"
     ]
    }
   ],
   "source": [
    "import numpy as np\n",
    "from scipy.stats import ttest_ind\n",
    "\n",
    "def two_sample_t_test(sample1, sample2):\n",
    "    t_statistic, p_value = ttest_ind(sample1, sample2)\n",
    "    return t_statistic, p_value\n",
    "\n",
    "# Example usage:\n",
    "sample1 = np.random.normal(loc=10, scale=2, size=100)\n",
    "sample2 = np.random.normal(loc=12, scale=2, size=100)\n",
    "t_stat, p_val = two_sample_t_test(sample1, sample2)\n",
    "print(\"T-statistic:\", t_stat)\n",
    "print(\"P-value:\", p_val)\n"
   ]
  },
  {
   "cell_type": "markdown",
   "id": "ad29479f",
   "metadata": {},
   "source": [
    "Q6: What is a null and alternative hypothesis? Give some examples."
   ]
  },
  {
   "cell_type": "code",
   "execution_count": 8,
   "id": "fd9b9543",
   "metadata": {},
   "outputs": [
    {
     "data": {
      "text/plain": [
       "\"Null Hypothesis (H0):\\n\\nThe null hypothesis is a statement that suggests no effect, no difference, or no relationship between variables \\nin a population. It serves as the default assumption to be tested against the observed data. In many cases, researchers \\naim to disprove the null hypothesis by providing evidence that contradicts it. If the evidence is strong enough, the null\\nhypothesis may be rejected in favor of the alternative hypothesis.\\n\\nThe null hypothesis is often denoted as H0 and typically represents the status quo or the absence of an effect. It assumes \\nthat any observed differences or relationships are due to chance or random variation.\\n\\nAlternative Hypothesis (H1 or HA):\\n\\nThe alternative hypothesis contradicts the null hypothesis and represents the researcher's hypothesis or claim. It suggests\\nthat there is a significant effect, difference, or relationship between variables in the population. Researchers design\\nstudies to collect data that either supports or rejects the alternative hypothesis.\\n\\nThe alternative hypothesis is denoted as H1 or HA and reflects the researcher's interest in finding evidence for a specific \\n\\noutcome or effect. It is often formulated based on prior knowledge, theoretical considerations, or observations.\\n\\nIn hypothesis testing, researchers collect sample data and use statistical methods to evaluate whether the evidence supports \\nthe null hypothesis or provides sufficient reason to reject it in favor of the alternative hypothesis.\\n\\nOverall, the null and alternative hypotheses are fundamental components of hypothesis testing, allowing researchers to make\\ninformed decisions based on empirical evidence and statistical analysis. They play a crucial role in guiding research inquiries, drawing conclusions, and advancing scientific knowledge.\\n\\nExamples:\\n\\nNull Hypothesis: The mean exam score of Group A is equal to the mean exam score of Group B.\\nAlternative Hypothesis: The mean exam score of Group A is not equal to the mean exam score of Group B.\\n\\n\""
      ]
     },
     "execution_count": 8,
     "metadata": {},
     "output_type": "execute_result"
    }
   ],
   "source": [
    "\"\"\"Null Hypothesis (H0):\n",
    "\n",
    "The null hypothesis is a statement that suggests no effect, no difference, or no relationship between variables \n",
    "in a population. It serves as the default assumption to be tested against the observed data. In many cases, researchers \n",
    "aim to disprove the null hypothesis by providing evidence that contradicts it. If the evidence is strong enough, the null\n",
    "hypothesis may be rejected in favor of the alternative hypothesis.\n",
    "\n",
    "The null hypothesis is often denoted as H0 and typically represents the status quo or the absence of an effect. It assumes \n",
    "that any observed differences or relationships are due to chance or random variation.\n",
    "\n",
    "Alternative Hypothesis (H1 or HA):\n",
    "\n",
    "The alternative hypothesis contradicts the null hypothesis and represents the researcher's hypothesis or claim. It suggests\n",
    "that there is a significant effect, difference, or relationship between variables in the population. Researchers design\n",
    "studies to collect data that either supports or rejects the alternative hypothesis.\n",
    "\n",
    "The alternative hypothesis is denoted as H1 or HA and reflects the researcher's interest in finding evidence for a specific \n",
    "\n",
    "outcome or effect. It is often formulated based on prior knowledge, theoretical considerations, or observations.\n",
    "\n",
    "In hypothesis testing, researchers collect sample data and use statistical methods to evaluate whether the evidence supports \n",
    "the null hypothesis or provides sufficient reason to reject it in favor of the alternative hypothesis.\n",
    "\n",
    "Overall, the null and alternative hypotheses are fundamental components of hypothesis testing, allowing researchers to make\n",
    "informed decisions based on empirical evidence and statistical analysis. They play a crucial role in guiding research inquiries, drawing conclusions, and advancing scientific knowledge.\n",
    "\n",
    "Examples:\n",
    "\n",
    "Null Hypothesis: The mean exam score of Group A is equal to the mean exam score of Group B.\n",
    "Alternative Hypothesis: The mean exam score of Group A is not equal to the mean exam score of Group B.\n",
    "\n",
    "\"\"\""
   ]
  },
  {
   "cell_type": "markdown",
   "id": "f8c96137",
   "metadata": {},
   "source": [
    "Q7: Write down the steps involved in hypothesis testing."
   ]
  },
  {
   "cell_type": "code",
   "execution_count": 9,
   "id": "00c0af06",
   "metadata": {},
   "outputs": [
    {
     "data": {
      "text/plain": [
       "'Certainly! Here are the steps involved in hypothesis testing in a concise format:\\n\\n1. **State the Hypotheses**: Formulate the null hypothesis (H0) and the alternative hypothesis (H1) based on the research question.\\n\\n2. **Set the Significance Level**: Choose a significance level (α), typically 0.05, to determine the threshold for rejecting the null hypothesis.\\n\\n3. **Select the Test Statistic**: Choose an appropriate statistical test based on the type of data and the hypotheses being tested.\\n\\n4. **Calculate the Test Statistic**: Compute the test statistic using sample data and relevant parameters.\\n\\n5. **Determine the Critical Region or P-value**: Identify the critical region for the test statistic based on the chosen significance level or calculate the p-value associated with the test.\\n\\n6. **Make a Decision**: Compare the test statistic to the critical value or evaluate the p-value. If the test statistic falls within the critical region or the p-value is less than α, reject the null hypothesis; otherwise, fail to reject the null hypothesis.\\n\\n7. **Draw a Conclusion**: Based on the decision, draw a conclusion regarding the null hypothesis in the context of the research question.\\n\\nThese steps provide a structured approach to conducting hypothesis testing and interpreting the results in order to make informed decisions based on statistical evidence.'"
      ]
     },
     "execution_count": 9,
     "metadata": {},
     "output_type": "execute_result"
    }
   ],
   "source": [
    "\"\"\"Certainly! Here are the steps involved in hypothesis testing in a concise format:\n",
    "\n",
    "1. **State the Hypotheses**: Formulate the null hypothesis (H0) and the alternative hypothesis (H1) based on the research question.\n",
    "\n",
    "2. **Set the Significance Level**: Choose a significance level (α), typically 0.05, to determine the threshold for rejecting the null hypothesis.\n",
    "\n",
    "3. **Select the Test Statistic**: Choose an appropriate statistical test based on the type of data and the hypotheses being tested.\n",
    "\n",
    "4. **Calculate the Test Statistic**: Compute the test statistic using sample data and relevant parameters.\n",
    "\n",
    "5. **Determine the Critical Region or P-value**: Identify the critical region for the test statistic based on the chosen significance level or calculate the p-value associated with the test.\n",
    "\n",
    "6. **Make a Decision**: Compare the test statistic to the critical value or evaluate the p-value. If the test statistic falls within the critical region or the p-value is less than α, reject the null hypothesis; otherwise, fail to reject the null hypothesis.\n",
    "\n",
    "7. **Draw a Conclusion**: Based on the decision, draw a conclusion regarding the null hypothesis in the context of the research question.\n",
    "\n",
    "These steps provide a structured approach to conducting hypothesis testing and interpreting the results in order to make informed decisions based on statistical evidence.\"\"\""
   ]
  },
  {
   "cell_type": "markdown",
   "id": "23bb976e",
   "metadata": {},
   "source": [
    "Q8. Define p-value and explain its significance in hypothesis testing."
   ]
  },
  {
   "cell_type": "code",
   "execution_count": 11,
   "id": "ff06a5b0",
   "metadata": {},
   "outputs": [
    {
     "data": {
      "text/plain": [
       "\"**Definition of p-value:**\\n\\nThe p-value, or probability value, is a measure that quantifies the strength of evidence against the null hypothesis in \\nhypothesis testing. It represents the probability of observing a test statistic as extreme as, or more extreme than, the \\none calculated from the sample data, assuming that the null hypothesis is true.\\n\\n**Significance of p-value in hypothesis testing:**\\n\\nThe significance of the p-value lies in its role in determining whether the observed data provide enough evidence to \\nreject the null hypothesis. Here's what the p-value signifies:\\n\\n1. **Decision Rule**: In hypothesis testing, the p-value is compared to the predetermined significance level (α),\\ntypically 0.05. If the p-value is less than or equal to α, it suggests that the observed data are unlikely to have\\noccurred under the assumption of the null hypothesis, leading to the rejection of the null hypothesis.\\n\\n2. **Strength of Evidence**: A smaller p-value indicates stronger evidence against the null hypothesis. If the p-value \\nis very small (e.g., less than 0.05), it suggests that the observed data are highly unlikely to have occurred by random\\nchance alone under the null hypothesis. Therefore, a small p-value provides strong evidence to reject the null hypothesis \\nin favor of the alternative hypothesis.\\n\\n3. **Interpretation**: If the p-value is greater than α, it suggests that the observed data are reasonably consistent with \\nthe null hypothesis. In this case, there is insufficient evidence to reject the null hypothesis, and the researcher would\\nfail to reject the null hypothesis.\\n\\n4. **Conclusiveness**: The p-value helps researchers draw conclusions about the hypotheses being tested. A low p-value\\nsupports the alternative hypothesis, while a high p-value fails to provide significant evidence against the null hypothesis.\\n\\nIn summary, the p-value plays a crucial role in hypothesis testing by quantifying the strength of evidence against the \\nnull hypothesis. It aids researchers in making informed decisions about whether to reject or fail to reject the null\\nhypothesis based on the observed data and predetermined significance level.\""
      ]
     },
     "execution_count": 11,
     "metadata": {},
     "output_type": "execute_result"
    }
   ],
   "source": [
    "\"\"\"**Definition of p-value:**\n",
    "\n",
    "The p-value, or probability value, is a measure that quantifies the strength of evidence against the null hypothesis in \n",
    "hypothesis testing. It represents the probability of observing a test statistic as extreme as, or more extreme than, the \n",
    "one calculated from the sample data, assuming that the null hypothesis is true.\n",
    "\n",
    "**Significance of p-value in hypothesis testing:**\n",
    "\n",
    "The significance of the p-value lies in its role in determining whether the observed data provide enough evidence to \n",
    "reject the null hypothesis. Here's what the p-value signifies:\n",
    "\n",
    "1. **Decision Rule**: In hypothesis testing, the p-value is compared to the predetermined significance level (α),\n",
    "typically 0.05. If the p-value is less than or equal to α, it suggests that the observed data are unlikely to have\n",
    "occurred under the assumption of the null hypothesis, leading to the rejection of the null hypothesis.\n",
    "\n",
    "2. **Strength of Evidence**: A smaller p-value indicates stronger evidence against the null hypothesis. If the p-value \n",
    "is very small (e.g., less than 0.05), it suggests that the observed data are highly unlikely to have occurred by random\n",
    "chance alone under the null hypothesis. Therefore, a small p-value provides strong evidence to reject the null hypothesis \n",
    "in favor of the alternative hypothesis.\n",
    "\n",
    "3. **Interpretation**: If the p-value is greater than α, it suggests that the observed data are reasonably consistent with \n",
    "the null hypothesis. In this case, there is insufficient evidence to reject the null hypothesis, and the researcher would\n",
    "fail to reject the null hypothesis.\n",
    "\n",
    "4. **Conclusiveness**: The p-value helps researchers draw conclusions about the hypotheses being tested. A low p-value\n",
    "supports the alternative hypothesis, while a high p-value fails to provide significant evidence against the null hypothesis.\n",
    "\n",
    "In summary, the p-value plays a crucial role in hypothesis testing by quantifying the strength of evidence against the \n",
    "null hypothesis. It aids researchers in making informed decisions about whether to reject or fail to reject the null\n",
    "hypothesis based on the observed data and predetermined significance level.\"\"\""
   ]
  },
  {
   "cell_type": "markdown",
   "id": "af258bb8",
   "metadata": {},
   "source": [
    "Q9. Generate a Student's t-distribution plot using Python's matplotlib library, with the degrees of freedom\n",
    "parameter set to 10."
   ]
  },
  {
   "cell_type": "code",
   "execution_count": 14,
   "id": "569c6402",
   "metadata": {},
   "outputs": [
    {
     "data": {
      "image/png": "[encoded data removed]",
      "text/plain": [
       "<Figure size 640x480 with 1 Axes>"
      ]
     },
     "metadata": {},
     "output_type": "display_data"
    }
   ],
   "source": [
    "import numpy as np\n",
    "import matplotlib.pyplot as plt\n",
    "from scipy.stats import t\n",
    "\n",
    "df = 10  # degrees of freedom\n",
    "x = np.linspace(-4, 4, 1000)\n",
    "plt.plot(x, t.pdf(x, df), 'b-', label='t-distribution with df=10')\n",
    "plt.title(\"Student's t-distribution\")\n",
    "plt.xlabel('x')\n",
    "plt.ylabel('Probability Density')\n",
    "plt.legend()\n",
    "plt.show()\n"
   ]
  },
  {
   "cell_type": "markdown",
   "id": "aff7b7d4",
   "metadata": {},
   "source": [
    "Q10: Write a Python program to calculate the two-sample t-test for independent samples, given two random samples of equal size and a null hypothesis that the population means are equal."
   ]
  },
  {
   "cell_type": "code",
   "execution_count": 16,
   "id": "fe620895",
   "metadata": {},
   "outputs": [
    {
     "name": "stdout",
     "output_type": "stream",
     "text": [
      "T-statistic: -1.0\n",
      "P-value: 0.34659350708733416\n"
     ]
    }
   ],
   "source": [
    "from scipy.stats import ttest_ind\n",
    "\n",
    "def two_sample_t_test(sample1, sample2):\n",
    "    t_statistic, p_value = ttest_ind(sample1, sample2)\n",
    "    return t_statistic, p_value\n",
    "\n",
    "# Example usage:\n",
    "sample1 = [1, 2, 3, 4, 5]\n",
    "sample2 = [2, 3, 4, 5, 6]\n",
    "t_stat, p_val = two_sample_t_test(sample1, sample2)\n",
    "print(\"T-statistic:\", t_stat)\n",
    "print(\"P-value:\", p_val)\n"
   ]
  },
  {
   "cell_type": "markdown",
   "id": "c5e9bdee",
   "metadata": {},
   "source": [
    "Q11: What is Student’s t distribution? When to use the t-Distribution."
   ]
  },
  {
   "cell_type": "code",
   "execution_count": 17,
   "id": "63af9afe",
   "metadata": {},
   "outputs": [
    {
     "data": {
      "text/plain": [
       "\"Student's t-distribution, often simply referred to as the t-distribution, is a probability distribution that arises from estimating the mean of a normally distributed population when the sample size is small or when the population standard deviation is unknown.\\n\\nThe t-distribution is similar in shape to the normal distribution but has heavier tails. It becomes more similar to the normal distribution as the sample size increases.\\n\\nThe t-distribution is used in hypothesis testing and constructing confidence intervals for population means under the following conditions:\\n\\nWhen the population standard deviation is unknown.\\nWhen the sample size is small (typically less than 30).\\nWhen the population is normally distributed or approximately normally distributed.\""
      ]
     },
     "execution_count": 17,
     "metadata": {},
     "output_type": "execute_result"
    }
   ],
   "source": [
    "\"\"\"Student's t-distribution, often simply referred to as the t-distribution, is a probability distribution that arises from estimating the mean of a normally distributed population when the sample size is small or when the population standard deviation is unknown.\n",
    "\n",
    "The t-distribution is similar in shape to the normal distribution but has heavier tails. It becomes more similar to the normal distribution as the sample size increases.\n",
    "\n",
    "The t-distribution is used in hypothesis testing and constructing confidence intervals for population means under the following conditions:\n",
    "\n",
    "When the population standard deviation is unknown.\n",
    "When the sample size is small (typically less than 30).\n",
    "When the population is normally distributed or approximately normally distributed.\"\"\""
   ]
  },
  {
   "cell_type": "markdown",
   "id": "aa4dad49",
   "metadata": {},
   "source": [
    "Q12: What is t-statistic? State the formula for t-statistic."
   ]
  },
  {
   "cell_type": "code",
   "execution_count": 19,
   "id": "861edef0",
   "metadata": {},
   "outputs": [
    {
     "data": {
      "text/plain": [
       "'The t-statistic is a measure used in hypothesis testing to determine if the difference between the means of two groups is statistically significant.\\nIt measures the difference between the sample means relative to the variability in the data.\\n\\nThe formula for the t-statistic when comparing the means of two independent samples is given by:\\n\\nt = \\x0crac{{\\x08ar{x}_1 - \\x08ar{x}_2}}{{\\\\sqrt{\\x0crac{{s_1^2}}{{n_1}} + \\x0crac{{s_2^2}}{{n_2}}}}'"
      ]
     },
     "execution_count": 19,
     "metadata": {},
     "output_type": "execute_result"
    }
   ],
   "source": [
    "\"\"\"The t-statistic is a measure used in hypothesis testing to determine if the difference between the means of two groups is statistically significant.\n",
    "It measures the difference between the sample means relative to the variability in the data.\n",
    "\n",
    "The formula for the t-statistic when comparing the means of two independent samples is given by:\n",
    "\n",
    "t = \\frac{{\\bar{x}_1 - \\bar{x}_2}}{{\\sqrt{\\frac{{s_1^2}}{{n_1}} + \\frac{{s_2^2}}{{n_2}}}}\"\"\"\n",
    "\n",
    "\n",
    "\n",
    "  "
   ]
  },
  {
   "cell_type": "markdown",
   "id": "5cf1fb7d",
   "metadata": {},
   "source": [
    "Q13. A coffee shop owner wants to estimate the average daily revenue for their shop. They take a random sample of 50 days and find the sample mean revenue to be $500 with a standard deviation of $50. Estimate the population mean revenue with a 95% confidence interval."
   ]
  },
  {
   "cell_type": "code",
   "execution_count": 20,
   "id": "22a92f79",
   "metadata": {},
   "outputs": [
    {
     "name": "stdout",
     "output_type": "stream",
     "text": [
      "Population mean revenue estimate (95% confidence interval):\n",
      "($486.14, $513.86)\n"
     ]
    }
   ],
   "source": [
    "import numpy as np\n",
    "\n",
    "sample_mean = 500\n",
    "sample_std = 50\n",
    "sample_size = 50\n",
    "confidence_level = 0.95\n",
    "\n",
    "# Calculate the margin of error\n",
    "z_critical = 1.96  # Z-score for 95% confidence level\n",
    "margin_of_error = z_critical * (sample_std / np.sqrt(sample_size))\n",
    "\n",
    "# Calculate the confidence interval\n",
    "lower_bound = sample_mean - margin_of_error\n",
    "upper_bound = sample_mean + margin_of_error\n",
    "\n",
    "print(\"Population mean revenue estimate (95% confidence interval):\")\n",
    "print(f\"(${lower_bound:.2f}, ${upper_bound:.2f})\")\n"
   ]
  },
  {
   "cell_type": "markdown",
   "id": "61715eb3",
   "metadata": {},
   "source": [
    "Q14. A researcher hypothesizes that a new drug will decrease blood pressure by 10 mmHg. They conduct a clinical trial with 100 patients and find that the sample mean decrease in blood pressure is 8 mmHg with a standard deviation of 3 mmHg. Test the hypothesis with a significance level of 0.05."
   ]
  },
  {
   "cell_type": "code",
   "execution_count": 21,
   "id": "d80cbd55",
   "metadata": {},
   "outputs": [
    {
     "name": "stdout",
     "output_type": "stream",
     "text": [
      "Reject the null hypothesis. There is sufficient evidence to support that the new drug decreases blood pressure.\n"
     ]
    }
   ],
   "source": [
    "from scipy.stats import t\n",
    "\n",
    "# Given data\n",
    "sample_mean = 8\n",
    "pop_mean = 10\n",
    "sample_std = 3\n",
    "sample_size = 100\n",
    "significance_level = 0.05\n",
    "\n",
    "# Calculate the t-statistic\n",
    "t_statistic = (sample_mean - pop_mean) / (sample_std / (sample_size ** 0.5))\n",
    "\n",
    "# Find the critical value (one-tailed test)\n",
    "critical_value = t.ppf(significance_level, df=sample_size - 1)\n",
    "\n",
    "# Test the hypothesis\n",
    "if t_statistic < critical_value:\n",
    "    print(\"Reject the null hypothesis. There is sufficient evidence to support that the new drug decreases blood pressure.\")\n",
    "else:\n",
    "    print(\"Fail to reject the null hypothesis. There is not enough evidence to support that the new drug decreases blood pressure.\")\n"
   ]
  },
  {
   "cell_type": "markdown",
   "id": "4b82aac0",
   "metadata": {},
   "source": [
    "Q15. An electronics company produces a certain type of product with a mean weight of 5 pounds and a standard deviation of 0.5 pounds. A random sample of 25 products is taken, and the sample mean weight is found to be 4.8 pounds. Test the hypothesis that the true mean weight of the products is less than 5 pounds with a significance level of 0.01."
   ]
  },
  {
   "cell_type": "code",
   "execution_count": 22,
   "id": "7cc838c1",
   "metadata": {},
   "outputs": [
    {
     "name": "stdout",
     "output_type": "stream",
     "text": [
      "Fail to reject the null hypothesis. There is not enough evidence to support that the true mean weight of the products is less than 5 pounds.\n"
     ]
    }
   ],
   "source": [
    "# Given data\n",
    "sample_mean = 4.8\n",
    "pop_mean = 5\n",
    "sample_std = 0.5\n",
    "sample_size = 25\n",
    "significance_level = 0.01\n",
    "\n",
    "# Calculate the t-statistic\n",
    "t_statistic = (sample_mean - pop_mean) / (sample_std / (sample_size ** 0.5))\n",
    "\n",
    "# Find the critical value (one-tailed test)\n",
    "critical_value = t.ppf(significance_level, df=sample_size - 1)\n",
    "\n",
    "# Test the hypothesis\n",
    "if t_statistic < critical_value:\n",
    "    print(\"Reject the null hypothesis. There is sufficient evidence to support that the true mean weight of the products is less than 5 pounds.\")\n",
    "else:\n",
    "    print(\"Fail to reject the null hypothesis. There is not enough evidence to support that the true mean weight of the products is less than 5 pounds.\")\n"
   ]
  },
  {
   "cell_type": "markdown",
   "id": "848a0336",
   "metadata": {},
   "source": [
    "Q16. Two groups of students are given different study materials to prepare for a test. The first group (\n",
    "\n",
    "n \n",
    "1\n",
    "​\n",
    " =30) has a mean score of 80 with a standard deviation of 10, and the second group (\n",
    "\n",
    "n \n",
    "2\n",
    "​\n",
    " =40) has a mean score of 75 with a standard deviation of 8. Test the hypothesis that the population means for the two groups are equal with a significance level of 0.01.\n",
    "\n"
   ]
  },
  {
   "cell_type": "code",
   "execution_count": 23,
   "id": "ee02202c",
   "metadata": {},
   "outputs": [
    {
     "name": "stdout",
     "output_type": "stream",
     "text": [
      "Fail to reject the null hypothesis. There is not enough evidence to support that the population means for the two groups are not equal.\n"
     ]
    }
   ],
   "source": [
    "from scipy.stats import t\n",
    "\n",
    "# Given data\n",
    "mean1 = 80\n",
    "std1 = 10\n",
    "n1 = 30\n",
    "\n",
    "mean2 = 75\n",
    "std2 = 8\n",
    "n2 = 40\n",
    "\n",
    "significance_level = 0.01\n",
    "\n",
    "# Calculate the pooled standard deviation\n",
    "pooled_std = ((std1 ** 2) * (n1 - 1) + (std2 ** 2) * (n2 - 1)) / (n1 + n2 - 2)\n",
    "\n",
    "# Calculate the t-statistic\n",
    "t_statistic = (mean1 - mean2) / (pooled_std * ((1 / n1) + (1 / n2)) ** 0.5)\n",
    "\n",
    "# Find the critical value (two-tailed test)\n",
    "critical_value = t.ppf(1 - significance_level / 2, df=n1 + n2 - 2)\n",
    "\n",
    "# Test the hypothesis\n",
    "if abs(t_statistic) > critical_value:\n",
    "    print(\"Reject the null hypothesis. There is sufficient evidence to support that the population means for the two groups are not equal.\")\n",
    "else:\n",
    "    print(\"Fail to reject the null hypothesis. There is not enough evidence to support that the population means for the two groups are not equal.\")\n"
   ]
  },
  {
   "cell_type": "markdown",
   "id": "aa3c7734",
   "metadata": {},
   "source": [
    "Q17. A marketing company wants to estimate the average number of ads watched by viewers during a TV program. They take a random sample of 50 viewers and find that the sample mean is 4 with a standard deviation of 1.5. Estimate the population mean with a 99% confidence interval."
   ]
  },
  {
   "cell_type": "code",
   "execution_count": 24,
   "id": "87ee6e2c",
   "metadata": {},
   "outputs": [
    {
     "name": "stdout",
     "output_type": "stream",
     "text": [
      "Population mean estimate (99% confidence interval):\n",
      "(3.45, 4.55)\n"
     ]
    }
   ],
   "source": [
    "import numpy as np\n",
    "\n",
    "# Given data\n",
    "sample_mean = 4\n",
    "sample_std = 1.5\n",
    "sample_size = 50\n",
    "confidence_level = 0.99\n",
    "\n",
    "# Calculate the margin of error\n",
    "z_critical = 2.576  # Z-score for 99% confidence level\n",
    "margin_of_error = z_critical * (sample_std / np.sqrt(sample_size))\n",
    "\n",
    "# Calculate the confidence interval\n",
    "lower_bound = sample_mean - margin_of_error\n",
    "upper_bound = sample_mean + margin_of_error\n",
    "\n",
    "print(\"Population mean estimate (99% confidence interval):\")\n",
    "print(f\"({lower_bound:.2f}, {upper_bound:.2f})\")\n"
   ]
  },
  {
   "cell_type": "code",
   "execution_count": null,
   "id": "b847dbe4",
   "metadata": {},
   "outputs": [],
   "source": []
  }
 ],
 "metadata": {
  "kernelspec": {
   "display_name": "Python 3 (ipykernel)",
   "language": "python",
   "name": "python3"
  },
  "language_info": {
   "codemirror_mode": {
    "name": "ipython",
    "version": 3
   },
   "file_extension": ".py",
   "mimetype": "text/x-python",
   "name": "python",
   "nbconvert_exporter": "python",
   "pygments_lexer": "ipython3",
   "version": "3.9.13"
  }
 },
 "nbformat": 4,
 "nbformat_minor": 5
}
