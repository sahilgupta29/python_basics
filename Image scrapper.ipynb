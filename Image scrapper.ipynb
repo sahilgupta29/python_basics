{
 "cells": [
  {
   "cell_type": "markdown",
   "id": "68226e25",
   "metadata": {},
   "source": [
    "Q1. Write a python program to extract the video URL of the first five videos."
   ]
  },
  {
   "cell_type": "code",
   "execution_count": 1,
   "id": "8ac6c599",
   "metadata": {},
   "outputs": [],
   "source": [
    "import requests\n",
    "from bs4 import BeautifulSoup\n",
    "\n",
    "# Define the URL of the YouTube channel\n",
    "url = \"https://www.youtube.com/@PW-Foundation/videos\"\n",
    "\n",
    "# Send a GET request to fetch the webpage content\n",
    "response = requests.get(url)\n",
    "\n",
    "# Check if the request was successful (status code 200)\n",
    "if response.status_code == 200:\n",
    "    # Parse the HTML content\n",
    "    soup = BeautifulSoup(response.content, \"html.parser\")\n",
    "    \n",
    "    # Find all the elements containing video URLs\n",
    "    video_elements = soup.find_all(\"a\", {\"class\": \"yt-simple-endpoint style-scope ytd-grid-video-renderer\"})\n",
    "    \n",
    "    # Extract video URLs of the first five videos\n",
    "    video_urls = []\n",
    "    for video_element in video_elements[:5]:\n",
    "        video_url = \"https://www.youtube.com\" + video_element[\"href\"]\n",
    "        video_urls.append(video_url)\n",
    "    \n",
    "    # Print the extracted video URLs\n",
    "    for i, video_url in enumerate(video_urls, start=1):\n",
    "        print(f\"Video {i}: {video_url}\")\n",
    "\n",
    "else:\n",
    "    print(\"Failed to fetch the webpage. Status code:\", response.status_code)\n"
   ]
  },
  {
   "cell_type": "markdown",
   "id": "a60d655c",
   "metadata": {},
   "source": [
    "Q2. Write a python program to extract the URL of the video thumbnails of the first five videos."
   ]
  },
  {
   "cell_type": "code",
   "execution_count": 2,
   "id": "0669b9c6",
   "metadata": {},
   "outputs": [],
   "source": [
    "import requests\n",
    "from bs4 import BeautifulSoup\n",
    "\n",
    "# Define the URL of the YouTube channel\n",
    "url = \"https://www.youtube.com/@PW-Foundation/videos\"\n",
    "\n",
    "# Send a GET request to fetch the webpage content\n",
    "response = requests.get(url)\n",
    "\n",
    "# Check if the request was successful (status code 200)\n",
    "if response.status_code == 200:\n",
    "    # Parse the HTML content\n",
    "    soup = BeautifulSoup(response.content, \"html.parser\")\n",
    "    \n",
    "    # Find all the elements containing video thumbnails\n",
    "    thumbnail_elements = soup.find_all(\"img\", {\"class\": \"style-scope yt-img-shadow\"})\n",
    "    \n",
    "    # Extract thumbnail URLs of the first five videos\n",
    "    thumbnail_urls = []\n",
    "    for thumbnail_element in thumbnail_elements[:5]:\n",
    "        thumbnail_url = thumbnail_element[\"src\"]\n",
    "        thumbnail_urls.append(thumbnail_url)\n",
    "    \n",
    "    # Print the extracted thumbnail URLs\n",
    "    for i, thumbnail_url in enumerate(thumbnail_urls, start=1):\n",
    "        print(f\"Thumbnail URL for Video {i}: {thumbnail_url}\")\n",
    "\n",
    "else:\n",
    "    print(\"Failed to fetch the webpage. Status code:\", response.status_code)\n"
   ]
  },
  {
   "cell_type": "markdown",
   "id": "0553994d",
   "metadata": {},
   "source": [
    "Q3. Write a python program to extract the title of the first five videos."
   ]
  },
  {
   "cell_type": "code",
   "execution_count": 5,
   "id": "68649a17",
   "metadata": {},
   "outputs": [],
   "source": [
    "import requests\n",
    "from bs4 import BeautifulSoup\n",
    "\n",
    "# Define the URL of the YouTube channel\n",
    "url = \"https://www.youtube.com/@PW-Foundation/videos\"\n",
    "\n",
    "# Send a GET request to fetch the webpage content\n",
    "response = requests.get(url)\n",
    "\n",
    "# Check if the request was successful (status code 200)\n",
    "if response.status_code == 200:\n",
    "    # Parse the HTML content\n",
    "    soup = BeautifulSoup(response.content, \"html.parser\")\n",
    "    \n",
    "    # Find all the elements containing video titles\n",
    "    title_elements = soup.find_all(\"a\", {\"id\": \"video-title\"})\n",
    "    \n",
    "    # Extract titles of the first five videos\n",
    "    video_titles = []\n",
    "    for title_element in title_elements[:5]:\n",
    "        video_title = title_element.text.strip()\n",
    "        video_titles.append(video_title)\n",
    "    \n",
    "    # Print the extracted video titles\n",
    "    for i, video_title in enumerate(video_titles, start=1):\n",
    "        print(f\"Title of Video {i}: {video_title}\")\n",
    "\n",
    "else:\n",
    "    print(\"Failed to fetch the webpage. Status code:\", response.status_code)\n"
   ]
  },
  {
   "cell_type": "markdown",
   "id": "56c06d28",
   "metadata": {},
   "source": [
    "Q4. Write a python program to extract the number of views of the first five videos."
   ]
  },
  {
   "cell_type": "code",
   "execution_count": 6,
   "id": "228feecb",
   "metadata": {},
   "outputs": [],
   "source": [
    "import requests\n",
    "from bs4 import BeautifulSoup\n",
    "\n",
    "# Define the URL of the YouTube channel\n",
    "url = \"https://www.youtube.com/@PW-Foundation/videos\"\n",
    "\n",
    "# Send a GET request to fetch the webpage content\n",
    "response = requests.get(url)\n",
    "\n",
    "# Check if the request was successful (status code 200)\n",
    "if response.status_code == 200:\n",
    "    # Parse the HTML content\n",
    "    soup = BeautifulSoup(response.content, \"html.parser\")\n",
    "    \n",
    "    # Find all the elements containing video views\n",
    "    view_elements = soup.find_all(\"span\", {\"class\": \"style-scope ytd-grid-video-renderer\"})\n",
    "    \n",
    "    # Extract number of views of the first five videos\n",
    "    video_views = []\n",
    "    for view_element in view_elements[:5]:\n",
    "        view_text = view_element.text.strip()\n",
    "        # Check if the text contains \"views\" to ensure it's a view count\n",
    "        if \"views\" in view_text:\n",
    "            video_views.append(view_text)\n",
    "    \n",
    "    # Print the extracted number of views\n",
    "    for i, view_count in enumerate(video_views, start=1):\n",
    "        print(f\"Number of views of Video {i}: {view_count}\")\n",
    "\n",
    "else:\n",
    "    print(\"Failed to fetch the webpage. Status code:\", response.status_code)\n"
   ]
  },
  {
   "cell_type": "markdown",
   "id": "5e430c03",
   "metadata": {},
   "source": [
    "Q5. Write a python program to extract the time of posting of video for the first five videos."
   ]
  },
  {
   "cell_type": "code",
   "execution_count": 7,
   "id": "f0cc762f",
   "metadata": {},
   "outputs": [],
   "source": [
    "import requests\n",
    "from bs4 import BeautifulSoup\n",
    "\n",
    "# Define the URL of the YouTube channel\n",
    "url = \"https://www.youtube.com/@PW-Foundation/videos\"\n",
    "\n",
    "# Send a GET request to fetch the webpage content\n",
    "response = requests.get(url)\n",
    "\n",
    "# Check if the request was successful (status code 200)\n",
    "if response.status_code == 200:\n",
    "    # Parse the HTML content\n",
    "    soup = BeautifulSoup(response.content, \"html.parser\")\n",
    "    \n",
    "    # Find all the elements containing video time\n",
    "    time_elements = soup.find_all(\"span\", {\"class\": \"style-scope ytd-grid-video-renderer\"})\n",
    "    \n",
    "    # Extract time of posting of the first five videos\n",
    "    video_times = []\n",
    "    for time_element in time_elements:\n",
    "        time_text = time_element.text.strip()\n",
    "        # Check if the text contains \"ago\" to ensure it's a time of posting\n",
    "        if \"ago\" in time_text:\n",
    "            video_times.append(time_text)\n",
    "        # Break the loop when we have collected time for five videos\n",
    "        if len(video_times) >= 5:\n",
    "            break\n",
    "    \n",
    "    # Print the extracted time of posting\n",
    "    for i, posting_time in enumerate(video_times, start=1):\n",
    "        print(f\"Time of posting of Video {i}: {posting_time}\")\n",
    "\n",
    "else:\n",
    "    print(\"Failed to fetch the webpage. Status code:\", response.status_code)\n"
   ]
  },
  {
   "cell_type": "code",
   "execution_count": null,
   "id": "83dcdbea",
   "metadata": {},
   "outputs": [],
   "source": []
  }
 ],
 "metadata": {
  "kernelspec": {
   "display_name": "Python 3 (ipykernel)",
   "language": "python",
   "name": "python3"
  },
  "language_info": {
   "codemirror_mode": {
    "name": "ipython",
    "version": 3
   },
   "file_extension": ".py",
   "mimetype": "text/x-python",
   "name": "python",
   "nbconvert_exporter": "python",
   "pygments_lexer": "ipython3",
   "version": "3.9.13"
  }
 },
 "nbformat": 4,
 "nbformat_minor": 5
}
