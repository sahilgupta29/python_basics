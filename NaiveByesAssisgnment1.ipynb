{
 "cells": [
  {
   "cell_type": "markdown",
   "id": "ad80db28",
   "metadata": {},
   "source": [
    "Q1. What is Bayes' theorem?"
   ]
  },
  {
   "cell_type": "code",
   "execution_count": 2,
   "id": "7ecf37fa",
   "metadata": {},
   "outputs": [
    {
     "data": {
      "text/plain": [
       "\"Bayes' theorem is a mathematical formula that describes the probability of an event occurring, based on prior\\nknowledge of related events. It incorporates new evidence to update the probability estimate. It's widely used\\nin statistics, probability theory, and machine learning for making predictions and decisions. The formula is \\nnamed after the Reverend Thomas Bayes, who developed the concept.\""
      ]
     },
     "execution_count": 2,
     "metadata": {},
     "output_type": "execute_result"
    }
   ],
   "source": [
    "\"\"\"Bayes' theorem is a mathematical formula that describes the probability of an event occurring, based on prior\n",
    "knowledge of related events. It incorporates new evidence to update the probability estimate. It's widely used\n",
    "in statistics, probability theory, and machine learning for making predictions and decisions. The formula is \n",
    "named after the Reverend Thomas Bayes, who developed the concept.\"\"\""
   ]
  },
  {
   "cell_type": "markdown",
   "id": "b43c8e04",
   "metadata": {},
   "source": [
    "Q2. What is the formula for Bayes' theorem?"
   ]
  },
  {
   "cell_type": "code",
   "execution_count": 4,
   "id": "aa7f6330",
   "metadata": {},
   "outputs": [
    {
     "data": {
      "text/plain": [
       "\"Bayes' theorem can be expressed mathematically as:\\n\\n\\\\[ P(A|B) = \\x0crac{P(B|A) \\\\cdot P(A)}{P(B)} \\\\]\\n\\nWhere:\\n- \\\\( P(A|B) \\\\) is the probability of event \\\\( A \\\\) occurring given that event \\\\( B \\\\) has occurred \\n(this is the updated probability after considering new evidence).\\n- \\\\( P(B|A) \\\\) is the probability of event \\\\( B \\\\) occurring given that event \\\\( A \\\\) \\nhas occurred (likelihood of the new evidence under event \\\\( A \\\\)).\\n- \\\\( P(A) \\\\) is the prior probability of event \\\\( A \\\\) occurring (probability based on prior information).\\n- \\\\( P(B) \\\\) is the probability of event \\\\( B \\\\) occurring (normalizing factor to make probabilities sum up to 1).\\n\\nIn words, Bayes' theorem helps us update our beliefs about the probability of an event \\\\( A \\\\) based on \\nnew evidence from event \\\\( B \\\\), while taking into account the likelihood of the evidence under the original\\nevent \\\\( A \\\\) and the prior probability of \\\\( A \\\\) occurring.\""
      ]
     },
     "execution_count": 4,
     "metadata": {},
     "output_type": "execute_result"
    }
   ],
   "source": [
    "\"\"\"Bayes' theorem can be expressed mathematically as:\n",
    "\n",
    "\\[ P(A|B) = \\frac{P(B|A) \\cdot P(A)}{P(B)} \\]\n",
    "\n",
    "Where:\n",
    "- \\( P(A|B) \\) is the probability of event \\( A \\) occurring given that event \\( B \\) has occurred \n",
    "(this is the updated probability after considering new evidence).\n",
    "- \\( P(B|A) \\) is the probability of event \\( B \\) occurring given that event \\( A \\) \n",
    "has occurred (likelihood of the new evidence under event \\( A \\)).\n",
    "- \\( P(A) \\) is the prior probability of event \\( A \\) occurring (probability based on prior information).\n",
    "- \\( P(B) \\) is the probability of event \\( B \\) occurring (normalizing factor to make probabilities sum up to 1).\n",
    "\n",
    "In words, Bayes' theorem helps us update our beliefs about the probability of an event \\( A \\) based on \n",
    "new evidence from event \\( B \\), while taking into account the likelihood of the evidence under the original\n",
    "event \\( A \\) and the prior probability of \\( A \\) occurring.\"\"\""
   ]
  },
  {
   "cell_type": "markdown",
   "id": "11792eb1",
   "metadata": {},
   "source": [
    "Q3.How is Bayes theorem used in practice?"
   ]
  },
  {
   "cell_type": "code",
   "execution_count": 5,
   "id": "cd3cd19f",
   "metadata": {},
   "outputs": [
    {
     "data": {
      "text/plain": [
       "\"Bayes' theorem is used in a wide range of practical applications across various fields. Here are a few examples:\\n\\n1. **Medical Diagnostics:** Bayes' theorem is used in medical diagnosis to update the probability of a patient\\n\\nhaving a certain condition based on new test results. It combines the likelihood of the test results given the\\ncondition with the prior probability of the condition to provide an updated diagnosis.\\n\\n2. **Spam Filtering:** In email spam filtering, Bayes' theorem is used to classify emails as spam or not spam. \\nIt considers the likelihood of certain words appearing in spam emails versus legitimate emails, and updates the \\nprobability of an email being spam based on these probabilities.\\n\\n3. **Machine Learning:** Bayes' theorem is foundational in many machine learning algorithms, especially in the field of\\nNaive Bayes classification. It's used to predict the class of a data instance based on the probabilities of its features \\ngiven each class.\\n\\n4. **Natural Language Processing:** In language processing tasks, Bayes' theorem can be used for tasks like sentiment \\nanalysis and text categorization. It helps update the probability of a document belonging to a certain category based \\non the occurrence of specific words.\\n\\n5. **Finance:** In finance, Bayes' theorem can be used to update the probabilities of different market scenarios based \\non new information, helping investors make informed decisions.\\n\\n6. **Criminal Investigations:** Law enforcement agencies might use Bayes' theorem to update the probability of a suspect \\nbeing guilty based on new evidence.\\n\\n7. **A/B Testing:** Bayes' theorem can be applied in A/B testing to update the probability of a certain version of a \\nwebsite or app being more effective based on user interaction data.\\n\\n8. **Weather Forecasting:** Meteorologists can use Bayes' theorem to update weather forecasts based on real-time sensor\\ndata and historical weather patterns.\\n\\n9. **Quality Control:** In manufacturing, Bayes' theorem can be used to update the probability of a product being \\n\\n\\\\defective based on quality control measurements.\\n\\nIn each case, Bayes' theorem provides a systematic way to incorporate new evidence or data to update probabilities and make \\nmore informed decisions or predictions. It's a powerful tool for reasoning under uncertainty and has applications in various\\ndisciplines.\""
      ]
     },
     "execution_count": 5,
     "metadata": {},
     "output_type": "execute_result"
    }
   ],
   "source": [
    "\"\"\"Bayes' theorem is used in a wide range of practical applications across various fields. Here are a few examples:\n",
    "\n",
    "1. **Medical Diagnostics:** Bayes' theorem is used in medical diagnosis to update the probability of a patient\n",
    "\n",
    "having a certain condition based on new test results. It combines the likelihood of the test results given the\n",
    "condition with the prior probability of the condition to provide an updated diagnosis.\n",
    "\n",
    "2. **Spam Filtering:** In email spam filtering, Bayes' theorem is used to classify emails as spam or not spam. \n",
    "It considers the likelihood of certain words appearing in spam emails versus legitimate emails, and updates the \n",
    "probability of an email being spam based on these probabilities.\n",
    "\n",
    "3. **Machine Learning:** Bayes' theorem is foundational in many machine learning algorithms, especially in the field of\n",
    "Naive Bayes classification. It's used to predict the class of a data instance based on the probabilities of its features \n",
    "given each class.\n",
    "\n",
    "4. **Natural Language Processing:** In language processing tasks, Bayes' theorem can be used for tasks like sentiment \n",
    "analysis and text categorization. It helps update the probability of a document belonging to a certain category based \n",
    "on the occurrence of specific words.\n",
    "\n",
    "5. **Finance:** In finance, Bayes' theorem can be used to update the probabilities of different market scenarios based \n",
    "on new information, helping investors make informed decisions.\n",
    "\n",
    "6. **Criminal Investigations:** Law enforcement agencies might use Bayes' theorem to update the probability of a suspect \n",
    "being guilty based on new evidence.\n",
    "\n",
    "7. **A/B Testing:** Bayes' theorem can be applied in A/B testing to update the probability of a certain version of a \n",
    "website or app being more effective based on user interaction data.\n",
    "\n",
    "8. **Weather Forecasting:** Meteorologists can use Bayes' theorem to update weather forecasts based on real-time sensor\n",
    "data and historical weather patterns.\n",
    "\n",
    "9. **Quality Control:** In manufacturing, Bayes' theorem can be used to update the probability of a product being \n",
    "\n",
    "\\defective based on quality control measurements.\n",
    "\n",
    "In each case, Bayes' theorem provides a systematic way to incorporate new evidence or data to update probabilities and make \n",
    "more informed decisions or predictions. It's a powerful tool for reasoning under uncertainty and has applications in various\n",
    "disciplines.\"\"\""
   ]
  },
  {
   "cell_type": "markdown",
   "id": "de7bdf41",
   "metadata": {},
   "source": [
    "Q4. What is the relationship between Bayes' theorem and conditional probability?"
   ]
  },
  {
   "cell_type": "code",
   "execution_count": 6,
   "id": "eefebb12",
   "metadata": {},
   "outputs": [
    {
     "data": {
      "text/plain": [
       "\"Bayes' theorem is a mathematical formula that connects conditional probabilities. It provides a way to calculate a\\nconditional probability of an event given another event, by incorporating information about the probability of the \\nsecond event given the first event. In other words, Bayes' theorem helps update our beliefs about one event based \\non new evidence from another related event.\\nBayes' theorem connects conditional probabilities using the following formula:\\n\\n\\\\[ P(A|B) = \\x0crac{P(B|A) \\\\cdot P(A)}{P(B)} \\\\]\\n\\nWhere:\\n- \\\\( P(A|B) \\\\) is the conditional probability of event \\\\( A \\\\) given event \\\\( B \\\\).\\n- \\\\( P(B|A) \\\\) is the conditional probability of event \\\\( B \\\\) given event \\\\( A \\\\).\\n- \\\\( P(A) \\\\) is the probability of event \\\\( A \\\\).\\n- \\\\( P(B) \\\\) is the probability of event \\\\( B \\\\).\\n\\nThis formula allows us to update our belief in the probability of event \\\\( A \\\\) happening, given new information or \\nevidence from event \\\\( B \\\\), while considering the likelihood of observing event \\\\( B \\\\) under event \\\\( A \\\\).\""
      ]
     },
     "execution_count": 6,
     "metadata": {},
     "output_type": "execute_result"
    }
   ],
   "source": [
    "\"\"\"Bayes' theorem is a mathematical formula that connects conditional probabilities. It provides a way to calculate a\n",
    "conditional probability of an event given another event, by incorporating information about the probability of the \n",
    "second event given the first event. In other words, Bayes' theorem helps update our beliefs about one event based \n",
    "on new evidence from another related event.\n",
    "Bayes' theorem connects conditional probabilities using the following formula:\n",
    "\n",
    "\\[ P(A|B) = \\frac{P(B|A) \\cdot P(A)}{P(B)} \\]\n",
    "\n",
    "Where:\n",
    "- \\( P(A|B) \\) is the conditional probability of event \\( A \\) given event \\( B \\).\n",
    "- \\( P(B|A) \\) is the conditional probability of event \\( B \\) given event \\( A \\).\n",
    "- \\( P(A) \\) is the probability of event \\( A \\).\n",
    "- \\( P(B) \\) is the probability of event \\( B \\).\n",
    "\n",
    "This formula allows us to update our belief in the probability of event \\( A \\) happening, given new information or \n",
    "evidence from event \\( B \\), while considering the likelihood of observing event \\( B \\) under event \\( A \\).\"\"\""
   ]
  },
  {
   "cell_type": "markdown",
   "id": "ebcc241c",
   "metadata": {},
   "source": [
    "Q5.which type of Naive Bayes classifier to use for any given problem?"
   ]
  },
  {
   "cell_type": "code",
   "execution_count": 8,
   "id": "4237d5ea",
   "metadata": {
    "scrolled": true
   },
   "outputs": [
    {
     "data": {
      "text/plain": [
       "'The choice of which type of Naive Bayes classifier to use depends on the nature of your data and the assumptions\\nthat align with your problem. The main types are:\\n\\n1. **Gaussian Naive Bayes:** This is used when your features follow a Gaussian (normal) distribution. \\nIt\\'s suitable for continuous numeric data.\\n\\n   Example: Classifying whether an email is spam or not based on features like the length of the email and the \\n   average frequency of certain words.\\n\\n2. **Multinomial Naive Bayes:** This is used when dealing with discrete data, like word counts or frequency of events\\nthat can be modeled as multinomial distribution.\\n\\n   Example: Categorizing text documents into topics based on the frequency of words.\\n\\n3. **Bernoulli Naive Bayes:** This is used for binary or boolean features. It assumes features are independent and follow \\na Bernoulli distribution.\\n\\n   Example: Sentiment analysis, where you\\'re determining whether a review is positive or negative based on the presence \\n   or absence of certain words.\\n\\nThe choice should reflect the distribution of your data and the assumptions you\\'re willing to make about independence\\nbetween features.\\n\\nFor instance, if you\\'re working with text data and aiming to classify documents into topics, Multinomial Naive Bayes \\nmight be appropriate. If you have numeric features that are roughly normally distributed, Gaussian Naive Bayes could work.\\nAnd if you\\'re dealing with binary data or presence/absence of features, Bernoulli Naive Bayes could be suitable.\\n\\nRemember that the \"Naive\" assumption of independence between features might not always hold in real-world scenarios, \\nso it\\'s important to assess the suitability of these assumptions for your specific problem.'"
      ]
     },
     "execution_count": 8,
     "metadata": {},
     "output_type": "execute_result"
    }
   ],
   "source": [
    "\"\"\"The choice of which type of Naive Bayes classifier to use depends on the nature of your data and the assumptions\n",
    "that align with your problem. The main types are:\n",
    "\n",
    "1. **Gaussian Naive Bayes:** This is used when your features follow a Gaussian (normal) distribution. \n",
    "It's suitable for continuous numeric data.\n",
    "\n",
    "   Example: Classifying whether an email is spam or not based on features like the length of the email and the \n",
    "   average frequency of certain words.\n",
    "\n",
    "2. **Multinomial Naive Bayes:** This is used when dealing with discrete data, like word counts or frequency of events\n",
    "that can be modeled as multinomial distribution.\n",
    "\n",
    "   Example: Categorizing text documents into topics based on the frequency of words.\n",
    "\n",
    "3. **Bernoulli Naive Bayes:** This is used for binary or boolean features. It assumes features are independent and follow \n",
    "a Bernoulli distribution.\n",
    "\n",
    "   Example: Sentiment analysis, where you're determining whether a review is positive or negative based on the presence \n",
    "   or absence of certain words.\n",
    "\n",
    "The choice should reflect the distribution of your data and the assumptions you're willing to make about independence\n",
    "between features.\n",
    "\n",
    "For instance, if you're working with text data and aiming to classify documents into topics, Multinomial Naive Bayes \n",
    "might be appropriate. If you have numeric features that are roughly normally distributed, Gaussian Naive Bayes could work.\n",
    "And if you're dealing with binary data or presence/absence of features, Bernoulli Naive Bayes could be suitable.\n",
    "\n",
    "Remember that the \"Naive\" assumption of independence between features might not always hold in real-world scenarios, \n",
    "so it's important to assess the suitability of these assumptions for your specific problem.\"\"\""
   ]
  },
  {
   "cell_type": "markdown",
   "id": "80eed0d1",
   "metadata": {},
   "source": [
    "Q6. Assignment:\n",
    "You have a dataset with two features, X1 and X2, and two possible classes, A and B. You want to use Naive\n",
    "Bayes to classify a new instance with features X1 = 3 and X2 = 4. The following table shows the frequency of\n",
    "each feature value for each class:\n",
    "Class X1=1 X1=2 X1=3 X2=1 X2=2 X2=3 X2=4\n",
    "A 3 3 4 4 3 3 3\n",
    "B 2 2 1 2 2 2 3\n",
    "Assuming equal prior probabilities for each class, which class would Naive Bayes predict the new instance\n",
    "to belong to?"
   ]
  },
  {
   "cell_type": "code",
   "execution_count": 9,
   "id": "d6be7a1b",
   "metadata": {},
   "outputs": [
    {
     "data": {
      "text/plain": [
       "\"To predict the class using Naive Bayes, we need to calculate the posterior probabilities for each \\nclass given the new instance's feature values (X1 = 3 and X2 = 4). Since the prior probabilities for\\nboth classes are equal, we only need to compare the likelihoods of the features under each class. The likelihood is calculated using the frequencies of the given feature values for each class.\\n\\nLet's calculate the likelihoods for both classes:\\n\\nFor class A:\\n- \\\\( P(X1=3 | A) = \\x0crac{4}{10} \\\\)\\n- \\\\( P(X2=4 | A) = \\x0crac{3}{10} \\\\)\\n\\nLikelihood of class A: \\\\( P(A) \\times P(X1=3 | A) \\times P(X2=4 | A) = \\x0crac{1}{2} \\times \\x0crac{4}{10} \\times \\x0crac{3}{10} = \\x0crac{6}{100} \\\\)\\n\\nFor class B:\\n- \\\\( P(X1=3 | B) = \\x0crac{1}{7} \\\\)\\n- \\\\( P(X2=4 | B) = \\x0crac{3}{7} \\\\)\\n\\nLikelihood of class B: \\\\( P(B) \\times P(X1=3 | B) \\times P(X2=4 | B) = \\x0crac{1}{2} \\times \\x0crac{1}{7} \\times \\x0crac{3}{7} = \\x0crac{3}{196} \\\\)\\n\\nSince the likelihood of class A ( \\\\( \\x0crac{6}{100} \\\\) ) is greater than the likelihood of class B ( \\\\( \\x0crac{3}{196} \\\\) ), \\nNaive Bayes would predict the new instance to belong to class A.\""
      ]
     },
     "execution_count": 9,
     "metadata": {},
     "output_type": "execute_result"
    }
   ],
   "source": [
    "\"\"\"To predict the class using Naive Bayes, we need to calculate the posterior probabilities for each \n",
    "class given the new instance's feature values (X1 = 3 and X2 = 4). Since the prior probabilities for\n",
    "both classes are equal, we only need to compare the likelihoods of the features under each class. The likelihood is calculated using the frequencies of the given feature values for each class.\n",
    "\n",
    "Let's calculate the likelihoods for both classes:\n",
    "\n",
    "For class A:\n",
    "- \\( P(X1=3 | A) = \\frac{4}{10} \\)\n",
    "- \\( P(X2=4 | A) = \\frac{3}{10} \\)\n",
    "\n",
    "Likelihood of class A: \\( P(A) \\times P(X1=3 | A) \\times P(X2=4 | A) = \\frac{1}{2} \\times \\frac{4}{10} \\times \\frac{3}{10} = \\frac{6}{100} \\)\n",
    "\n",
    "For class B:\n",
    "- \\( P(X1=3 | B) = \\frac{1}{7} \\)\n",
    "- \\( P(X2=4 | B) = \\frac{3}{7} \\)\n",
    "\n",
    "Likelihood of class B: \\( P(B) \\times P(X1=3 | B) \\times P(X2=4 | B) = \\frac{1}{2} \\times \\frac{1}{7} \\times \\frac{3}{7} = \\frac{3}{196} \\)\n",
    "\n",
    "Since the likelihood of class A ( \\( \\frac{6}{100} \\) ) is greater than the likelihood of class B ( \\( \\frac{3}{196} \\) ), \n",
    "Naive Bayes would predict the new instance to belong to class A.\"\"\""
   ]
  },
  {
   "cell_type": "code",
   "execution_count": null,
   "id": "cee98a65",
   "metadata": {},
   "outputs": [],
   "source": []
  }
 ],
 "metadata": {
  "kernelspec": {
   "display_name": "Python 3 (ipykernel)",
   "language": "python",
   "name": "python3"
  },
  "language_info": {
   "codemirror_mode": {
    "name": "ipython",
    "version": 3
   },
   "file_extension": ".py",
   "mimetype": "text/x-python",
   "name": "python",
   "nbconvert_exporter": "python",
   "pygments_lexer": "ipython3",
   "version": "3.9.13"
  }
 },
 "nbformat": 4,
 "nbformat_minor": 5
}
