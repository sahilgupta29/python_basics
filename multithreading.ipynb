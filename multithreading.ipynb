{
 "cells": [
  {
   "cell_type": "markdown",
   "id": "3f1950b3",
   "metadata": {},
   "source": [
    "Q1.what is multithreading in python? why is it used? Name the module used to handle threads in python"
   ]
  },
  {
   "cell_type": "code",
   "execution_count": 1,
   "id": "92a8f9c9",
   "metadata": {},
   "outputs": [
    {
     "data": {
      "text/plain": [
       "'Multithreading in Python:\\n\\nMultithreading is a programming concept where multiple threads of execution run concurrently within the same process.\\nIn Python, multithreading allows multiple tasks to be performed concurrently, potentially improving performance and \\nresponsiveness in applications that can benefit from parallel execution.\\nIt is used in situations where there are tasks that can be executed independently and simultaneously, such as I/O-bound \\noperations or tasks that can be parallelized.\\nThe module used to handle threads in Python is called threading.'"
      ]
     },
     "execution_count": 1,
     "metadata": {},
     "output_type": "execute_result"
    }
   ],
   "source": [
    "\"\"\"Multithreading in Python:\n",
    "\n",
    "Multithreading is a programming concept where multiple threads of execution run concurrently within the same process.\n",
    "In Python, multithreading allows multiple tasks to be performed concurrently, potentially improving performance and \n",
    "responsiveness in applications that can benefit from parallel execution.\n",
    "It is used in situations where there are tasks that can be executed independently and simultaneously, such as I/O-bound \n",
    "operations or tasks that can be parallelized.\n",
    "The module used to handle threads in Python is called threading.\"\"\""
   ]
  },
  {
   "cell_type": "markdown",
   "id": "077a08c8",
   "metadata": {},
   "source": [
    "Q2 why threading module used? write the use of the following functions\n",
    "1.active count()\n",
    "2current thread()\n",
    "3 enumerate()"
   ]
  },
  {
   "cell_type": "code",
   "execution_count": 4,
   "id": "8d01dec8",
   "metadata": {},
   "outputs": [
    {
     "data": {
      "text/plain": [
       "'Threading Module:\\nThe threading module in Python provides a high-level interface for working with threads.\\nFunctions:\\nactiveCount: Returns the number of Thread objects currently alive.\\ncurrentThread: Returns the current Thread object.\\nenumerate: Returns a list of all Thread objects currently alive.'"
      ]
     },
     "execution_count": 4,
     "metadata": {},
     "output_type": "execute_result"
    }
   ],
   "source": [
    "\"\"\"Threading Module:\n",
    "The threading module in Python provides a high-level interface for working with threads.\n",
    "Functions:\n",
    "activeCount: Returns the number of Thread objects currently alive.\n",
    "currentThread: Returns the current Thread object.\n",
    "enumerate: Returns a list of all Thread objects currently alive.\"\"\""
   ]
  },
  {
   "cell_type": "markdown",
   "id": "1d4d7914",
   "metadata": {},
   "source": [
    "Q3. Explain the following functions\n",
    "1.run()\n",
    "\n",
    "2.start()\n",
    "3.join()\n",
    "4,isAlive()"
   ]
  },
  {
   "cell_type": "code",
   "execution_count": 5,
   "id": "d45c132c",
   "metadata": {},
   "outputs": [
    {
     "data": {
      "text/plain": [
       "\"Thread Functions:\\n\\nrun: This method represents the code to be run by the thread when started. You override this method in a subclass to implement the desired behavior.\\nstart: This method starts the thread's activity. It must be called at most once per thread object.\\njoin: This method blocks the calling thread until the thread whose join() method is called terminates, either normally or through an unhandled exception.\\nisAlive: This method returns True if the thread is alive, i.e., it has been started but has not yet terminated.\""
      ]
     },
     "execution_count": 5,
     "metadata": {},
     "output_type": "execute_result"
    }
   ],
   "source": [
    "\"\"\"Thread Functions:\n",
    "\n",
    "run: This method represents the code to be run by the thread when started. You override this method in a subclass to implement the desired behavior.\n",
    "start: This method starts the thread's activity. It must be called at most once per thread object.\n",
    "join: This method blocks the calling thread until the thread whose join() method is called terminates, either normally or through an unhandled exception.\n",
    "isAlive: This method returns True if the thread is alive, i.e., it has been started but has not yet terminated.\"\"\""
   ]
  },
  {
   "cell_type": "markdown",
   "id": "14826834",
   "metadata": {},
   "source": [
    "Q4. write a python program to create two threads. Thread one must print the list of squares and thread\n",
    "two must print the list of cubes\n"
   ]
  },
  {
   "cell_type": "code",
   "execution_count": 6,
   "id": "4c6c3c54",
   "metadata": {},
   "outputs": [
    {
     "name": "stdout",
     "output_type": "stream",
     "text": [
      "Square of 1: 1\n",
      "Square of 2: 4\n",
      "Square of 3: 9\n",
      "Square of 4: 16\n",
      "Square of 5: 25\n",
      "Cube of 1: 1\n",
      "Cube of 2: 8\n",
      "Cube of 3: 27\n",
      "Cube of 4: 64\n",
      "Cube of 5: 125\n"
     ]
    }
   ],
   "source": [
    "import threading\n",
    "\n",
    "def print_squares():\n",
    "    for i in range(1, 6):\n",
    "        print(f\"Square of {i}: {i*i}\")\n",
    "\n",
    "def print_cubes():\n",
    "    for i in range(1, 6):\n",
    "        print(f\"Cube of {i}: {i*i*i}\")\n",
    "\n",
    "# Create threads\n",
    "thread1 = threading.Thread(target=print_squares)\n",
    "thread2 = threading.Thread(target=print_cubes)\n",
    "\n",
    "# Start threads\n",
    "thread1.start()\n",
    "thread2.start()\n"
   ]
  },
  {
   "cell_type": "markdown",
   "id": "ab336b2e",
   "metadata": {},
   "source": [
    "Q5. State advantages and disadvantages of multithreading\n"
   ]
  },
  {
   "cell_type": "code",
   "execution_count": 7,
   "id": "ca3805da",
   "metadata": {},
   "outputs": [
    {
     "data": {
      "text/plain": [
       "'\"Advantages and Disadvantages of Multithreading:\\n\\nAdvantages:\\nImproved Performance: Allows for concurrent execution of tasks, utilizing multiple CPU cores efficiently.\\n    \\nResponsiveness: Keeps the application responsive by allowing simultaneous execution of multiple tasks, particularly useful\\n    in GUI applications and servers\\n    .\\nResource Sharing: Threads within the same process share the same memory space, allowing for easy sharing of data between them.\\nDisadvantages:\\nComplexity: Multithreading introduces complexities such as race conditions, deadlocks, and synchronization issues,\\n    which can be difficult to debug.\\n    \\nOverhead: Creating and managing threads incurs overhead in terms of memory and CPU usage.\\n    \\nGIL Limitation: In Python, the Global Interpreter Lock (GIL) limits the execution of multiple threads simultaneously,\\n    impacting performance in CPU-bound tasks.'"
      ]
     },
     "execution_count": 7,
     "metadata": {},
     "output_type": "execute_result"
    }
   ],
   "source": [
    "\n",
    "\"\"\"\"Advantages and Disadvantages of Multithreading:\n",
    "\n",
    "Advantages:\n",
    "Improved Performance: Allows for concurrent execution of tasks, utilizing multiple CPU cores efficiently.\n",
    "    \n",
    "Responsiveness: Keeps the application responsive by allowing simultaneous execution of multiple tasks, particularly useful\n",
    "    in GUI applications and servers\n",
    "    .\n",
    "Resource Sharing: Threads within the same process share the same memory space, allowing for easy sharing of data between them.\n",
    "Disadvantages:\n",
    "Complexity: Multithreading introduces complexities such as race conditions, deadlocks, and synchronization issues,\n",
    "    which can be difficult to debug.\n",
    "    \n",
    "Overhead: Creating and managing threads incurs overhead in terms of memory and CPU usage.\n",
    "    \n",
    "GIL Limitation: In Python, the Global Interpreter Lock (GIL) limits the execution of multiple threads simultaneously,\n",
    "    impacting performance in CPU-bound tasks.\"\"\""
   ]
  },
  {
   "cell_type": "markdown",
   "id": "e6663b1b",
   "metadata": {},
   "source": [
    "Q6. Explain deadlocks and race conditions."
   ]
  },
  {
   "cell_type": "code",
   "execution_count": null,
   "id": "81cff6ec",
   "metadata": {},
   "outputs": [],
   "source": [
    "\"\"\"Deadlocks and Race Conditions:\n",
    "\n",
    "Deadlock: A deadlock occurs when two or more threads are blocked forever, waiting for each other to release resources held \n",
    "by them. It typically happens in a situation where two or more threads are each waiting for another to release a resource.\n",
    "\n",
    "Race Condition: A race condition occurs when two or more threads access shared data or resources concurrently, and the\n",
    "outcome of the execution depends on the timing or interleaving of their execution. This can lead to unpredictable behavior and incorrect results.\n",
    "These issues are common in multithreaded programming and require careful synchronization and resource management to avoid.\n",
    "Deadlocks can be prevented by carefully ordering the acquisition of resources and using timeouts, while race conditions\n",
    "\n",
    "can be mitigated using synchronization mechanisms such as locks, semaphores, or threading primitives provided by the language.\"\"\""
   ]
  }
 ],
 "metadata": {
  "kernelspec": {
   "display_name": "Python 3 (ipykernel)",
   "language": "python",
   "name": "python3"
  },
  "language_info": {
   "codemirror_mode": {
    "name": "ipython",
    "version": 3
   },
   "file_extension": ".py",
   "mimetype": "text/x-python",
   "name": "python",
   "nbconvert_exporter": "python",
   "pygments_lexer": "ipython3",
   "version": "3.9.13"
  }
 },
 "nbformat": 4,
 "nbformat_minor": 5
}
