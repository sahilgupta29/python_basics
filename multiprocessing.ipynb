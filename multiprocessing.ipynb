{
 "cells": [
  {
   "cell_type": "markdown",
   "id": "aa039f6b",
   "metadata": {},
   "source": [
    "\n",
    "Q1. What is multiprocessing in Python? Why is it useful?"
   ]
  },
  {
   "cell_type": "code",
   "execution_count": 2,
   "id": "4c151834",
   "metadata": {},
   "outputs": [
    {
     "data": {
      "text/plain": [
       "'Multiprocessing in Python refers to the ability of a program to create and manage multiple processes to execute tasks\\nconcurrently. This is particularly useful for CPU-bound tasks that can benefit from parallel execution, as it allows the\\nutilization of multiple CPU cores and improves overall performance. Multiprocessing enables better resource utilization \\nand can enhance the responsiveness of applications.\\n\\n'"
      ]
     },
     "execution_count": 2,
     "metadata": {},
     "output_type": "execute_result"
    }
   ],
   "source": [
    "\"\"\"Multiprocessing in Python refers to the ability of a program to create and manage multiple processes to execute tasks\n",
    "concurrently. This is particularly useful for CPU-bound tasks that can benefit from parallel execution, as it allows the\n",
    "utilization of multiple CPU cores and improves overall performance. Multiprocessing enables better resource utilization \n",
    "and can enhance the responsiveness of applications.\n",
    "\n",
    "\"\"\""
   ]
  },
  {
   "cell_type": "markdown",
   "id": "a159782c",
   "metadata": {},
   "source": [
    "Q2. What are the differences between multiprocessing and multithreading?\n",
    "\n"
   ]
  },
  {
   "cell_type": "code",
   "execution_count": 3,
   "id": "14835e2f",
   "metadata": {},
   "outputs": [
    {
     "data": {
      "text/plain": [
       "'Multiprocessing: Involves running multiple processes concurrently, each having its own memory space. Processes are \\nheavyweight and are more suitable for CPU-bound tasks. Communication between processes typically involves inter-process\\ncommunication (IPC).\\nMultithreading: Involves running multiple threads within the same process, sharing the same memory space. Threads are \\nlighter than processes and are more suitable for I/O-bound tasks or tasks where shared memory is beneficial. Communication\\nbetween threads is easier and more efficient but requires proper synchronization to avoid race conditions.\\n'"
      ]
     },
     "execution_count": 3,
     "metadata": {},
     "output_type": "execute_result"
    }
   ],
   "source": [
    "\"\"\"Multiprocessing: Involves running multiple processes concurrently, each having its own memory space. Processes are \n",
    "heavyweight and are more suitable for CPU-bound tasks. Communication between processes typically involves inter-process\n",
    "communication (IPC).\n",
    "Multithreading: Involves running multiple threads within the same process, sharing the same memory space. Threads are \n",
    "lighter than processes and are more suitable for I/O-bound tasks or tasks where shared memory is beneficial. Communication\n",
    "between threads is easier and more efficient but requires proper synchronization to avoid race conditions.\n",
    "\"\"\""
   ]
  },
  {
   "cell_type": "markdown",
   "id": "10f655b4",
   "metadata": {},
   "source": [
    "Q3. Write a Python code to create a process using the multiprocessing module.\n",
    "\n"
   ]
  },
  {
   "cell_type": "code",
   "execution_count": 4,
   "id": "fd2819b3",
   "metadata": {},
   "outputs": [],
   "source": [
    "import multiprocessing\n",
    "\n",
    "def my_function():\n",
    "    print(\"This is a child process\")\n",
    "\n",
    "if __name__ == \"__main__\":\n",
    "    # Create a process\n",
    "    process = multiprocessing.Process(target=my_function)\n",
    "    \n",
    "    # Start the process\n",
    "    process.start()\n",
    "    \n",
    "    # Wait for the process to finish\n",
    "    process.join()\n"
   ]
  },
  {
   "cell_type": "markdown",
   "id": "21464f0b",
   "metadata": {},
   "source": [
    "Q4. What is a multiprocessing pool in Python? Why is it used?\n"
   ]
  },
  {
   "cell_type": "code",
   "execution_count": 5,
   "id": "00d8d804",
   "metadata": {},
   "outputs": [
    {
     "data": {
      "text/plain": [
       "\"A multiprocessing pool in Python is a way to distribute tasks across multiple processes efficiently. It allows you \\nto parallelize the execution of a function across a pool of worker processes, automatically managing the creation and\\ndestruction of these processes. It's particularly useful for executing a function with different arguments in parallel,\\nwhich can significantly speed up the processing of large datasets or CPU-bound tasks.\""
      ]
     },
     "execution_count": 5,
     "metadata": {},
     "output_type": "execute_result"
    }
   ],
   "source": [
    "\"\"\"A multiprocessing pool in Python is a way to distribute tasks across multiple processes efficiently. It allows you \n",
    "to parallelize the execution of a function across a pool of worker processes, automatically managing the creation and\n",
    "destruction of these processes. It's particularly useful for executing a function with different arguments in parallel,\n",
    "which can significantly speed up the processing of large datasets or CPU-bound tasks.\"\"\""
   ]
  },
  {
   "cell_type": "markdown",
   "id": "91327f56",
   "metadata": {},
   "source": [
    "Q5. How can we create a pool of worker processes in Python using the multiprocessing module?\n",
    "\n"
   ]
  },
  {
   "cell_type": "code",
   "execution_count": null,
   "id": "0882f122",
   "metadata": {},
   "outputs": [],
   "source": [
    "import multiprocessing\n",
    "\n",
    "def my_function(x):\n",
    "    return x*x\n",
    "\n",
    "if __name__ == \"__main__\":\n",
    "    # Create a pool of worker processes\n",
    "    pool = multiprocessing.Pool()\n",
    "\n",
    "    # Map the function to the pool of processes\n",
    "    result = pool.map(my_function, [1, 2, 3, 4, 5])\n",
    "\n",
    "    # Close the pool\n",
    "    pool.close()\n",
    "    pool.join()\n",
    "\n",
    "    print(result)\n"
   ]
  },
  {
   "cell_type": "markdown",
   "id": "cc6d8462",
   "metadata": {},
   "source": [
    "Q6. Write a Python program to create 4 processes, each process should print a different number using the multiprocessing module in Python."
   ]
  },
  {
   "cell_type": "code",
   "execution_count": null,
   "id": "af2e4ec5",
   "metadata": {},
   "outputs": [],
   "source": [
    "import multiprocessing\n",
    "\n",
    "def print_number(num):\n",
    "    print(\"Process ID:\", multiprocessing.current_process().pid, \"Number:\", num)\n",
    "\n",
    "if __name__ == \"__main__\":\n",
    "    processes = []\n",
    "    for i in range(4):\n",
    "        process = multiprocessing.Process(target=print_number, args=(i,))\n",
    "        processes.append(process)\n",
    "        process.start()\n",
    "\n",
    "    for process in processes:\n",
    "        process.join()\n"
   ]
  },
  {
   "cell_type": "code",
   "execution_count": null,
   "id": "13ab5657",
   "metadata": {},
   "outputs": [],
   "source": []
  }
 ],
 "metadata": {
  "kernelspec": {
   "display_name": "Python 3 (ipykernel)",
   "language": "python",
   "name": "python3"
  },
  "language_info": {
   "codemirror_mode": {
    "name": "ipython",
    "version": 3
   },
   "file_extension": ".py",
   "mimetype": "text/x-python",
   "name": "python",
   "nbconvert_exporter": "python",
   "pygments_lexer": "ipython3",
   "version": "3.9.13"
  }
 },
 "nbformat": 4,
 "nbformat_minor": 5
}
