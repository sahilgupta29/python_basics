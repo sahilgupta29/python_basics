{
 "cells": [
  {
   "cell_type": "code",
   "execution_count": 3,
   "id": "2387e3fb",
   "metadata": {},
   "outputs": [],
   "source": [
    "##Q1. def keyword is used to create function.and \n",
    "#its syntax is def_function name(arg)\n",
    "\n",
    "def odd():\n",
    "    l1=[]\n",
    "    \n",
    "    for i in range(1,26):\n",
    "        if(i%2!=0):\n",
    "            l1.append(i)\n",
    "    return l1\n",
    "\n",
    "    "
   ]
  },
  {
   "cell_type": "code",
   "execution_count": 4,
   "id": "d7c615ec",
   "metadata": {},
   "outputs": [
    {
     "data": {
      "text/plain": [
       "[1, 3, 5, 7, 9, 11, 13, 15, 17, 19, 21, 23, 25]"
      ]
     },
     "execution_count": 4,
     "metadata": {},
     "output_type": "execute_result"
    }
   ],
   "source": [
    "odd()"
   ]
  },
  {
   "cell_type": "code",
   "execution_count": 6,
   "id": "66afd8b6",
   "metadata": {},
   "outputs": [
    {
     "name": "stdout",
     "output_type": "stream",
     "text": [
      "apple\n",
      "banana\n",
      "cherry\n",
      "fruit apple\n",
      "color red\n",
      "quantity 5\n"
     ]
    }
   ],
   "source": [
    "#Q2.In Python, *args and **kwargs are used as parameters in function definitions to allow a variable number of arguments to be passed to a function.\n",
    "\n",
    "\"\"\"The *args parameter is used to pass a variable number of non-keyworded arguments to a function. \n",
    "It allows you to pass any number of arguments to the function, which are then accessible as a \n",
    "tuple within the function. The asterisk (*)before args is used to unpack the arguments into a tuple.\"\"\"\n",
    "\n",
    "def my_function(*args):\n",
    "    for arg in args:\n",
    "        print(arg)\n",
    "\n",
    "my_function('apple', 'banana', 'cherry')\n",
    "\n",
    "\"\"\"\"The **kwargs parameter is used to pass a variable number of keyword arguments (i.e., arguments with names) to a function.\n",
    "It allows you to pass any number of keyword arguments, which are then accessibeas a dictionary within the function. The double\n",
    "asterisks (**) before kwargs are used to unpack the keyword arguments into a dictionary.\"\"\"\n",
    "\n",
    "def my_function(**kwargs):\n",
    "    for key, value in kwargs.items():\n",
    "        print(key, value)\n",
    "\n",
    "my_function(fruit='apple', color='red', quantity=5)\n"
   ]
  },
  {
   "cell_type": "code",
   "execution_count": 7,
   "id": "9e44f781",
   "metadata": {},
   "outputs": [
    {
     "name": "stdout",
     "output_type": "stream",
     "text": [
      "2\n",
      "4\n",
      "6\n",
      "8\n",
      "10\n"
     ]
    }
   ],
   "source": [
    "#Q3In Python, an iterator is an object that implements the iterator protocol,\n",
    "#which consists of two methods: __iter__() and __next__().\n",
    "my_list = [2, 4, 6, 8, 10, 12, 14, 16, 18, 20]\n",
    "\n",
    "# Create an iterator object\n",
    "my_iterator = iter(my_list)\n",
    "\n",
    "# Iterate and print the first five elements\n",
    "for i  in range(5):\n",
    "    element = next(my_iterator)\n",
    "    print(element)\n",
    "\n"
   ]
  },
  {
   "cell_type": "code",
   "execution_count": 8,
   "id": "e6dc3686",
   "metadata": {},
   "outputs": [
    {
     "name": "stdout",
     "output_type": "stream",
     "text": [
      "0\n",
      "2\n",
      "4\n",
      "6\n",
      "8\n"
     ]
    }
   ],
   "source": [
    "#q4In Python, a generator function is a special type of function that generates a sequence of values, \n",
    "#one at a time, instead of returning a single value like a regular function. It uses the yield keyword\n",
    "#instead of return to generate values dynamically.\n",
    "\"\"\"The use of yield allows generator functions to generate values lazily, on-demand, and in an efficient manner. It saves memory because it doesn't need to generate and store\n",
    "all the values at once.\"\"\"\n",
    "def even_numbers(n):\n",
    "    for i in range(n):\n",
    "        if i % 2 == 0:\n",
    "            yield i\n",
    "\n",
    "# Using the generator function\n",
    "my_generator = even_numbers(10)\n",
    "\n",
    "# Iterating over the generated values\n",
    "for num in my_generator:\n",
    "    print(num)\n",
    "\n"
   ]
  },
  {
   "cell_type": "code",
   "execution_count": 12,
   "id": "1e56c3d8",
   "metadata": {},
   "outputs": [
    {
     "name": "stdout",
     "output_type": "stream",
     "text": [
      "2\n",
      "3\n",
      "5\n",
      "7\n",
      "11\n",
      "13\n",
      "17\n",
      "19\n",
      "23\n",
      "29\n",
      "31\n",
      "37\n",
      "41\n",
      "43\n",
      "47\n",
      "53\n",
      "59\n",
      "61\n",
      "67\n",
      "71\n"
     ]
    }
   ],
   "source": [
    "# Q5.\n",
    "def prime_generator():\n",
    "    primes = []\n",
    "    num = 2\n",
    "    while True:\n",
    "        if all(num % prime != 0 for prime in primes):\n",
    "            primes.append(num)\n",
    "            yield num\n",
    "        num += 1\n",
    "        if num >= 1000:\n",
    "            break\n",
    "\n",
    "# Using the generator function\n",
    "my_generator = prime_generator()\n",
    "\n",
    "# Printing the first 20 prime numbers\n",
    "for _ in range(20):\n",
    "    prime = next(my_generator)\n",
    "    print(prime)\n"
   ]
  },
  {
   "cell_type": "code",
   "execution_count": 13,
   "id": "8ada8c73",
   "metadata": {},
   "outputs": [
    {
     "name": "stdout",
     "output_type": "stream",
     "text": [
      "0\n",
      "1\n",
      "1\n",
      "2\n",
      "3\n",
      "5\n",
      "8\n",
      "13\n",
      "21\n",
      "34\n",
      "None\n"
     ]
    }
   ],
   "source": [
    "#Q6\n",
    "def fib():\n",
    "    n=10\n",
    "    count=0\n",
    "    num1,num2=0,1\n",
    "    \n",
    "    while count<n:\n",
    "        print(num1)\n",
    "        fibonacci=num1+num2\n",
    "        num1 = num2\n",
    "        num2 = fibonacci\n",
    "        count += 1\n",
    "print(fib())       "
   ]
  },
  {
   "cell_type": "code",
   "execution_count": 22,
   "id": "bece6116",
   "metadata": {},
   "outputs": [
    {
     "name": "stdout",
     "output_type": "stream",
     "text": [
      "['p', 'w', 's', 'k', 'i', 'l', 'l', 's']\n"
     ]
    }
   ],
   "source": [
    "#Q7\n",
    "string = 'pwskills'\n",
    "output = [char for char in string]\n",
    "print(output)\n",
    "\n"
   ]
  },
  {
   "cell_type": "code",
   "execution_count": 26,
   "id": "210571c2",
   "metadata": {},
   "outputs": [
    {
     "name": "stdout",
     "output_type": "stream",
     "text": [
      "Enter a number: 121\n",
      "121 is a palindrome.\n"
     ]
    }
   ],
   "source": [
    "# Q8\n",
    "number = int(input(\"Enter a number: \"))\n",
    "temp = number\n",
    "reverse = 0\n",
    "\n",
    "while temp > 0:\n",
    "   \n",
    "    digit = temp % 10\n",
    "    reverse = reverse * 10 + digit\n",
    "    temp //= 10\n",
    "\n",
    "if number == reverse:\n",
    "    print(number, \"is a palindrome.\")\n",
    "else:\n",
    "    print(number, \"is not a palindrome.\")\n",
    "\n",
    "\n",
    "    "
   ]
  },
  {
   "cell_type": "code",
   "execution_count": null,
   "id": "1c97e363",
   "metadata": {},
   "outputs": [],
   "source": [
    "#Q9\n",
    "odd_numbers = [num for num in range(1, 101) if num % 2 != 0]\n",
    "print(odd_numbers)"
   ]
  },
  {
   "cell_type": "code",
   "execution_count": null,
   "id": "90ace807",
   "metadata": {},
   "outputs": [],
   "source": []
  }
 ],
 "metadata": {
  "kernelspec": {
   "display_name": "Python 3 (ipykernel)",
   "language": "python",
   "name": "python3"
  },
  "language_info": {
   "codemirror_mode": {
    "name": "ipython",
    "version": 3
   },
   "file_extension": ".py",
   "mimetype": "text/x-python",
   "name": "python",
   "nbconvert_exporter": "python",
   "pygments_lexer": "ipython3",
   "version": "3.9.13"
  }
 },
 "nbformat": 4,
 "nbformat_minor": 5
}
