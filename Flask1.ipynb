{
 "cells": [
  {
   "cell_type": "markdown",
   "id": "d1d45b96",
   "metadata": {},
   "source": [
    "Q1. What is Flask Framework? What are the advantages of Flask Framework"
   ]
  },
  {
   "cell_type": "code",
   "execution_count": null,
   "id": "478392c1",
   "metadata": {},
   "outputs": [],
   "source": [
    "\"\"\"Flask is a micro web framework for Python based on Werkzeug, Jinja2, and other libraries. It's designed to be lightweight and easy to use, making it a popular choice for developing web applications and APIs in Python. Flask provides the essentials for building web applications without imposing rigid patterns or dependencies, allowing developers to have more flexibility and control over their projects.\n",
    "\n",
    "### Advantages of Flask Framework:\n",
    "\n",
    "1. **Simplicity**: Flask is known for its simplicity and minimalism. It provides just the essentials for web development without unnecessary complexity, making it easy to learn and use, especially for beginners.\n",
    "\n",
    "2. **Flexibility**: Flask follows a \"micro\" framework philosophy, which means it's unopinionated and gives developers more control over how they structure and organize their applications. You can use Flask to build applications of any size or complexity, from small personal projects to large-scale web applications.\n",
    "\n",
    "3. **Modularity**: Flask is built with modularity in mind, allowing you to easily extend its functionality with third-party extensions and libraries. You can choose the components you need for your project and integrate them seamlessly into your Flask application.\n",
    "\n",
    "4. **Pythonic**: Flask is written in Python and follows Python's idiomatic style and conventions, making it feel natural and familiar to Python developers. This makes it easier to read, write, and maintain Flask code compared to frameworks in other languages.\n",
    "\n",
    "5. **Integrated Testing Support**: Flask comes with built-in support for testing, allowing you to write automated tests for your web applications. Flask's testing utilities make it easy to simulate HTTP requests, test routes, and verify responses, ensuring the reliability and correctness of your code.\n",
    "\n",
    "6. **Powerful Extension Ecosystem**: Flask has a vibrant ecosystem of third-party extensions and libraries that add additional features and functionality to your applications. These extensions cover a wide range of use cases, including authentication, database integration, form handling, caching, and more.\n",
    "\n",
    "7. **Scalability**: While Flask is lightweight and suitable for small projects, it's also scalable and can handle larger applications with proper design and architecture. You can scale Flask applications horizontally by deploying multiple instances behind a load balancer or vertically by optimizing performance and resource usage.\n",
    "\n",
    "8. **Active Community and Documentation**: Flask has a large and active community of developers who contribute to its development, provide support, and share knowledge through forums, tutorials, and documentation. The Flask documentation is comprehensive and well-maintained, making it easy to find answers to common questions and solutions to common problems.\n",
    "\n",
    "In summary, Flask is a powerful and versatile web framework for Python that offers simplicity, flexibility, modularity, and scalability. Its Pythonic design, integrated testing support, extension ecosystem, and active community make it an excellent choice for building web applications and APIs in Python.\"\"\""
   ]
  },
  {
   "cell_type": "markdown",
   "id": "4ba7b819",
   "metadata": {},
   "source": [
    "Q2. Create a simple Flask application to display ‘Hello World!!’. Attach the screenshot of the output in\n",
    "Jupyter Notebook."
   ]
  },
  {
   "cell_type": "code",
   "execution_count": null,
   "id": "05c96520",
   "metadata": {},
   "outputs": [],
   "source": [
    "from flask import Flask\n",
    "\n",
    "app = Flask(__name__)\n",
    "\n",
    "@app.route('/')\n",
    "def hello_world():\n",
    "    return 'Hello World!!'\n",
    "\n",
    "if __name__ == '__main__':\n",
    "    app.run(debug=True)\n"
   ]
  },
  {
   "cell_type": "markdown",
   "id": "01ae896b",
   "metadata": {},
   "source": [
    "Q3. What is App routing in Flask? Why do we use app routes?"
   ]
  },
  {
   "cell_type": "code",
   "execution_count": null,
   "id": "8ce9e051",
   "metadata": {},
   "outputs": [],
   "source": [
    "\"\"\"In Flask, app routing refers to the process of mapping URLs (Uniform Resource Locators) to view functions or endpoints within a Flask application. This routing mechanism allows you to define how different URLs should be handled and which Python functions should be invoked to generate the HTTP response for each URL.\n",
    "\n",
    "When you define routes in a Flask application using the @app.route() decorator, you specify the URL pattern for the route and associate it with a Python function that will be executed when the URL is accessed. This function is often referred to as a view function or endpoint.\"\"\"\n",
    "from flask import Flask\n",
    "\n",
    "app = Flask(__name__)\n",
    "\n",
    "@app.route('/')\n",
    "def index():\n",
    "    return 'Hello, World!'\n",
    "\n",
    "@app.route('/about')\n",
    "def about():\n",
    "    return 'About page'\n",
    "\n",
    "if __name__ == '__main__':\n",
    "    app.run(debug=True)\n"
   ]
  },
  {
   "cell_type": "markdown",
   "id": "be228bd5",
   "metadata": {},
   "source": [
    "Q4. Create a “/welcome” route to display the welcome message “Welcome to ABC Corporation” and a “/”\n",
    "route to show the following details:\n",
    "Company Name: ABC Corporation\n",
    "Location: India\n",
    "Contact Detail: 999-999-9999\n",
    "Attach the screenshot of the output in Jupyter Notebook."
   ]
  },
  {
   "cell_type": "code",
   "execution_count": null,
   "id": "ca34ace8",
   "metadata": {},
   "outputs": [],
   "source": [
    "from flask import Flask\n",
    "\n",
    "app = Flask(__name__)\n",
    "\n",
    "@app.route('/welcome')\n",
    "def welcome():\n",
    "    return 'Welcome to ABC Corporation'\n",
    "\n",
    "@app.route('/')\n",
    "def company_details():\n",
    "    return \"\"\"Company Name: ABC Corporation<br>\n",
    "              Location: India<br>\n",
    "              Contact Detail: 999-999-9999\"\"\"\n",
    "\n",
    "if __name__ == '__main__':\n",
    "    app.run(debug=True)\n"
   ]
  },
  {
   "cell_type": "markdown",
   "id": "39f115ee",
   "metadata": {},
   "source": [
    "Q5. What function is used in Flask for URL Building? Write a Python code to demonstrate the working of the\n",
    "url_for() function."
   ]
  },
  {
   "cell_type": "code",
   "execution_count": null,
   "id": "5d9ed16d",
   "metadata": {},
   "outputs": [],
   "source": [
    "\"\"\"In Flask, the url_for() function is used for URL building. It generates a URL for the specified endpoint (view function) by taking into account the routing rules defined in the application.\n",
    "\n",
    "Here's a simple Python code to demonstrate the working of the url_for() function in Flask:\"\"\"\n",
    "from flask import Flask, url_for\n",
    "\n",
    "app = Flask(__name__)\n",
    "\n",
    "# Define a couple of view functions (endpoints)\n",
    "@app.route('/')\n",
    "def index():\n",
    "    return 'Welcome to the homepage!'\n",
    "\n",
    "@app.route('/about')\n",
    "def about():\n",
    "    return 'This is the About page.'\n",
    "\n",
    "@app.route('/profile/<username>')\n",
    "def profile(username):\n",
    "    return f'Profile page of {username}'\n",
    "\n",
    "# Define a view function to demonstrate url_for() usage\n",
    "@app.route('/get_url')\n",
    "def get_url():\n",
    "    # Generate URLs for the specified endpoints\n",
    "    index_url = url_for('index')\n",
    "    about_url = url_for('about')\n",
    "    profile_url = url_for('profile', username='john_doe')\n",
    "\n",
    "    # Return the generated URLs\n",
    "    return f'URL for index: {index_url}<br>' \\\n",
    "           f'URL for about: {about_url}<br>' \\\n",
    "           f'URL for profile: {profile_url}'\n",
    "\n",
    "if __name__ == '__main__':\n",
    "    app.run(debug=True)\n",
    "\n"
   ]
  }
 ],
 "metadata": {
  "kernelspec": {
   "display_name": "Python 3 (ipykernel)",
   "language": "python",
   "name": "python3"
  },
  "language_info": {
   "codemirror_mode": {
    "name": "ipython",
    "version": 3
   },
   "file_extension": ".py",
   "mimetype": "text/x-python",
   "name": "python",
   "nbconvert_exporter": "python",
   "pygments_lexer": "ipython3",
   "version": "3.9.13"
  }
 },
 "nbformat": 4,
 "nbformat_minor": 5
}
