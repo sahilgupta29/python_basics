{
 "cells": [
  {
   "cell_type": "markdown",
   "id": "727de973",
   "metadata": {},
   "source": [
    "Q1. Create a Pandas Series that contains the following data: 4, 8, 15, 16, 23, and 42. Then, print the series."
   ]
  },
  {
   "cell_type": "code",
   "execution_count": 5,
   "id": "c8eba2be",
   "metadata": {},
   "outputs": [
    {
     "name": "stdout",
     "output_type": "stream",
     "text": [
      "0     4\n",
      "1     8\n",
      "2    15\n",
      "3    16\n",
      "4    23\n",
      "5    42\n",
      "dtype: int64\n"
     ]
    }
   ],
   "source": [
    "#Answer\n",
    "import pandas as pd\n",
    "df=pd.Series([4,8,15,16,23,42])\n",
    "print(df)"
   ]
  },
  {
   "cell_type": "markdown",
   "id": "c01710cb",
   "metadata": {},
   "source": [
    "Q2. Create a variable of list type containing 10 elements in it, and apply pandas.Series function on the\n",
    "variable print it."
   ]
  },
  {
   "cell_type": "code",
   "execution_count": 9,
   "id": "ed3bef91",
   "metadata": {},
   "outputs": [
    {
     "data": {
      "text/plain": [
       "0        2\n",
       "1        4\n",
       "2        6\n",
       "3        3\n",
       "4      324\n",
       "5        6\n",
       "6        4\n",
       "7        7\n",
       "8    sahil\n",
       "9        S\n",
       "dtype: object"
      ]
     },
     "execution_count": 9,
     "metadata": {},
     "output_type": "execute_result"
    }
   ],
   "source": [
    "#Answer\n",
    "lis=[2,4,6,3,324,6,4,7,\"sahil\",'S']\n",
    "\n",
    "my_ser=pd.Series(lis)\n",
    "my_ser"
   ]
  },
  {
   "cell_type": "markdown",
   "id": "78755972",
   "metadata": {},
   "source": [
    "Q3. Create a Pandas DataFrame that contains the following data:\n",
    "\n",
    "\n",
    "Name\n",
    "Alice\n",
    "Bob\n",
    "Claire\n",
    "\n",
    "Age\n",
    "25\n",
    "30\n",
    "27\n",
    "\n",
    "Gender\n",
    "Female\n",
    "Male\n",
    "Female"
   ]
  },
  {
   "cell_type": "code",
   "execution_count": 11,
   "id": "d385787f",
   "metadata": {},
   "outputs": [
    {
     "name": "stdout",
     "output_type": "stream",
     "text": [
      "     Name  Age  Gender\n",
      "0   Alice   25  Female\n",
      "1     Bob   30    Male\n",
      "2  Claire   27  Female\n"
     ]
    }
   ],
   "source": [
    "#Answer\n",
    "df=pd.DataFrame({\"Name\":[\"Alice\",\"Bob\",\"Claire\"],\"Age\":[25,30,27],\"Gender\":[\"Female\",\"Male\",\"Female\"]})\n",
    "print(df)"
   ]
  },
  {
   "cell_type": "markdown",
   "id": "2ba7c102",
   "metadata": {},
   "source": [
    "Q4. What is ‘DataFrame’ in pandas and how is it different from pandas.series? Explain with an example."
   ]
  },
  {
   "cell_type": "code",
   "execution_count": 14,
   "id": "5ce465d3",
   "metadata": {},
   "outputs": [
    {
     "name": "stdout",
     "output_type": "stream",
     "text": [
      "0    10\n",
      "1    20\n",
      "2    30\n",
      "3    40\n",
      "4    50\n",
      "dtype: int64\n",
      "   A  B  C\n",
      "0  1  4  7\n",
      "1  2  5  8\n",
      "2  3  6  9\n"
     ]
    }
   ],
   "source": [
    "#Answer\n",
    "\"\"\"DataFrame in pandas is a two-dimensional labeled data structure, similar to a table in a relational database or an Excel spreadsheet.\n",
    "It consists of rows and columns and can store data of different data types. Each column in a DataFrame represents a pandas Series. \n",
    "The primary difference between a DataFrame and a pandas Series is that a Series is a one-dimensional labeled array,\n",
    "whereas a DataFrame is a two-dimensional labeled data structure \n",
    "that can contain multiple Series objects.\"\"\"\n",
    "\n",
    "import pandas as pd\n",
    "\n",
    "# Create a pandas Series\n",
    "ser = pd.Series([10, 20, 30, 40, 50])\n",
    "\n",
    "# Create a pandas DataFrame\n",
    "df = pd.DataFrame({'A': [1, 2, 3], 'B': [4, 5, 6], 'C': [7, 8, 9]})\n",
    "print(ser)\n",
    "print(df)"
   ]
  },
  {
   "cell_type": "markdown",
   "id": "01022325",
   "metadata": {},
   "source": [
    "Q5. What are some common functions you can use to manipulate data in a Pandas DataFrame? Can\n",
    "you give an example of when you might use one of these functions?"
   ]
  },
  {
   "cell_type": "code",
   "execution_count": 17,
   "id": "d0a4f710",
   "metadata": {},
   "outputs": [
    {
     "name": "stdout",
     "output_type": "stream",
     "text": [
      "    Name  Age  Gender\n",
      "0  Alice   25  Female\n",
      "1    Bob   30    Male\n",
      "     Name  Age  Gender\n",
      "1     Bob   30    Male\n",
      "2  Claire   27  Female\n",
      "             Age\n",
      "count   5.000000\n",
      "mean   27.800000\n",
      "std     4.969909\n",
      "min    22.000000\n",
      "25%    25.000000\n",
      "50%    27.000000\n",
      "75%    30.000000\n",
      "max    35.000000\n",
      "Name       Alice\n",
      "Age           25\n",
      "Gender    Female\n",
      "Name: 0, dtype: object\n",
      "Name       Bob\n",
      "Age         30\n",
      "Gender    Male\n",
      "Name: 1, dtype: object\n"
     ]
    }
   ],
   "source": [
    "#Answer\n",
    "#a. head() and tail(): These functions allow you to view the first or last few rows of the DataFrame, respectively.\n",
    "import pandas as pd\n",
    "\n",
    "# Create a DataFrame\n",
    "data = {'Name': ['Alice', 'Bob', 'Claire'],\n",
    "        'Age': [25, 30, 27],\n",
    "        'Gender': ['Female', 'Male', 'Female']}\n",
    "\n",
    "df = pd.DataFrame(data)\n",
    "\n",
    "# Use head() to view the first 2 rows\n",
    "print(df.head(2))\n",
    "\n",
    "# Use tail() to view the last 2 rows\n",
    "print(df.tail(2))\n",
    "\n",
    "#b. describe(): Provides summary statistics of the DataFrame like count, mean, min, max, etc.\n",
    "import pandas as pd\n",
    "\n",
    "# Create a DataFrame\n",
    "data = {'Age': [25, 30, 27, 22, 35]}\n",
    "df = pd.DataFrame(data)\n",
    "\n",
    "# Use describe() to get summary statistics\n",
    "print(df.describe())\n",
    "\n",
    "import pandas as pd\n",
    "\n",
    "# Create a DataFrame\n",
    "data = {'Name': ['Alice', 'Bob', 'Claire'],\n",
    "        'Age': [25, 30, 27],\n",
    "        'Gender': ['Female', 'Male', 'Female']}\n",
    "\n",
    "df = pd.DataFrame(data)\n",
    "\n",
    "# Use loc[] to select rows by label\n",
    "print(df.loc[0])  # Select the first row\n",
    "\n",
    "# Use iloc[] to select rows by integer index\n",
    "print(df.iloc[1])  # Select the second row\n"
   ]
  },
  {
   "cell_type": "markdown",
   "id": "b04e8d6c",
   "metadata": {},
   "source": [
    "Q6. Which of the following is mutable in nature Series, DataFrame, Panel?"
   ]
  },
  {
   "cell_type": "code",
   "execution_count": 18,
   "id": "60ce6340",
   "metadata": {},
   "outputs": [],
   "source": [
    "# In pandas, both Series and DataFrame are mutable in nature"
   ]
  },
  {
   "cell_type": "markdown",
   "id": "4cc82db1",
   "metadata": {},
   "source": [
    "Q7. Create a DataFrame using multiple Series. Explain with an example."
   ]
  },
  {
   "cell_type": "code",
   "execution_count": 19,
   "id": "a3827883",
   "metadata": {},
   "outputs": [
    {
     "name": "stdout",
     "output_type": "stream",
     "text": [
      "     Name  Age  Gender\n",
      "0   Alice   25  Female\n",
      "1     Bob   30    Male\n",
      "2  Claire   27  Female\n"
     ]
    }
   ],
   "source": [
    "import pandas as pd\n",
    "\n",
    "# Create Series for Name, Age, and Gender\n",
    "names = pd.Series(['Alice', 'Bob', 'Claire'])\n",
    "ages = pd.Series([25, 30, 27])\n",
    "genders = pd.Series(['Female', 'Male', 'Female'])\n",
    "\n",
    "# Create a DataFrame using the above Series\n",
    "df = pd.DataFrame({'Name': names, 'Age': ages, 'Gender': genders})\n",
    "\n",
    "# Print the DataFrame\n",
    "print(df)\n"
   ]
  },
  {
   "cell_type": "code",
   "execution_count": null,
   "id": "070d5dd0",
   "metadata": {},
   "outputs": [],
   "source": []
  }
 ],
 "metadata": {
  "kernelspec": {
   "display_name": "Python 3 (ipykernel)",
   "language": "python",
   "name": "python3"
  },
  "language_info": {
   "codemirror_mode": {
    "name": "ipython",
    "version": 3
   },
   "file_extension": ".py",
   "mimetype": "text/x-python",
   "name": "python",
   "nbconvert_exporter": "python",
   "pygments_lexer": "ipython3",
   "version": "3.9.13"
  }
 },
 "nbformat": 4,
 "nbformat_minor": 5
}
