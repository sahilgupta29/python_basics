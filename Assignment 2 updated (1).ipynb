{
 "cells": [
  {
   "cell_type": "code",
   "execution_count": null,
   "id": "31ba775a",
   "metadata": {},
   "outputs": [],
   "source": [
    "# Q1 Answer\n",
    "\n",
    "\n",
    "\n",
    "\"\"\"\"Comments in Python are identified with a hash symbol\n",
    "and extend to the end of the line. Hash characters in a string are not \n",
    "considered comments, however.\"\"\"\n",
    "\n",
    "\n",
    "\n",
    "\n",
    "\n",
    "There are three types of comments in Python:\n",
    "\n",
    "Single line Comments\n",
    "Multiline Comments\n",
    "Docstring Comments\n",
    "\n",
    "Single comment Example-->\n",
    "# sample comment\n",
    "#name = \"sahil gupta\"\n",
    "Multiline Comments Exmple-->\n",
    "# hello this is assgnment 2\n",
    "# and in this i learn python data structure\n",
    "Docstring Comments\n",
    "\"\"\" Python program to demonstrate\n",
    " multiline comments\"\"\"\n",
    "\n",
    "\n"
   ]
  },
  {
   "cell_type": "code",
   "execution_count": 1,
   "id": "38ad167b",
   "metadata": {},
   "outputs": [
    {
     "name": "stdout",
     "output_type": "stream",
     "text": [
      "sahil\n"
     ]
    }
   ],
   "source": [
    "\"\"\"Q2 Answer\n",
    "\n",
    "What are variables in Python?\n",
    "Variables in Python – Real Python\n",
    "A Python variable is a symbolic name that is a reference or pointer to an object.\n",
    "Just name the variable\"\"\"\n",
    "\n",
    "\"\"\"Assign the required value to it\n",
    "\n",
    "The data type of the variable will be automatically determined from the value assigned, we need not define it explicitly.\n",
    "\n",
    "\n",
    "Example->>>\"\"\"\n",
    "a=5\n",
    "\n",
    "b=\"sahil\"\n",
    "\n",
    "print(b)"
   ]
  },
  {
   "cell_type": "code",
   "execution_count": 2,
   "id": "034dfaac",
   "metadata": {},
   "outputs": [
    {
     "name": "stdout",
     "output_type": "stream",
     "text": [
      "5\n"
     ]
    }
   ],
   "source": [
    "#Q3 Answer\n",
    "#We need to type  that variable we need to convert.\n",
    "a=5.00 # here it is float variable we need to covert into int .\n",
    "b=int(a)\n",
    "print(b)"
   ]
  },
  {
   "cell_type": "code",
   "execution_count": null,
   "id": "5147ccd7",
   "metadata": {},
   "outputs": [],
   "source": [
    "Q4 \"\"\"Answer-->\n",
    "To run Python scripts with the python command,\n",
    "you need to open a command-line and type in the word python ,\n",
    "or python3 if you have both versions, followed by the path to your script, just like this: $ python3 hello.py Hello World!\"\"\""
   ]
  },
  {
   "cell_type": "code",
   "execution_count": 2,
   "id": "5d851c8e",
   "metadata": {},
   "outputs": [
    {
     "name": "stdout",
     "output_type": "stream",
     "text": [
      "[2, 3]\n"
     ]
    }
   ],
   "source": [
    "#Q5 Answer-->\n",
    "my_list = [1, 2, 3, 4, 5]\n",
    "sub_list = my_list[1:3]\n",
    "print(sub_list)\n"
   ]
  },
  {
   "cell_type": "code",
   "execution_count": 5,
   "id": "9549999f",
   "metadata": {},
   "outputs": [
    {
     "name": "stdout",
     "output_type": "stream",
     "text": [
      "(2+3j)\n",
      "(4+5j)\n"
     ]
    }
   ],
   "source": [
    "Q6.Answer\n",
    "\"\"\"\"\"In mathematics, a complex number is a number that can be expressed in \n",
    "the form a + bi, where a and b are real numbers, and i is the \n",
    "imaginary unit .\n",
    "\n",
    "In Python, complex numbers are represented using the complex data type.\n",
    "The imaginary unit i is denoted by j\n",
    "Example-->\"\"\"\n",
    "# Creating a complex number using complex()\n",
    "z1 = complex(2, 3)\n",
    "print(z1)  # Output: (2+3j)\n",
    "\n",
    "# Creating a complex number directly\n",
    "z2 = 4 + 5j\n",
    "print(z2)  # Output: (4+5j)\n"
   ]
  },
  {
   "cell_type": "code",
   "execution_count": 11,
   "id": "f0c5ddca",
   "metadata": {},
   "outputs": [],
   "source": [
    "#Q7 Answer\n",
    "\"\"\"In Python, variable declaration is not required. You can simply assign a value to a variable using the assignment operator (=). The variable age is created and assigned the value 25 in a single line.\"\"\"\n",
    "age = 25\n"
   ]
  },
  {
   "cell_type": "code",
   "execution_count": 12,
   "id": "c2ef527b",
   "metadata": {},
   "outputs": [
    {
     "name": "stdout",
     "output_type": "stream",
     "text": [
      "<class 'float'>\n"
     ]
    }
   ],
   "source": [
    "#Q8.Answer\n",
    "price=9.99\n",
    "print(type(price))# float"
   ]
  },
  {
   "cell_type": "code",
   "execution_count": 13,
   "id": "75923978",
   "metadata": {},
   "outputs": [
    {
     "name": "stdout",
     "output_type": "stream",
     "text": [
      "Sahil Gupta\n"
     ]
    }
   ],
   "source": [
    "#Q9 Answer\n",
    "name=\"Sahil Gupta\"\n",
    "print(name)"
   ]
  },
  {
   "cell_type": "code",
   "execution_count": 16,
   "id": "997cef2f",
   "metadata": {},
   "outputs": [
    {
     "name": "stdout",
     "output_type": "stream",
     "text": [
      " World\n"
     ]
    }
   ],
   "source": [
    "# Q10 Answer\n",
    "c=\"Hello, World!\"\n",
    "print(c[6:12])"
   ]
  },
  {
   "cell_type": "code",
   "execution_count": 17,
   "id": "0c726727",
   "metadata": {},
   "outputs": [
    {
     "name": "stdout",
     "output_type": "stream",
     "text": [
      "True\n"
     ]
    }
   ],
   "source": [
    "# Q11 Answer\n",
    "is_student=True\n",
    "print(is_student)"
   ]
  },
  {
   "cell_type": "markdown",
   "id": "79b6e3d2",
   "metadata": {},
   "source": [
    "## Completed"
   ]
  }
 ],
 "metadata": {
  "kernelspec": {
   "display_name": "Python 3 (ipykernel)",
   "language": "python",
   "name": "python3"
  },
  "language_info": {
   "codemirror_mode": {
    "name": "ipython",
    "version": 3
   },
   "file_extension": ".py",
   "mimetype": "text/x-python",
   "name": "python",
   "nbconvert_exporter": "python",
   "pygments_lexer": "ipython3",
   "version": "3.9.13"
  }
 },
 "nbformat": 4,
 "nbformat_minor": 5
}
