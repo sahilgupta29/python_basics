{
 "cells": [
  {
   "cell_type": "markdown",
   "id": "b4877f91",
   "metadata": {},
   "source": [
    "Q1. What are the three measures of central tendency?"
   ]
  },
  {
   "cell_type": "code",
   "execution_count": 1,
   "id": "343239d4",
   "metadata": {},
   "outputs": [
    {
     "data": {
      "text/plain": [
       "'The three measures of central tendency are:\\n\\n1. Mean: The mean, also known as the average, is calculated by adding up all the values in a dataset and then dividing by \\nthe total number of values. It represents the arithmetic center of the data.\\n\\n2. Median: The median is the middle value in a dataset when it is arranged in ascending or descending order. \\nIt is not affected by extreme values (outliers) and provides a measure of the central value that divides the dataset\\ninto two equal halves.\\n\\n3. Mode: The mode is the value that appears most frequently in a dataset. A dataset can have one mode (unimodal), more than\\none mode (multimodal), or no mode if all values occur with the same frequency.\\n\\nThese measures help describe the central or typical value of a dataset and provide insights into its distribution and\\ncharacteristics.'"
      ]
     },
     "execution_count": 1,
     "metadata": {},
     "output_type": "execute_result"
    }
   ],
   "source": [
    "\"\"\"The three measures of central tendency are:\n",
    "\n",
    "1. Mean: The mean, also known as the average, is calculated by adding up all the values in a dataset and then dividing by \n",
    "the total number of values. It represents the arithmetic center of the data.\n",
    "\n",
    "2. Median: The median is the middle value in a dataset when it is arranged in ascending or descending order. \n",
    "It is not affected by extreme values (outliers) and provides a measure of the central value that divides the dataset\n",
    "into two equal halves.\n",
    "\n",
    "3. Mode: The mode is the value that appears most frequently in a dataset. A dataset can have one mode (unimodal), more than\n",
    "one mode (multimodal), or no mode if all values occur with the same frequency.\n",
    "\n",
    "These measures help describe the central or typical value of a dataset and provide insights into its distribution and\n",
    "characteristics.\"\"\""
   ]
  },
  {
   "cell_type": "markdown",
   "id": "4eb3ff3a",
   "metadata": {},
   "source": [
    "Q2. What is the difference between the mean, median, and mode? How are they used to measure the\n",
    "central tendency of a dataset?"
   ]
  },
  {
   "cell_type": "code",
   "execution_count": 2,
   "id": "681fe1d8",
   "metadata": {},
   "outputs": [
    {
     "data": {
      "text/plain": [
       "'The mean, median, and mode are all measures of central tendency used to describe the center or typical value of a \\ndataset, but they have different properties and are suitable for different types of data distributions.\\n\\n1. Mean:\\n   - The mean is the arithmetic average of a set of values. It is calculated by summing up all the values in the\\n   dataset and then dividing by the total number of values.\\n   - The mean is influenced by extreme values (outliers) since it takes into account every data point.\\n   - It is commonly used when the data follows a roughly symmetric distribution without significant outliers.\\n\\n2. Median:\\n   - The median is the middle value in a dataset when it is arranged in ascending or descending order.\\n   - The median is not affected by extreme values or outliers, making it a robust measure of central tendency.\\n   - It is especially useful when the data contains outliers or when the distribution is skewed.\\n\\n3. Mode:\\n   - The mode is the value that appears most frequently in a dataset.\\n   - It can be used for both numerical and categorical data.\\n   - A dataset can have multiple modes (multimodal) or no mode if all values occur with the same frequency.\\n   - The mode is often used for categorical or nominal data, such as colors or types of animals.'"
      ]
     },
     "execution_count": 2,
     "metadata": {},
     "output_type": "execute_result"
    }
   ],
   "source": [
    "\"\"\"The mean, median, and mode are all measures of central tendency used to describe the center or typical value of a \n",
    "dataset, but they have different properties and are suitable for different types of data distributions.\n",
    "\n",
    "1. Mean:\n",
    "   - The mean is the arithmetic average of a set of values. It is calculated by summing up all the values in the\n",
    "   dataset and then dividing by the total number of values.\n",
    "   - The mean is influenced by extreme values (outliers) since it takes into account every data point.\n",
    "   - It is commonly used when the data follows a roughly symmetric distribution without significant outliers.\n",
    "\n",
    "2. Median:\n",
    "   - The median is the middle value in a dataset when it is arranged in ascending or descending order.\n",
    "   - The median is not affected by extreme values or outliers, making it a robust measure of central tendency.\n",
    "   - It is especially useful when the data contains outliers or when the distribution is skewed.\n",
    "\n",
    "3. Mode:\n",
    "   - The mode is the value that appears most frequently in a dataset.\n",
    "   - It can be used for both numerical and categorical data.\n",
    "   - A dataset can have multiple modes (multimodal) or no mode if all values occur with the same frequency.\n",
    "   - The mode is often used for categorical or nominal data, such as colors or types of animals.\"\"\"\n",
    "\n"
   ]
  },
  {
   "cell_type": "markdown",
   "id": "01c71f13",
   "metadata": {},
   "source": [
    "Q3. Measure the three measures of central tendency for the given height data:\n",
    "[178,177,176,177,178.2,178,175,179,180,175,178.9,176.2,177,172.5,178,176.5]"
   ]
  },
  {
   "cell_type": "code",
   "execution_count": 4,
   "id": "bcb1776b",
   "metadata": {},
   "outputs": [
    {
     "data": {
      "text/plain": [
       "\"Sure, let's calculate the three measures of central tendency (mean, median, and mode) for the given height data: \\n[178, 177, 176, 177, 178.2, 178, 175, 179, 180, 175, 178.9, 176.2, 177, 172.5, 178, 176.5].\\n\\n1. Mean:\\nTo calculate the mean, we sum up all the values and then divide by the total number of values.\\nMean = (178 + 177 + 176 + 177 + 178.2 + 178 + 175 + 179 + 180 + 175 + 178.9 + 176.2 + 177 + 172.5 + 178 + 176.5) / 16 ≈ 176.9688\\n\\n2. Median:\\nFirst, we need to arrange the data in ascending order:\\n[172.5, 175, 175, 176, 176, 176.2, 176.5, 177, 177, 177, 178, 178, 178, 178.2, 178.9, 179, 180]\\n\\nSince there are 16 values, the median will be the average of the 8th and 9th values:\\nMedian = (177 + 177) / 2 = 177\\n\\n3. Mode:\\nThe mode is the value that appears most frequently. In this dataset, the value 178 appears most frequently (four times), making it the mode.\\n\\nSo, for the given height data:\\n- Mean ≈ 176.9688\\n- Median = 177\\n- Mode = 178\""
      ]
     },
     "execution_count": 4,
     "metadata": {},
     "output_type": "execute_result"
    }
   ],
   "source": [
    "\"\"\"Sure, let's calculate the three measures of central tendency (mean, median, and mode) for the given height data: \n",
    "[178, 177, 176, 177, 178.2, 178, 175, 179, 180, 175, 178.9, 176.2, 177, 172.5, 178, 176.5].\n",
    "\n",
    "1. Mean:\n",
    "To calculate the mean, we sum up all the values and then divide by the total number of values.\n",
    "Mean = (178 + 177 + 176 + 177 + 178.2 + 178 + 175 + 179 + 180 + 175 + 178.9 + 176.2 + 177 + 172.5 + 178 + 176.5) / 16 ≈ 176.9688\n",
    "\n",
    "2. Median:\n",
    "First, we need to arrange the data in ascending order:\n",
    "[172.5, 175, 175, 176, 176, 176.2, 176.5, 177, 177, 177, 178, 178, 178, 178.2, 178.9, 179, 180]\n",
    "\n",
    "Since there are 16 values, the median will be the average of the 8th and 9th values:\n",
    "Median = (177 + 177) / 2 = 177\n",
    "\n",
    "3. Mode:\n",
    "The mode is the value that appears most frequently. In this dataset, the value 178 appears most frequently (four times), making it the mode.\n",
    "\n",
    "So, for the given height data:\n",
    "- Mean ≈ 176.9688\n",
    "- Median = 177\n",
    "- Mode = 178\"\"\""
   ]
  },
  {
   "cell_type": "markdown",
   "id": "32afcd8f",
   "metadata": {},
   "source": [
    "Q4. Find the standard deviation for the given data:\n",
    "[178,177,176,177,178.2,178,175,179,180,175,178.9,176.2,177,172.5,178,176.5]"
   ]
  },
  {
   "cell_type": "code",
   "execution_count": 6,
   "id": "e2b59a35",
   "metadata": {},
   "outputs": [
    {
     "data": {
      "text/plain": [
       "\"Certainly, let's calculate the standard deviation step by step:\\n\\nGiven data: [178, 177, 176, 177, 178.2, 178, 175, 179, 180, 175, 178.9, 176.2, 177, 172.5, 178, 176.5]\\n\\nStep 1: Calculate the mean\\nMean = (178 + 177 + 176 + 177 + 178.2 + 178 + 175 + 179 + 180 + 175 + 178.9 + 176.2 + 177 + 172.5 + 178 + 176.5) / 16 ≈ 177.6625\\n\\nStep 2: Calculate the squared differences from the mean\\n[(178 - 177.6625)^2, (177 - 177.6625)^2, ..., (176.5 - 177.6625)^2]\\n\\n[(0.3375)^2, (-0.6625)^2, (-1.6625)^2, (-0.6625)^2, (0.5375)^2, (0.3375)^2, (-2.6625)^2, (1.3375)^2, (2.3375)^2, (-2.6625)^2, (1.2375)^2, (-1.4625)^2, (-0.6625)^2, (-5.1625)^2, (0.3375)^2, (-1.1625)^2]\\n\\nStep 3: Calculate the mean of squared differences\\nMean of squared differences = (0.3375^2 + 0.6625^2 + 1.6625^2 + 0.6625^2 + 0.5375^2 + 0.3375^2 + 2.6625^2 + 1.3375^2 + 2.3375^2 + 2.6625^2 + 1.2375^2 + 1.4625^2 + 0.6625^2 + 5.1625^2 + 0.3375^2 + 1.1625^2) / 16 ≈ 2.5463\\n\\nStep 4: Take the square root of the mean of squared differences\\nStandard deviation = √2.5463 ≈ 1.5954\\n\\nSo, the standard deviation of the given data is approximately 1.5954.\""
      ]
     },
     "execution_count": 6,
     "metadata": {},
     "output_type": "execute_result"
    }
   ],
   "source": [
    "\"\"\"Certainly, let's calculate the standard deviation step by step:\n",
    "\n",
    "Given data: [178, 177, 176, 177, 178.2, 178, 175, 179, 180, 175, 178.9, 176.2, 177, 172.5, 178, 176.5]\n",
    "\n",
    "Step 1: Calculate the mean\n",
    "Mean = (178 + 177 + 176 + 177 + 178.2 + 178 + 175 + 179 + 180 + 175 + 178.9 + 176.2 + 177 + 172.5 + 178 + 176.5) / 16 ≈ 177.6625\n",
    "\n",
    "Step 2: Calculate the squared differences from the mean\n",
    "[(178 - 177.6625)^2, (177 - 177.6625)^2, ..., (176.5 - 177.6625)^2]\n",
    "\n",
    "[(0.3375)^2, (-0.6625)^2, (-1.6625)^2, (-0.6625)^2, (0.5375)^2, (0.3375)^2, (-2.6625)^2, (1.3375)^2, (2.3375)^2, (-2.6625)^2, (1.2375)^2, (-1.4625)^2, (-0.6625)^2, (-5.1625)^2, (0.3375)^2, (-1.1625)^2]\n",
    "\n",
    "Step 3: Calculate the mean of squared differences\n",
    "Mean of squared differences = (0.3375^2 + 0.6625^2 + 1.6625^2 + 0.6625^2 + 0.5375^2 + 0.3375^2 + 2.6625^2 + 1.3375^2 + 2.3375^2 + 2.6625^2 + 1.2375^2 + 1.4625^2 + 0.6625^2 + 5.1625^2 + 0.3375^2 + 1.1625^2) / 16 ≈ 2.5463\n",
    "\n",
    "Step 4: Take the square root of the mean of squared differences\n",
    "Standard deviation = √2.5463 ≈ 1.5954\n",
    "\n",
    "So, the standard deviation of the given data is approximately 1.5954.\"\"\""
   ]
  },
  {
   "cell_type": "markdown",
   "id": "c821db22",
   "metadata": {},
   "source": [
    "Q5. How are measures of dispersion such as range, variance, and standard deviation used to describe\n",
    "the spread of a dataset? Provide an example."
   ]
  },
  {
   "cell_type": "code",
   "execution_count": 7,
   "id": "07bfffb1",
   "metadata": {},
   "outputs": [
    {
     "data": {
      "text/plain": [
       "\"Measures of dispersion, such as range, variance, and standard deviation, are used to describe the spread or variability of a dataset. They provide information about how much the individual data points deviate from the central tendency (mean, median, or mode). A larger dispersion indicates a greater spread of data points, while a smaller dispersion indicates that data points are closer to the central value.\\n\\nLet's use an example to illustrate how these measures of dispersion work:\\n\\nExample: Exam Scores\\n\\nConsider the exam scores of two different classes, Class A and Class B, in a mathematics test:\\n\\n**Class A Scores:** 85, 88, 90, 92, 95\\n\\n**Class B Scores:** 70, 85, 90, 92, 100\\n\\n1. Range:\\nThe range is the simplest measure of dispersion and is calculated by subtracting the minimum value from the maximum value in a dataset.\\n\\nFor Class A: Range = 95 - 85 = 10\\nFor Class B: Range = 100 - 70 = 30\\n\\nThe range provides an idea of the spread between the lowest and highest scores in each class.\\n\\n2. Variance:\\nVariance measures the average of the squared differences between each data point and the mean of the dataset.\\n\\nFor Class A:\\nMean = (85 + 88 + 90 + 92 + 95) / 5 = 90\\nVariance = [(85 - 90)^2 + (88 - 90)^2 + (90 - 90)^2 + (92 - 90)^2 + (95 - 90)^2] / 5 ≈ 14.5\\n\\nFor Class B:\\nMean = (70 + 85 + 90 + 92 + 100) / 5 = 87.4\\nVariance = [(70 - 87.4)^2 + (85 - 87.4)^2 + (90 - 87.4)^2 + (92 - 87.4)^2 + (100 - 87.4)^2] / 5 ≈ 158.2\\n\\nVariance provides an average measure of how much each score deviates from the mean. However, the variance is in squared units, which can make interpretation a bit challenging.\\n\\n3. Standard Deviation:\\nThe standard deviation is the square root of the variance. It provides a more intuitive measure of dispersion in the same units as the original data.\\n\\nFor Class A: Standard Deviation ≈ √14.5 ≈ 3.81\\nFor Class B: Standard Deviation ≈ √158.2 ≈ 12.57\\n\\nThe standard deviation gives a sense of how much the scores typically vary from the mean. A higher standard deviation indicates greater variability.\\n\\nIn this example, Class B has a wider spread of scores, as indicated by the larger range, variance, and standard deviation, suggesting more variability in performance compared to Class A.\""
      ]
     },
     "execution_count": 7,
     "metadata": {},
     "output_type": "execute_result"
    }
   ],
   "source": [
    "\"\"\"Measures of dispersion, such as range, variance, and standard deviation, are used to describe the spread or variability of a dataset. They provide information about how much the individual data points deviate from the central tendency (mean, median, or mode). A larger dispersion indicates a greater spread of data points, while a smaller dispersion indicates that data points are closer to the central value.\n",
    "\n",
    "Let's use an example to illustrate how these measures of dispersion work:\n",
    "\n",
    "Example: Exam Scores\n",
    "\n",
    "Consider the exam scores of two different classes, Class A and Class B, in a mathematics test:\n",
    "\n",
    "**Class A Scores:** 85, 88, 90, 92, 95\n",
    "\n",
    "**Class B Scores:** 70, 85, 90, 92, 100\n",
    "\n",
    "1. Range:\n",
    "The range is the simplest measure of dispersion and is calculated by subtracting the minimum value from the maximum value in a dataset.\n",
    "\n",
    "For Class A: Range = 95 - 85 = 10\n",
    "For Class B: Range = 100 - 70 = 30\n",
    "\n",
    "The range provides an idea of the spread between the lowest and highest scores in each class.\n",
    "\n",
    "2. Variance:\n",
    "Variance measures the average of the squared differences between each data point and the mean of the dataset.\n",
    "\n",
    "For Class A:\n",
    "Mean = (85 + 88 + 90 + 92 + 95) / 5 = 90\n",
    "Variance = [(85 - 90)^2 + (88 - 90)^2 + (90 - 90)^2 + (92 - 90)^2 + (95 - 90)^2] / 5 ≈ 14.5\n",
    "\n",
    "For Class B:\n",
    "Mean = (70 + 85 + 90 + 92 + 100) / 5 = 87.4\n",
    "Variance = [(70 - 87.4)^2 + (85 - 87.4)^2 + (90 - 87.4)^2 + (92 - 87.4)^2 + (100 - 87.4)^2] / 5 ≈ 158.2\n",
    "\n",
    "Variance provides an average measure of how much each score deviates from the mean. However, the variance is in squared units, which can make interpretation a bit challenging.\n",
    "\n",
    "3. Standard Deviation:\n",
    "The standard deviation is the square root of the variance. It provides a more intuitive measure of dispersion in the same units as the original data.\n",
    "\n",
    "For Class A: Standard Deviation ≈ √14.5 ≈ 3.81\n",
    "For Class B: Standard Deviation ≈ √158.2 ≈ 12.57\n",
    "\n",
    "The standard deviation gives a sense of how much the scores typically vary from the mean. A higher standard deviation indicates greater variability.\n",
    "\n",
    "In this example, Class B has a wider spread of scores, as indicated by the larger range, variance, and standard deviation, suggesting more variability in performance compared to Class A.\"\"\""
   ]
  },
  {
   "cell_type": "markdown",
   "id": "12169c69",
   "metadata": {},
   "source": [
    "Q6. What is a Venn diagram?"
   ]
  },
  {
   "cell_type": "code",
   "execution_count": 8,
   "id": "a0ac5059",
   "metadata": {},
   "outputs": [
    {
     "data": {
      "text/plain": [
       "'A Venn diagram is a visual representation used to depict the relationships between different sets or groups of items. \\nIt consists of overlapping circles, each representing a set, and the areas of overlap represent the intersections or\\ncommon elements between the sets. Venn diagrams are commonly used to illustrate concepts of set theory, logic, and data analysis.\\n\\nKey features of a Venn diagram:\\n\\n1. **Circles:** Each circle in a Venn diagram represents a set or a category. The items within a set are elements that share\\na common characteristic.\\n\\n2. **Overlapping Areas:** The overlapping regions between circles indicate the elements that are common to the sets \\nthey represent. The size of the overlap area may vary depending on the number of shared elements.\\n\\n3. **Non-overlapping Areas:** The areas outside the circles, but within the boundaries of the overall diagram, represent \\nelements that belong exclusively to each individual set.\\n\\n4. **Universal Set:** The entire space within the boundary of the Venn diagram represents the universal set, which \\nincludes all possible elements under consideration.\\n\\nVenn diagrams are widely used in various fields, including mathematics, logic, statistics, biology, and data analysis,\\nto visually represent relationships between different groups or categories. They can help clarify concepts like unions,\\nintersections, complements, and subsets, making complex relationships easier to understand and analyze.\\n\\nFor example, consider a Venn diagram representing two sets, \"Animals with Fur\" and \"Animals that Fly.\" \\nThe overlapping region between the circles would represent animals that have both fur and the ability to fly, \\nwhile the non-overlapping regions would show animals with fur but not the ability to fly, and animals that can \\nfly but do not have fur.'"
      ]
     },
     "execution_count": 8,
     "metadata": {},
     "output_type": "execute_result"
    }
   ],
   "source": [
    "\"\"\"A Venn diagram is a visual representation used to depict the relationships between different sets or groups of items. \n",
    "It consists of overlapping circles, each representing a set, and the areas of overlap represent the intersections or\n",
    "common elements between the sets. Venn diagrams are commonly used to illustrate concepts of set theory, logic, and data analysis.\n",
    "\n",
    "Key features of a Venn diagram:\n",
    "\n",
    "1. **Circles:** Each circle in a Venn diagram represents a set or a category. The items within a set are elements that share\n",
    "a common characteristic.\n",
    "\n",
    "2. **Overlapping Areas:** The overlapping regions between circles indicate the elements that are common to the sets \n",
    "they represent. The size of the overlap area may vary depending on the number of shared elements.\n",
    "\n",
    "3. **Non-overlapping Areas:** The areas outside the circles, but within the boundaries of the overall diagram, represent \n",
    "elements that belong exclusively to each individual set.\n",
    "\n",
    "4. **Universal Set:** The entire space within the boundary of the Venn diagram represents the universal set, which \n",
    "includes all possible elements under consideration.\n",
    "\n",
    "Venn diagrams are widely used in various fields, including mathematics, logic, statistics, biology, and data analysis,\n",
    "to visually represent relationships between different groups or categories. They can help clarify concepts like unions,\n",
    "intersections, complements, and subsets, making complex relationships easier to understand and analyze.\n",
    "\n",
    "For example, consider a Venn diagram representing two sets, \"Animals with Fur\" and \"Animals that Fly.\" \n",
    "The overlapping region between the circles would represent animals that have both fur and the ability to fly, \n",
    "while the non-overlapping regions would show animals with fur but not the ability to fly, and animals that can \n",
    "fly but do not have fur.\"\"\""
   ]
  },
  {
   "cell_type": "markdown",
   "id": "b77b6cdd",
   "metadata": {},
   "source": [
    "Q7. For the two given sets A = (2,3,4,5,6,7) & B = (0,2,6,8,10). Find:\n",
    "(i) A B\n",
    "(ii) A ⋃ B"
   ]
  },
  {
   "cell_type": "code",
   "execution_count": 9,
   "id": "e929cdca",
   "metadata": {},
   "outputs": [
    {
     "data": {
      "text/plain": [
       "\"Sure, let's find the requested operations for the given sets A and B:\\n\\nGiven sets:\\nA = {2, 3, 4, 5, 6, 7}\\nB = {0, 2, 6, 8, 10}\\n\\n(i) A ∩ B (Intersection of Sets A and B):\\nThe intersection of two sets contains elements that are common to both sets.\\n\\nA ∩ B = {2, 6}\\n\\n(ii) A ⋃ B (Union of Sets A and B):\\nThe union of two sets contains all unique elements from both sets, without repetition.\\n\\nA ⋃ B = {0, 2, 3, 4, 5, 6, 7, 8, 10}\\n\\nSo, for the given sets A and B:\\n(i) A ∩ B = {2, 6}\\n(ii) A ⋃ B = {0, 2, 3, 4, 5, 6, 7, 8, 10}\""
      ]
     },
     "execution_count": 9,
     "metadata": {},
     "output_type": "execute_result"
    }
   ],
   "source": [
    "\"\"\"Sure, let's find the requested operations for the given sets A and B:\n",
    "\n",
    "Given sets:\n",
    "A = {2, 3, 4, 5, 6, 7}\n",
    "B = {0, 2, 6, 8, 10}\n",
    "\n",
    "(i) A ∩ B (Intersection of Sets A and B):\n",
    "The intersection of two sets contains elements that are common to both sets.\n",
    "\n",
    "A ∩ B = {2, 6}\n",
    "\n",
    "(ii) A ⋃ B (Union of Sets A and B):\n",
    "The union of two sets contains all unique elements from both sets, without repetition.\n",
    "\n",
    "A ⋃ B = {0, 2, 3, 4, 5, 6, 7, 8, 10}\n",
    "\n",
    "So, for the given sets A and B:\n",
    "(i) A ∩ B = {2, 6}\n",
    "(ii) A ⋃ B = {0, 2, 3, 4, 5, 6, 7, 8, 10}\"\"\""
   ]
  },
  {
   "cell_type": "markdown",
   "id": "f9e55bc7",
   "metadata": {},
   "source": [
    "Q8. What do you understand about skewness in data?"
   ]
  },
  {
   "cell_type": "code",
   "execution_count": 10,
   "id": "2459fb63",
   "metadata": {},
   "outputs": [
    {
     "data": {
      "text/plain": [
       "\"Skewness is a statistical measure that describes the asymmetry or lack of symmetry in the distribution of a dataset. \\nIt provides insights into the shape of the distribution curve and the positioning of the data points relative to the \\ncentral value (mean, median, or mode). A skewed distribution is one in which the tail of the distribution is stretched or elongated in one direction, making the distribution appear lopsided.\\n\\nThere are three main types of skewness:\\n\\n1. **Positive Skew (Right Skew):** In a positively skewed distribution, the tail on the right-hand side (greater values) \\nis longer or extends further than the left-hand side. This means that the majority of data points are concentrated on \\nthe left side of the distribution, and there are a few larger values on the right side. The mean is typically pulled \\nin the direction of the longer tail.\\n\\n2. **Negative Skew (Left Skew):** In a negatively skewed distribution, the tail on the left-hand side (smaller values) is \\nlonger or extends further than the right-hand side. This indicates that the majority of data points are concentrated on the\\nright side of the distribution, and there are a few smaller values on the left side. The mean is usually pulled in the\\ndirection of the longer tail.\\n\\n3. **No Skew (Symmetrical Distribution):** In a symmetrical distribution, the data points are evenly distributed around\\nthe central value, and both tails are roughly equal in length. The mean, median, and mode are typically close to each other\\nin a symmetrical distribution.\\n\\nSkewness is quantitatively measured using statistical formulas, such as the Pearson's first coefficient of skewness or the moment\\ncoefficient of skewness. These formulas analyze the relationship between the mean, median, and standard deviation of the \\ndataset to determine the direction and degree of skewness.\""
      ]
     },
     "execution_count": 10,
     "metadata": {},
     "output_type": "execute_result"
    }
   ],
   "source": [
    "\"\"\"Skewness is a statistical measure that describes the asymmetry or lack of symmetry in the distribution of a dataset. \n",
    "It provides insights into the shape of the distribution curve and the positioning of the data points relative to the \n",
    "central value (mean, median, or mode). A skewed distribution is one in which the tail of the distribution is stretched or elongated in one direction, making the distribution appear lopsided.\n",
    "\n",
    "There are three main types of skewness:\n",
    "\n",
    "1. **Positive Skew (Right Skew):** In a positively skewed distribution, the tail on the right-hand side (greater values) \n",
    "is longer or extends further than the left-hand side. This means that the majority of data points are concentrated on \n",
    "the left side of the distribution, and there are a few larger values on the right side. The mean is typically pulled \n",
    "in the direction of the longer tail.\n",
    "\n",
    "2. **Negative Skew (Left Skew):** In a negatively skewed distribution, the tail on the left-hand side (smaller values) is \n",
    "longer or extends further than the right-hand side. This indicates that the majority of data points are concentrated on the\n",
    "right side of the distribution, and there are a few smaller values on the left side. The mean is usually pulled in the\n",
    "direction of the longer tail.\n",
    "\n",
    "3. **No Skew (Symmetrical Distribution):** In a symmetrical distribution, the data points are evenly distributed around\n",
    "the central value, and both tails are roughly equal in length. The mean, median, and mode are typically close to each other\n",
    "in a symmetrical distribution.\n",
    "\n",
    "Skewness is quantitatively measured using statistical formulas, such as the Pearson's first coefficient of skewness or the moment\n",
    "coefficient of skewness. These formulas analyze the relationship between the mean, median, and standard deviation of the \n",
    "dataset to determine the direction and degree of skewness.\"\"\"\n",
    "\n"
   ]
  },
  {
   "cell_type": "markdown",
   "id": "84f18a32",
   "metadata": {},
   "source": [
    "Q9. If a data is right skewed then what will be the position of median with respect to mean?"
   ]
  },
  {
   "cell_type": "code",
   "execution_count": 11,
   "id": "3ed98534",
   "metadata": {},
   "outputs": [
    {
     "data": {
      "text/plain": [
       "\"If a data distribution is right-skewed, the position of the median will typically be to the left of the mean.\\nIn a right-skewed distribution, the tail of the distribution is stretched out to the right, meaning that there are\\na few larger values that pull the mean in that direction.\\n\\nHere's why the median tends to be to the left of the mean in a right-skewed distribution:\\n\\n1. **Right-Skewed Distribution:** In a right-skewed distribution, there are relatively fewer larger values that are\\n\\nlocated farther to the right. These larger values have a greater influence on the mean, pulling it towards the right.\\n\\n2. **Median:** The median is the value that separates the lower half of the data from the upper half. Since there are \\nfewer larger values on the right side of the distribution, the median will be pulled towards the left, closer to the\\nmajority of the data.\\n\\n3. **Positioning:** Due to the stretching of the tail to the right, the mean is shifted more towards the right, while \\nthe median is less affected and remains closer to the bulk of the data.\""
      ]
     },
     "execution_count": 11,
     "metadata": {},
     "output_type": "execute_result"
    }
   ],
   "source": [
    "\"\"\"If a data distribution is right-skewed, the position of the median will typically be to the left of the mean.\n",
    "In a right-skewed distribution, the tail of the distribution is stretched out to the right, meaning that there are\n",
    "a few larger values that pull the mean in that direction.\n",
    "\n",
    "Here's why the median tends to be to the left of the mean in a right-skewed distribution:\n",
    "\n",
    "1. **Right-Skewed Distribution:** In a right-skewed distribution, there are relatively fewer larger values that are\n",
    "\n",
    "located farther to the right. These larger values have a greater influence on the mean, pulling it towards the right.\n",
    "\n",
    "2. **Median:** The median is the value that separates the lower half of the data from the upper half. Since there are \n",
    "fewer larger values on the right side of the distribution, the median will be pulled towards the left, closer to the\n",
    "majority of the data.\n",
    "\n",
    "3. **Positioning:** Due to the stretching of the tail to the right, the mean is shifted more towards the right, while \n",
    "the median is less affected and remains closer to the bulk of the data.\"\"\"\n",
    "\n"
   ]
  },
  {
   "cell_type": "markdown",
   "id": "7f2ef760",
   "metadata": {},
   "source": [
    "Q10. Explain the difference between covariance and correlation. How are these measures used in\n",
    "statistical analysis?"
   ]
  },
  {
   "cell_type": "code",
   "execution_count": 12,
   "id": "660404a6",
   "metadata": {},
   "outputs": [
    {
     "data": {
      "text/plain": [
       "'Covariance and correlation are both measures used in statistics to describe the relationship between two variables. \\nHowever, they have distinct characteristics and interpretations.\\n\\n**Covariance:**\\nCovariance measures the degree to which two variables change together. It indicates the direction of the linear \\nrelationship between two variables (whether they tend to increase or decrease together) and the extent to which their\\nvalues deviate from their respective means.\\n\\nMathematically, the covariance between two variables X and Y is calculated as:\\n\\nCov(X, Y) = Σ[(Xᵢ - X̄) * (Yᵢ - Ȳ)] / (n - 1)\\n\\nWhere:\\n- Xᵢ and Yᵢ are individual data points of X and Y.\\n- X̄ and Ȳ are the means of X and Y, respectively.\\n- n is the number of data points.\\n\\n**Correlation:**\\nCorrelation measures the strength and direction of the linear relationship between two variables. Unlike covariance,\\ncorrelation is a standardized measure that ranges between -1 and 1, making it easier to interpret. \\nA correlation of 1 indicates a perfect positive linear relationship, a correlation of -1 indicates a perfect negative linear\\nrelationship, and a correlation of 0 indicates no linear relationship.\\n\\nMathematically, the correlation coefficient (Pearson correlation) between two variables X and Y is calculated as:\\n\\nCorr(X, Y) = Cov(X, Y) / (σₓ * σᵧ)\\n\\nWhere:\\n- Cov(X, Y) is the covariance between X and Y.\\n- σₓ and σᵧ are the standard deviations of X and Y, respectively.\\n\\n**Differences:**\\n1. **Standardization:** Covariance is not standardized and can take any value, positive or negative. \\nCorrelation is standardized, ranging between -1 and 1, making it easier to compare the strength of relationships.\\n\\n2. **Units:** Covariance has units that are the product of the units of the two variables. Correlation is unitless.\\n\\n3. **Interpretation:** Correlation provides a more intuitive interpretation of the strength and direction of the \\nrelationship between variables, while covariance only indicates the presence and direction of a linear relationship.'"
      ]
     },
     "execution_count": 12,
     "metadata": {},
     "output_type": "execute_result"
    }
   ],
   "source": [
    "\"\"\"Covariance and correlation are both measures used in statistics to describe the relationship between two variables. \n",
    "However, they have distinct characteristics and interpretations.\n",
    "\n",
    "**Covariance:**\n",
    "Covariance measures the degree to which two variables change together. It indicates the direction of the linear \n",
    "relationship between two variables (whether they tend to increase or decrease together) and the extent to which their\n",
    "values deviate from their respective means.\n",
    "\n",
    "Mathematically, the covariance between two variables X and Y is calculated as:\n",
    "\n",
    "Cov(X, Y) = Σ[(Xᵢ - X̄) * (Yᵢ - Ȳ)] / (n - 1)\n",
    "\n",
    "Where:\n",
    "- Xᵢ and Yᵢ are individual data points of X and Y.\n",
    "- X̄ and Ȳ are the means of X and Y, respectively.\n",
    "- n is the number of data points.\n",
    "\n",
    "**Correlation:**\n",
    "Correlation measures the strength and direction of the linear relationship between two variables. Unlike covariance,\n",
    "correlation is a standardized measure that ranges between -1 and 1, making it easier to interpret. \n",
    "A correlation of 1 indicates a perfect positive linear relationship, a correlation of -1 indicates a perfect negative linear\n",
    "relationship, and a correlation of 0 indicates no linear relationship.\n",
    "\n",
    "Mathematically, the correlation coefficient (Pearson correlation) between two variables X and Y is calculated as:\n",
    "\n",
    "Corr(X, Y) = Cov(X, Y) / (σₓ * σᵧ)\n",
    "\n",
    "Where:\n",
    "- Cov(X, Y) is the covariance between X and Y.\n",
    "- σₓ and σᵧ are the standard deviations of X and Y, respectively.\n",
    "\n",
    "**Differences:**\n",
    "1. **Standardization:** Covariance is not standardized and can take any value, positive or negative. \n",
    "Correlation is standardized, ranging between -1 and 1, making it easier to compare the strength of relationships.\n",
    "\n",
    "2. **Units:** Covariance has units that are the product of the units of the two variables. Correlation is unitless.\n",
    "\n",
    "3. **Interpretation:** Correlation provides a more intuitive interpretation of the strength and direction of the \n",
    "relationship between variables, while covariance only indicates the presence and direction of a linear relationship.\"\"\"\n"
   ]
  },
  {
   "cell_type": "markdown",
   "id": "8a33289b",
   "metadata": {},
   "source": [
    "Q11. What is the formula for calculating the sample mean? Provide an example calculation for a\n",
    "dataset."
   ]
  },
  {
   "cell_type": "code",
   "execution_count": 14,
   "id": "ae83904a",
   "metadata": {},
   "outputs": [
    {
     "data": {
      "text/plain": [
       "\"The formula for calculating the sample mean (average) is as follows:\\n\\nSample Mean (x̄) = Σx / n\\n\\nWhere:\\n- x̄ is the sample mean.\\n- Σx represents the sum of all individual values in the dataset.\\n- n is the total number of values in the dataset.\\n\\nLet's go through an example calculation of the sample mean using a dataset:\\n\\nExample Dataset: [12, 15, 18, 21, 24, 27]\\n\\nStep 1: Calculate the sum of all values in the dataset.\\nΣx = 12 + 15 + 18 + 21 + 24 + 27 = 117\\n\\nStep 2: Count the number of values in the dataset.\\nn = 6\\n\\nStep 3: Calculate the sample mean using the formula.\\nSample Mean (x̄) = Σx / n = 117 / 6 = 19.5\\n\\nSo, for the given example dataset, the sample mean is 19.5. This means that, on average, the values in the dataset are centered around 19.5.\""
      ]
     },
     "execution_count": 14,
     "metadata": {},
     "output_type": "execute_result"
    }
   ],
   "source": [
    "\"\"\"The formula for calculating the sample mean (average) is as follows:\n",
    "\n",
    "Sample Mean (x̄) = Σx / n\n",
    "\n",
    "Where:\n",
    "- x̄ is the sample mean.\n",
    "- Σx represents the sum of all individual values in the dataset.\n",
    "- n is the total number of values in the dataset.\n",
    "\n",
    "Let's go through an example calculation of the sample mean using a dataset:\n",
    "\n",
    "Example Dataset: [12, 15, 18, 21, 24, 27]\n",
    "\n",
    "Step 1: Calculate the sum of all values in the dataset.\n",
    "Σx = 12 + 15 + 18 + 21 + 24 + 27 = 117\n",
    "\n",
    "Step 2: Count the number of values in the dataset.\n",
    "n = 6\n",
    "\n",
    "Step 3: Calculate the sample mean using the formula.\n",
    "Sample Mean (x̄) = Σx / n = 117 / 6 = 19.5\n",
    "\n",
    "So, for the given example dataset, the sample mean is 19.5. This means that, on average, the values in the dataset are centered around 19.5.\"\"\""
   ]
  },
  {
   "cell_type": "markdown",
   "id": "f4d32981",
   "metadata": {},
   "source": [
    "Q12. For a normal distribution data what is the relationship between its measure of central tendency?"
   ]
  },
  {
   "cell_type": "code",
   "execution_count": 19,
   "id": "4c216a64",
   "metadata": {},
   "outputs": [
    {
     "data": {
      "text/plain": [
       "\"In a perfectly symmetrical normal distribution, the measures of central tendency (mean, median, and mode) are all\\nlocated at the same point, and their values are equal. This is one of the defining characteristics of a normal distribution.\\nIn a normal distribution, the mean, median, and mode are all centered at the peak of the distribution, which is also the\\npoint of highest frequency.\\n\\nIn mathematical terms, for a normal distribution:\\n\\n- The mean (μ) is equal to the median (the center value).\\n- The mode (most frequent value) is also equal to the mean and median.\\n\\nThis relationship holds true regardless of the specific parameters (mean and standard deviation) of the normal distribution. It's important to note that while this relationship holds for a perfectly symmetrical normal distribution, real-world data may exhibit slight deviations from perfect symmetry, which can lead to minor differences between the measures of central tendency. However, in practice, these differences are often negligible for sufficiently large datasets.\\n\\nIn summary, in a normal distribution:\\n- Mean (μ) = Median = Mode\\n- The central tendency measures are all equal and centered at the peak of the distribution.\""
      ]
     },
     "execution_count": 19,
     "metadata": {},
     "output_type": "execute_result"
    }
   ],
   "source": [
    "\"\"\"In a perfectly symmetrical normal distribution, the measures of central tendency (mean, median, and mode) are all\n",
    "located at the same point, and their values are equal. This is one of the defining characteristics of a normal distribution.\n",
    "In a normal distribution, the mean, median, and mode are all centered at the peak of the distribution, which is also the\n",
    "point of highest frequency.\n",
    "\n",
    "In mathematical terms, for a normal distribution:\n",
    "\n",
    "- The mean (μ) is equal to the median (the center value).\n",
    "- The mode (most frequent value) is also equal to the mean and median.\n",
    "\n",
    "This relationship holds true regardless of the specific parameters (mean and standard deviation) of the normal distribution. It's important to note that while this relationship holds for a perfectly symmetrical normal distribution, real-world data may exhibit slight deviations from perfect symmetry, which can lead to minor differences between the measures of central tendency. However, in practice, these differences are often negligible for sufficiently large datasets.\n",
    "\n",
    "In summary, in a normal distribution:\n",
    "- Mean (μ) = Median = Mode\n",
    "- The central tendency measures are all equal and centered at the peak of the distribution.\"\"\""
   ]
  },
  {
   "cell_type": "markdown",
   "id": "b062dbc5",
   "metadata": {},
   "source": [
    "Q13. How is covariance different from correlation?"
   ]
  },
  {
   "cell_type": "code",
   "execution_count": 18,
   "id": "5e7bdedc",
   "metadata": {},
   "outputs": [
    {
     "data": {
      "text/plain": [
       "\"Covariance and correlation are both measures used to describe the relationship between two variables, but they\\nhave distinct characteristics and interpretations:\\n\\n**Covariance:**\\n- Covariance measures the degree to which two variables change together. \\n  It indicates the direction of the linear relationship between two variables (whether they tend to increase or decrease together) \\n  and the extent to which their values deviate from their respective means.\\n- Covariance can take any value, positive or negative, depending on the direction of the relationship. \\nA positive covariance suggests a positive linear relationship, while a negative covariance suggests a negative linearrelationship.\\n- However, the magnitude of covariance isn't standardized, so it may be challenging to compare covariance values across different datasets.\\n\\n**Correlation:**\\n- Correlation measures the strength and direction of the linear relationship between two variables. It is a standardized measure that ranges between -1 and 1, making it easier to interpret and compare across different datasets.\\n- Correlation accounts for both the direction and the magnitude of the relationship between variables. A correlation of 1 indicates a perfect positive linear relationship, a correlation of -1 indicates a perfect negative linear relationship, and a correlation of 0 indicates no linear relationship.\\n- Correlation is a more reliable measure than covariance when comparing relationships between variables in different units or with different scales.\\n\\nIn summary, the key differences between covariance and correlation are:\\n\\n1. **Standardization:** Correlation is standardized, while covariance is not. Correlation provides a standardized measure that is easier to interpret and compare.\\n\\n2. **Range of Values:** Correlation values always range between -1 and 1, while covariance values can take any real value.\\n\\n3. **Interpretation:** Correlation not only indicates the direction of the relationship but also quantifies its strength.\\nCovariance indicates direction and extent of deviation, but its magnitude isn't standardized, making interpretation and \\ncomparison less straightforward.\\n\\nBoth covariance and correlation are used to assess the relationship between variables, but correlation is more commonly used due to its standardized nature and ease of interpretation.\""
      ]
     },
     "execution_count": 18,
     "metadata": {},
     "output_type": "execute_result"
    }
   ],
   "source": [
    "\"\"\"Covariance and correlation are both measures used to describe the relationship between two variables, but they\n",
    "have distinct characteristics and interpretations:\n",
    "\n",
    "**Covariance:**\n",
    "- Covariance measures the degree to which two variables change together. \n",
    "  It indicates the direction of the linear relationship between two variables (whether they tend to increase or decrease together) \n",
    "  and the extent to which their values deviate from their respective means.\n",
    "- Covariance can take any value, positive or negative, depending on the direction of the relationship. \n",
    "A positive covariance suggests a positive linear relationship, while a negative covariance suggests a negative linearrelationship.\n",
    "- However, the magnitude of covariance isn't standardized, so it may be challenging to compare covariance values across different datasets.\n",
    "\n",
    "**Correlation:**\n",
    "- Correlation measures the strength and direction of the linear relationship between two variables. It is a standardized measure that ranges between -1 and 1, making it easier to interpret and compare across different datasets.\n",
    "- Correlation accounts for both the direction and the magnitude of the relationship between variables. A correlation of 1 indicates a perfect positive linear relationship, a correlation of -1 indicates a perfect negative linear relationship, and a correlation of 0 indicates no linear relationship.\n",
    "- Correlation is a more reliable measure than covariance when comparing relationships between variables in different units or with different scales.\n",
    "\n",
    "In summary, the key differences between covariance and correlation are:\n",
    "\n",
    "1. **Standardization:** Correlation is standardized, while covariance is not. Correlation provides a standardized measure that is easier to interpret and compare.\n",
    "\n",
    "2. **Range of Values:** Correlation values always range between -1 and 1, while covariance values can take any real value.\n",
    "\n",
    "3. **Interpretation:** Correlation not only indicates the direction of the relationship but also quantifies its strength.\n",
    "Covariance indicates direction and extent of deviation, but its magnitude isn't standardized, making interpretation and \n",
    "comparison less straightforward.\n",
    "\n",
    "Both covariance and correlation are used to assess the relationship between variables, but correlation is more commonly used due to its standardized nature and ease of interpretation.\"\"\""
   ]
  },
  {
   "cell_type": "markdown",
   "id": "163a0eba",
   "metadata": {},
   "source": [
    "Q14. How do outliers affect measures of central tendency and dispersion? Provide an example."
   ]
  },
  {
   "cell_type": "code",
   "execution_count": 17,
   "id": "50fab5eb",
   "metadata": {},
   "outputs": [
    {
     "data": {
      "text/plain": [
       "'Outliers can have a significant impact on both measures of central tendency (such as mean, median, and mode)\\nand measures of dispersion (such as range, variance, and standard deviation) in a dataset. Outliers are data points that\\nare significantly different from the rest of the data, either much larger or much smaller. Their presence can distort the\\ncharacteristics of a dataset.\\n\\n**Effect on Measures of Central Tendency:**\\n1. **Mean:** Outliers can heavily influence the mean, pulling it in the direction of the outlier. If an outlier is much larger\\nthan the rest of the data, it can increase the mean, and if it is much smaller, it can decrease the mean.\\n\\n2. **Median:** The median is more resistant to the influence of outliers. It is less affected because it only considers \\nthe middle value, not the actual values themselves. Thus, an outlier has less impact on the median compared to the mean.\\n\\n3. **Mode:** The mode may not be significantly affected by outliers, especially if they are rare occurrences.\\n\\n**Effect on Measures of Dispersion:**\\n1. **Range:** Outliers can significantly increase the range, especially if they are far from the rest of the data. \\nThe range is sensitive to extreme values.\\n\\n2. **Variance and Standard Deviation:** Outliers can dramatically affect the variance and standard deviation. \\nSince these measures consider the squared differences between data points and the mean, outliers can lead to larger deviations, resulting in increased variance and standard deviation.\\n\\n**Example:**\\nConsider a dataset of exam scores for a class:\\n\\n[60, 65, 70, 75, 80, 85, 90, 95, 100, 250]\\n\\n- Mean without outlier: (60 + 65 + 70 + 75 + 80 + 85 + 90 + 95 + 100) / 9 = 81.67\\n- Mean with outlier: (60 + 65 + 70 + 75 + 80 + 85 + 90 + 95 + 100 + 250) / 10 = 88\\n\\n- Median without outlier: 85\\n- Median with outlier: 87.5\\n\\n- Range without outlier: 100 - 60 = 40\\n- Range with outlier: 250 - 60 = 190\\n\\n- Variance without outlier: ~303.33\\n- Variance with outlier: ~2172.22\\n\\n- Standard Deviation without outlier: ~17.42\\n- Standard Deviation with outlier: ~46.59\\n\\nIn this example, the outlier (250) significantly affects the mean, range, variance, and standard deviation.\\nHowever, the median and mode are less influenced. This illustrates how outliers can distort the characteristics of a \\ndataset and emphasizes the importance of understanding their impact during data analysis.'"
      ]
     },
     "execution_count": 17,
     "metadata": {},
     "output_type": "execute_result"
    }
   ],
   "source": [
    "\"\"\"Outliers can have a significant impact on both measures of central tendency (such as mean, median, and mode)\n",
    "and measures of dispersion (such as range, variance, and standard deviation) in a dataset. Outliers are data points that\n",
    "are significantly different from the rest of the data, either much larger or much smaller. Their presence can distort the\n",
    "characteristics of a dataset.\n",
    "\n",
    "**Effect on Measures of Central Tendency:**\n",
    "1. **Mean:** Outliers can heavily influence the mean, pulling it in the direction of the outlier. If an outlier is much larger\n",
    "than the rest of the data, it can increase the mean, and if it is much smaller, it can decrease the mean.\n",
    "\n",
    "2. **Median:** The median is more resistant to the influence of outliers. It is less affected because it only considers \n",
    "the middle value, not the actual values themselves. Thus, an outlier has less impact on the median compared to the mean.\n",
    "\n",
    "3. **Mode:** The mode may not be significantly affected by outliers, especially if they are rare occurrences.\n",
    "\n",
    "**Effect on Measures of Dispersion:**\n",
    "1. **Range:** Outliers can significantly increase the range, especially if they are far from the rest of the data. \n",
    "The range is sensitive to extreme values.\n",
    "\n",
    "2. **Variance and Standard Deviation:** Outliers can dramatically affect the variance and standard deviation. \n",
    "Since these measures consider the squared differences between data points and the mean, outliers can lead to larger deviations, resulting in increased variance and standard deviation.\n",
    "\n",
    "**Example:**\n",
    "Consider a dataset of exam scores for a class:\n",
    "\n",
    "[60, 65, 70, 75, 80, 85, 90, 95, 100, 250]\n",
    "\n",
    "- Mean without outlier: (60 + 65 + 70 + 75 + 80 + 85 + 90 + 95 + 100) / 9 = 81.67\n",
    "- Mean with outlier: (60 + 65 + 70 + 75 + 80 + 85 + 90 + 95 + 100 + 250) / 10 = 88\n",
    "\n",
    "- Median without outlier: 85\n",
    "- Median with outlier: 87.5\n",
    "\n",
    "- Range without outlier: 100 - 60 = 40\n",
    "- Range with outlier: 250 - 60 = 190\n",
    "\n",
    "- Variance without outlier: ~303.33\n",
    "- Variance with outlier: ~2172.22\n",
    "\n",
    "- Standard Deviation without outlier: ~17.42\n",
    "- Standard Deviation with outlier: ~46.59\n",
    "\n",
    "In this example, the outlier (250) significantly affects the mean, range, variance, and standard deviation.\n",
    "However, the median and mode are less influenced. This illustrates how outliers can distort the characteristics of a \n",
    "dataset and emphasizes the importance of understanding their impact during data analysis.\"\"\""
   ]
  },
  {
   "cell_type": "code",
   "execution_count": null,
   "id": "483c77df",
   "metadata": {},
   "outputs": [],
   "source": []
  }
 ],
 "metadata": {
  "kernelspec": {
   "display_name": "Python 3 (ipykernel)",
   "language": "python",
   "name": "python3"
  },
  "language_info": {
   "codemirror_mode": {
    "name": "ipython",
    "version": 3
   },
   "file_extension": ".py",
   "mimetype": "text/x-python",
   "name": "python",
   "nbconvert_exporter": "python",
   "pygments_lexer": "ipython3",
   "version": "3.9.13"
  }
 },
 "nbformat": 4,
 "nbformat_minor": 5
}
