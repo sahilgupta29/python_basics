{
 "cells": [
  {
   "cell_type": "markdown",
   "id": "b4422150",
   "metadata": {},
   "source": [
    "Q1. List any five functions of the pandas library with execution."
   ]
  },
  {
   "cell_type": "code",
   "execution_count": 7,
   "id": "a7f47a13",
   "metadata": {},
   "outputs": [
    {
     "name": "stdout",
     "output_type": "stream",
     "text": [
      "    Car_Name  Year  Selling_Price  Present_Price  Kms_Driven Fuel_Type  \\\n",
      "0       ritz  2014           3.35           5.59       27000    Petrol   \n",
      "1        sx4  2013           4.75           9.54       43000    Diesel   \n",
      "2       ciaz  2017           7.25           9.85        6900    Petrol   \n",
      "3    wagon r  2011           2.85           4.15        5200    Petrol   \n",
      "4      swift  2014           4.60           6.87       42450    Diesel   \n",
      "..       ...   ...            ...            ...         ...       ...   \n",
      "296     city  2016           9.50          11.60       33988    Diesel   \n",
      "297     brio  2015           4.00           5.90       60000    Petrol   \n",
      "298     city  2009           3.35          11.00       87934    Petrol   \n",
      "299     city  2017          11.50          12.50        9000    Diesel   \n",
      "300     brio  2016           5.30           5.90        5464    Petrol   \n",
      "\n",
      "    Seller_Type Transmission  Owner  \n",
      "0        Dealer       Manual      0  \n",
      "1        Dealer       Manual      0  \n",
      "2        Dealer       Manual      0  \n",
      "3        Dealer       Manual      0  \n",
      "4        Dealer       Manual      0  \n",
      "..          ...          ...    ...  \n",
      "296      Dealer       Manual      0  \n",
      "297      Dealer       Manual      0  \n",
      "298      Dealer       Manual      0  \n",
      "299      Dealer       Manual      0  \n",
      "300      Dealer       Manual      0  \n",
      "\n",
      "[301 rows x 9 columns]\n",
      "<class 'pandas.core.frame.DataFrame'>\n",
      "RangeIndex: 301 entries, 0 to 300\n",
      "Data columns (total 9 columns):\n",
      " #   Column         Non-Null Count  Dtype  \n",
      "---  ------         --------------  -----  \n",
      " 0   Car_Name       301 non-null    object \n",
      " 1   Year           301 non-null    int64  \n",
      " 2   Selling_Price  301 non-null    float64\n",
      " 3   Present_Price  301 non-null    float64\n",
      " 4   Kms_Driven     301 non-null    int64  \n",
      " 5   Fuel_Type      301 non-null    object \n",
      " 6   Seller_Type    301 non-null    object \n",
      " 7   Transmission   301 non-null    object \n",
      " 8   Owner          301 non-null    int64  \n",
      "dtypes: float64(2), int64(3), object(4)\n",
      "memory usage: 21.3+ KB\n"
     ]
    },
    {
     "data": {
      "text/html": [
       "<div>\n",
       "<style scoped>\n",
       "    .dataframe tbody tr th:only-of-type {\n",
       "        vertical-align: middle;\n",
       "    }\n",
       "\n",
       "    .dataframe tbody tr th {\n",
       "        vertical-align: top;\n",
       "    }\n",
       "\n",
       "    .dataframe thead th {\n",
       "        text-align: right;\n",
       "    }\n",
       "</style>\n",
       "<table border=\"1\" class=\"dataframe\">\n",
       "  <thead>\n",
       "    <tr style=\"text-align: right;\">\n",
       "      <th></th>\n",
       "      <th>Year</th>\n",
       "      <th>Selling_Price</th>\n",
       "      <th>Present_Price</th>\n",
       "      <th>Kms_Driven</th>\n",
       "      <th>Owner</th>\n",
       "    </tr>\n",
       "  </thead>\n",
       "  <tbody>\n",
       "    <tr>\n",
       "      <th>count</th>\n",
       "      <td>301.000000</td>\n",
       "      <td>301.000000</td>\n",
       "      <td>301.000000</td>\n",
       "      <td>301.000000</td>\n",
       "      <td>301.000000</td>\n",
       "    </tr>\n",
       "    <tr>\n",
       "      <th>mean</th>\n",
       "      <td>2013.627907</td>\n",
       "      <td>4.661296</td>\n",
       "      <td>7.628472</td>\n",
       "      <td>36947.205980</td>\n",
       "      <td>0.043189</td>\n",
       "    </tr>\n",
       "    <tr>\n",
       "      <th>std</th>\n",
       "      <td>2.891554</td>\n",
       "      <td>5.082812</td>\n",
       "      <td>8.644115</td>\n",
       "      <td>38886.883882</td>\n",
       "      <td>0.247915</td>\n",
       "    </tr>\n",
       "    <tr>\n",
       "      <th>min</th>\n",
       "      <td>2003.000000</td>\n",
       "      <td>0.100000</td>\n",
       "      <td>0.320000</td>\n",
       "      <td>500.000000</td>\n",
       "      <td>0.000000</td>\n",
       "    </tr>\n",
       "    <tr>\n",
       "      <th>25%</th>\n",
       "      <td>2012.000000</td>\n",
       "      <td>0.900000</td>\n",
       "      <td>1.200000</td>\n",
       "      <td>15000.000000</td>\n",
       "      <td>0.000000</td>\n",
       "    </tr>\n",
       "    <tr>\n",
       "      <th>50%</th>\n",
       "      <td>2014.000000</td>\n",
       "      <td>3.600000</td>\n",
       "      <td>6.400000</td>\n",
       "      <td>32000.000000</td>\n",
       "      <td>0.000000</td>\n",
       "    </tr>\n",
       "    <tr>\n",
       "      <th>75%</th>\n",
       "      <td>2016.000000</td>\n",
       "      <td>6.000000</td>\n",
       "      <td>9.900000</td>\n",
       "      <td>48767.000000</td>\n",
       "      <td>0.000000</td>\n",
       "    </tr>\n",
       "    <tr>\n",
       "      <th>max</th>\n",
       "      <td>2018.000000</td>\n",
       "      <td>35.000000</td>\n",
       "      <td>92.600000</td>\n",
       "      <td>500000.000000</td>\n",
       "      <td>3.000000</td>\n",
       "    </tr>\n",
       "  </tbody>\n",
       "</table>\n",
       "</div>"
      ],
      "text/plain": [
       "              Year  Selling_Price  Present_Price     Kms_Driven       Owner\n",
       "count   301.000000     301.000000     301.000000     301.000000  301.000000\n",
       "mean   2013.627907       4.661296       7.628472   36947.205980    0.043189\n",
       "std       2.891554       5.082812       8.644115   38886.883882    0.247915\n",
       "min    2003.000000       0.100000       0.320000     500.000000    0.000000\n",
       "25%    2012.000000       0.900000       1.200000   15000.000000    0.000000\n",
       "50%    2014.000000       3.600000       6.400000   32000.000000    0.000000\n",
       "75%    2016.000000       6.000000       9.900000   48767.000000    0.000000\n",
       "max    2018.000000      35.000000      92.600000  500000.000000    3.000000"
      ]
     },
     "execution_count": 7,
     "metadata": {},
     "output_type": "execute_result"
    }
   ],
   "source": [
    "# Answer 1\n",
    "#Here are five common functions along with their execution examples arend analysis. Here are five common functions along with their execution examples:\n",
    "\n",
    "# 1.pandas.read_csv(): This function is used to read data from a CSV file and create a DataFrame.\n",
    "import pandas as pd\n",
    "df=pd.read_csv(\"car data.csv\")\n",
    "print(df)\n",
    "\n",
    "# 2.DataFrame.head(): This function returns the first few rows of a DataFrame, which is useful for a quick look at the data.\n",
    "df.head()\n",
    "\n",
    "# 3.DataFrame.tail():This function returns the last few rows of a DataFrame, which is useful for a quick look at the data.\n",
    "df.tail()\n",
    "\n",
    "# 4.DataFrame.info():: This function provides a concise summary of the DataFrame, including the data types, non-null counts, and memory usage.\n",
    "df.info()\n",
    "# 5 DataFrame.describe(): This function generates descriptive statistics of a DataFrame, providing information such as mean, standard deviation, minimum, maximum, etc.\n",
    "df.describe()"
   ]
  },
  {
   "cell_type": "markdown",
   "id": "92611945",
   "metadata": {},
   "source": [
    "Q2. Given a Pandas DataFrame df with columns 'A', 'B', and 'C', write a Python function to re-index the\n",
    "DataFrame with a new index that starts from 1 and increments by 2 for each row.\n"
   ]
  },
  {
   "cell_type": "code",
   "execution_count": 14,
   "id": "09468fce",
   "metadata": {},
   "outputs": [
    {
     "name": "stdout",
     "output_type": "stream",
     "text": [
      "    A    B   C\n",
      "1  10    2   3\n",
      "3   2    5   6\n",
      "5   5    2  53\n",
      "7   3  532   2\n"
     ]
    },
    {
     "data": {
      "text/plain": [
       "RangeIndex(start=1, stop=8, step=2)"
      ]
     },
     "execution_count": 14,
     "metadata": {},
     "output_type": "execute_result"
    }
   ],
   "source": [
    "# answer 2\n",
    "def reindex_with_increment(df):\n",
    "    new_index=pd.RangeIndex(start=1, stop=2 * len(df), step=2)\n",
    "    df.index=new_index\n",
    "    return df\n",
    "data={'A':[10,2,5,3],\n",
    "     'B':[2,5,2,532],\n",
    "     'C':[3,6,53,2]}\n",
    "df=pd.DataFrame(data)\n",
    "df_new_index=reindex_with_increment(df)\n",
    "print(df_new_index)\n"
   ]
  },
  {
   "cell_type": "markdown",
   "id": "09668774",
   "metadata": {},
   "source": [
    "Q3You have a Pandas DataFrame df with a column named 'Values'. Write a Python function that\n",
    "iterates over the DataFrame and calculates the sum of the first three values in the 'Values' column. The\n",
    "function should print the sum to the console."
   ]
  },
  {
   "cell_type": "code",
   "execution_count": 23,
   "id": "aa9a2c42",
   "metadata": {},
   "outputs": [
    {
     "name": "stdout",
     "output_type": "stream",
     "text": [
      "60\n"
     ]
    }
   ],
   "source": [
    "#Ans 3\n",
    "import pandas as pd\n",
    "def calculate_sum(df):\n",
    "    add=df['values'].head(3).sum()\n",
    "    print(add)\n",
    "df=pd.DataFrame({'values':[10,20,30,30,40,70,665]})\n",
    "calculate_sum(df)"
   ]
  },
  {
   "cell_type": "markdown",
   "id": "9efec45c",
   "metadata": {},
   "source": [
    "Q4.Given a Pandas DataFrame df with a column 'Text', write a Python function to create a new column\n",
    "'Word_Count' that contains the number of words in each row of the 'Text' column.\n"
   ]
  },
  {
   "cell_type": "code",
   "execution_count": 28,
   "id": "bf8738e1",
   "metadata": {},
   "outputs": [
    {
     "name": "stdout",
     "output_type": "stream",
     "text": [
      "                Text  Word_Count\n",
      "0  hello how are you           4\n",
      "1    are you serious           3\n",
      "2             oh god           2\n"
     ]
    }
   ],
   "source": [
    "# Ans 4\n",
    "def countword(dfd):\n",
    "    dfd['Word_Count'] = dfd['Text'].apply(lambda x: len(str(x).split()))\n",
    "\n",
    "data={'Text':[\"hello how are you\",\"are you serious\",\"oh god\"]}\n",
    "dfd=pd.DataFrame(data)\n",
    "\n",
    "countword(dfd)\n",
    "print(dfd)"
   ]
  },
  {
   "cell_type": "markdown",
   "id": "f546b0e2",
   "metadata": {},
   "source": [
    "Q5. How are DataFrame.size() and DataFrame.shape() different?"
   ]
  },
  {
   "cell_type": "code",
   "execution_count": 29,
   "id": "dabfb414",
   "metadata": {},
   "outputs": [
    {
     "data": {
      "text/plain": [
       "'\"Answer 5\\nDataFrame.size:\\nDataFrame.size returns the total number of elements in the DataFrame, which is equivalent to the number of rows multiplied by the \\nnumber of columns.\\nThe attribute returns a single integer value representing the size of the DataFrame.\\nThe formula to calculate the size is: DataFrame.size = number of rows * number of columns.\\nDataFrame.shape:\\n\\nDataFrame.shape is a tuple that returns the dimensions of the DataFrame in the form (number of rows, number of columns).\\nThe attribute provides a more intuitive way to understand the DataFrame\\'s structure as it explicitly gives the number of\\nrows and columns separately'"
      ]
     },
     "execution_count": 29,
     "metadata": {},
     "output_type": "execute_result"
    }
   ],
   "source": [
    "\"\"\"\"Answer 5\n",
    "DataFrame.size:\n",
    "DataFrame.size returns the total number of elements in the DataFrame, which is equivalent to the number of rows multiplied by the \n",
    "number of columns.\n",
    "The attribute returns a single integer value representing the size of the DataFrame.\n",
    "The formula to calculate the size is: DataFrame.size = number of rows * number of columns.\n",
    "DataFrame.shape:\n",
    "\n",
    "DataFrame.shape is a tuple that returns the dimensions of the DataFrame in the form (number of rows, number of columns).\n",
    "The attribute provides a more intuitive way to understand the DataFrame's structure as it explicitly gives the number of\n",
    "rows and columns separately\"\"\""
   ]
  },
  {
   "cell_type": "markdown",
   "id": "275b33c7",
   "metadata": {},
   "source": [
    "Q6 \n",
    "Which function of pandas do we use to read an excel file?"
   ]
  },
  {
   "cell_type": "code",
   "execution_count": 30,
   "id": "d7942260",
   "metadata": {},
   "outputs": [
    {
     "data": {
      "text/plain": [
       "\"To read an Excel file in pandas, you can use the pd.read_excel() function. This function allows you to read data from an\\nExcel file and create a pandas DataFrame from it.\\nimport pandas as pd\\n\\n\\nfile_path = 'file_path.xlsx'\\ndf = pd.read_excel(file_path)\""
      ]
     },
     "execution_count": 30,
     "metadata": {},
     "output_type": "execute_result"
    }
   ],
   "source": [
    "\"\"\"Answer 6\n",
    "To read an Excel file in pandas, you can use the pd.read_excel() function. This function allows you to read data from an\n",
    "Excel file and create a pandas DataFrame from it.\n",
    "import pandas as pd\n",
    "\n",
    "\n",
    "file_path = 'file_path.xlsx'\n",
    "df = pd.read_excel(file_path)\"\"\"\n",
    "\n",
    "\n",
    "\n"
   ]
  },
  {
   "cell_type": "markdown",
   "id": "ac5dcd03",
   "metadata": {},
   "source": [
    "Q7. You have a Pandas DataFrame df that contains a column named 'Email' that contains email\n",
    "addresses in the format 'username@domain.com'. Write a Python function that creates a new column\n",
    "'Username' in df that contains only the username part of each email address."
   ]
  },
  {
   "cell_type": "code",
   "execution_count": 36,
   "id": "18e0abae",
   "metadata": {},
   "outputs": [
    {
     "data": {
      "text/html": [
       "<div>\n",
       "<style scoped>\n",
       "    .dataframe tbody tr th:only-of-type {\n",
       "        vertical-align: middle;\n",
       "    }\n",
       "\n",
       "    .dataframe tbody tr th {\n",
       "        vertical-align: top;\n",
       "    }\n",
       "\n",
       "    .dataframe thead th {\n",
       "        text-align: right;\n",
       "    }\n",
       "</style>\n",
       "<table border=\"1\" class=\"dataframe\">\n",
       "  <thead>\n",
       "    <tr style=\"text-align: right;\">\n",
       "      <th></th>\n",
       "      <th>Email</th>\n",
       "      <th>Username</th>\n",
       "    </tr>\n",
       "  </thead>\n",
       "  <tbody>\n",
       "    <tr>\n",
       "      <th>0</th>\n",
       "      <td>sahil@1234.com</td>\n",
       "      <td>sahil</td>\n",
       "    </tr>\n",
       "    <tr>\n",
       "      <th>1</th>\n",
       "      <td>rohit@gmail.com</td>\n",
       "      <td>rohit</td>\n",
       "    </tr>\n",
       "    <tr>\n",
       "      <th>2</th>\n",
       "      <td>rohan@gmail.com</td>\n",
       "      <td>rohan</td>\n",
       "    </tr>\n",
       "    <tr>\n",
       "      <th>3</th>\n",
       "      <td>veer@gmail.com</td>\n",
       "      <td>veer</td>\n",
       "    </tr>\n",
       "  </tbody>\n",
       "</table>\n",
       "</div>"
      ],
      "text/plain": [
       "             Email Username\n",
       "0   sahil@1234.com    sahil\n",
       "1  rohit@gmail.com    rohit\n",
       "2  rohan@gmail.com    rohan\n",
       "3   veer@gmail.com     veer"
      ]
     },
     "execution_count": 36,
     "metadata": {},
     "output_type": "execute_result"
    }
   ],
   "source": [
    "# Answer 7\n",
    "import pandas as pd\n",
    "def usernamecheck(dataf):\n",
    "    dataf['Username']=dataf['Email'].str.split('@').str[0]\n",
    "    return dataf\n",
    "dataf=pd.DataFrame({'Email':[\"sahil@1234.com\",\"rohit@gmail.com\",\"rohan@gmail.com\",\"veer@gmail.com\"]})\n",
    "usernamecheck(dataf)"
   ]
  },
  {
   "cell_type": "markdown",
   "id": "355944b1",
   "metadata": {},
   "source": [
    "Q8. You have a Pandas DataFrame df with columns 'A', 'B', and 'C'. Write a Python function that selects\n",
    "all rows where the value in column 'A' is greater than 5 and the value in column 'B' is less than 10. The\n",
    "function should return a new DataFrame that contains only the selected rows."
   ]
  },
  {
   "cell_type": "code",
   "execution_count": 17,
   "id": "c416a111",
   "metadata": {},
   "outputs": [
    {
     "name": "stdout",
     "output_type": "stream",
     "text": [
      "   A  B  C\n",
      "2  6  2  5\n",
      "4  9  1  2\n"
     ]
    }
   ],
   "source": [
    "# Ans 8\n",
    "import pandas as pd\n",
    "def selectrow(df):\n",
    "    u=df[(df['A'] > 5) & (df['B'] < 10)]\n",
    "    return u\n",
    "dic={'A':[3,8,6,2,9],'B':[5,19,2,13,1],'C':[1,7,5,4,2]}\n",
    "df=pd.DataFrame(dic)\n",
    "#print(df)\n",
    "k=selectrow(df)\n",
    "print(k)"
   ]
  },
  {
   "cell_type": "markdown",
   "id": "c8dd0c4f",
   "metadata": {},
   "source": [
    "Q9.\n",
    "Given a Pandas DataFrame df with a column 'Values', write a Python function to calculate the mean,\n",
    "median, and standard deviation of the values in the 'Values' column."
   ]
  },
  {
   "cell_type": "code",
   "execution_count": 28,
   "id": "4caff330",
   "metadata": {},
   "outputs": [
    {
     "name": "stdout",
     "output_type": "stream",
     "text": [
      "Mean of values is 170.66666666666666\n",
      "median of values 5.5\n",
      "standard deviation values 261.7469515900169\n"
     ]
    }
   ],
   "source": [
    "import pandas as pd\n",
    "def calculate_mean(df):\n",
    "    \n",
    "    means=df['Values'].mean()\n",
    "    print(\"Mean of values is\",means)\n",
    "def calculate_median(df):\n",
    "    medians=df['Values'].median()\n",
    "    print(\"median of values\",medians)\n",
    "def calculate_standarddeviation(df):\n",
    "    stds=df['Values'].std()\n",
    "    print(\"standard deviation values\",stds)\n",
    "    \n",
    "df=pd.DataFrame({'Values':[1,2,4,565,7,445]})\n",
    "# print(df)\n",
    "calculate_mean(df)\n",
    "calculate_median(df)\n",
    "calculate_standarddeviation(df)"
   ]
  },
  {
   "cell_type": "markdown",
   "id": "387cde87",
   "metadata": {},
   "source": [
    "Q10. Given a Pandas DataFrame df with a column 'Sales' and a column 'Date', write a Python function to\n",
    "create a new column 'MovingAverage' that contains the moving average of the sales for the past 7 days\n",
    "for each row in the DataFrame. The moving average should be calculated using a window of size 7 and\n",
    "should include the current day."
   ]
  },
  {
   "cell_type": "code",
   "execution_count": 32,
   "id": "364f59f5",
   "metadata": {},
   "outputs": [
    {
     "name": "stdout",
     "output_type": "stream",
     "text": [
      "   Sales  Date  MovingAverage\n",
      "0   3000 -2005    3000.000000\n",
      "1   2323 -2004    2661.500000\n",
      "3   3333 -2004    2885.333333\n",
      "2   5000 -2003    3414.000000\n"
     ]
    }
   ],
   "source": [
    "import pandas as pd\n",
    "\n",
    "df=pd.DataFrame({'Sales':[3000,2323,5000,3333],'Date':[19-3-2021,20-3-2021,21-3-2021,22-3-2023]})\n",
    "def calculate_moving_average(df):\n",
    "    window_size = 7\n",
    "    # Ensure the DataFrame is sorted by the 'Date' column\n",
    "    df = df.sort_values(by='Date')\n",
    "    \n",
    "    # Calculate the moving average using rolling() and mean()\n",
    "    df['MovingAverage'] = df['Sales'].rolling(window=window_size, min_periods=1).mean()\n",
    "    \n",
    "    return df\n",
    "\n",
    "# Example usage:\n",
    "# Assuming 'df' is your Pandas DataFrame with 'Sales' and 'Date' columns\n",
    "df_with_moving_avg = calculate_moving_average(df)\n",
    "\n",
    "# Display the updated DataFrame with the 'MovingAverage' column\n",
    "print(df_with_moving_avg)\n"
   ]
  },
  {
   "cell_type": "markdown",
   "id": "b5e081ed",
   "metadata": {},
   "source": [
    "Q11. You have a Pandas DataFrame df with a column 'Date'. Write a Python function that creates a new\n",
    "column 'Weekday' in the DataFrame. The 'Weekday' column should contain the weekday name (e.g.\n",
    "Monday, Tuesday) corresponding to each date in the 'Date' column.\n",
    "For example, if df contains the following values:\n",
    "Date\n",
    "0 2023-01-01\n",
    "1 2023-01-02\n",
    "2 2023-01-03\n",
    "3 2023-01-04\n",
    "4 2023-01-05\n",
    "Your function should create the following DataFrame:\n",
    "\n",
    "Date Weekday\n",
    "0 2023-01-01 Sunday\n",
    "1 2023-01-02 Monday\n",
    "2 2023-01-03 Tuesday\n",
    "3 2023-01-04 Wednesday\n",
    "4 2023-01-05 Thursday\n",
    "The function should return the modified DataFrame."
   ]
  },
  {
   "cell_type": "code",
   "execution_count": 35,
   "id": "c50ae88b",
   "metadata": {},
   "outputs": [
    {
     "name": "stdout",
     "output_type": "stream",
     "text": [
      "        Date    Weekday\n",
      "0 2023-01-01     Sunday\n",
      "1 2023-01-02     Monday\n",
      "2 2023-01-03    Tuesday\n",
      "3 2023-01-04  Wednesday\n",
      "4 2023-01-05   Thursday\n"
     ]
    }
   ],
   "source": [
    "import pandas as pd\n",
    "\n",
    "def add_weekday_column(df):\n",
    "    # Convert the 'Date' column to datetime if it's not already\n",
    "    df['Date'] = pd.to_datetime(df['Date'])\n",
    "    \n",
    "    # Extract weekday names from the 'Date' column and add them to the 'Weekday' column\n",
    "    df['Weekday'] = df['Date'].dt.strftime('%A')\n",
    "    \n",
    "    return df\n",
    "\n",
    "# Example usage:\n",
    "# Assuming 'df' is your Pandas DataFrame with 'Date' column containing timestamps\n",
    "# Date format should be in 'YYYY-MM-DD' format.\n",
    "data = {\n",
    "    'Date': ['2023-01-01', '2023-01-02', '2023-01-03', '2023-01-04', '2023-01-05']\n",
    "}\n",
    "df = pd.DataFrame(data)\n",
    "\n",
    "modified_df = add_weekday_column(df)\n",
    "\n",
    "# Display the modified DataFrame\n",
    "print(modified_df)\n"
   ]
  },
  {
   "cell_type": "markdown",
   "id": "32b52403",
   "metadata": {},
   "source": [
    "Q12. Given a Pandas DataFrame df with a column 'Date' that contains timestamps, write a Python\n",
    "function to select all rows where the date is between '2023-01-01' and '2023-01-31'."
   ]
  },
  {
   "cell_type": "code",
   "execution_count": 34,
   "id": "8ac1c6b2",
   "metadata": {},
   "outputs": [
    {
     "name": "stdout",
     "output_type": "stream",
     "text": [
      "        Date  Value\n",
      "0 2023-01-01     10\n",
      "1 2023-01-15     20\n",
      "2 2023-01-20     15\n",
      "4 2023-01-31     25\n"
     ]
    }
   ],
   "source": [
    "import pandas as pd\n",
    "\n",
    "# Sample DataFrame with a 'Date' column containing timestamps\n",
    "data = {\n",
    "    'Date': ['2023-01-01', '2023-01-15', '2023-01-20', '2023-02-10', '2023-01-31'],\n",
    "    'Value': [10, 20, 15, 30, 25]\n",
    "}\n",
    "\n",
    "df = pd.DataFrame(data)\n",
    "\n",
    "def select_rows_between_dates(df):\n",
    "    # Convert the 'Date' column to datetime if it's not already\n",
    "    df['Date'] = pd.to_datetime(df['Date'])\n",
    "    \n",
    "    # Define the start and end dates for filtering\n",
    "    start_date = '2023-01-01'\n",
    "    end_date = '2023-01-31'\n",
    "    \n",
    "    # Use boolean indexing to select rows between the specified dates\n",
    "    selected_rows = df[(df['Date'] >= start_date) & (df['Date'] <= end_date)]\n",
    "    \n",
    "    return selected_rows\n",
    "\n",
    "# Call the function to select rows between '2023-01-01' and '2023-01-31'\n",
    "selected_rows_df = select_rows_between_dates(df)\n",
    "\n",
    "# Display the DataFrame with selected rows\n",
    "print(selected_rows_df)\n"
   ]
  },
  {
   "cell_type": "markdown",
   "id": "6844c00e",
   "metadata": {},
   "source": [
    "Q13. To use the basic functions of pandas, what is the first and foremost necessary library that needs to\n",
    "be imported?"
   ]
  },
  {
   "cell_type": "code",
   "execution_count": 30,
   "id": "a2a82d4d",
   "metadata": {},
   "outputs": [],
   "source": [
    "# The first and foremost necessary library that needs to be imported to use the basic functions of pandas is pandas itself.\n",
    "import pandas as pd"
   ]
  },
  {
   "cell_type": "code",
   "execution_count": null,
   "id": "48d6f474",
   "metadata": {},
   "outputs": [],
   "source": []
  }
 ],
 "metadata": {
  "kernelspec": {
   "display_name": "Python 3 (ipykernel)",
   "language": "python",
   "name": "python3"
  },
  "language_info": {
   "codemirror_mode": {
    "name": "ipython",
    "version": 3
   },
   "file_extension": ".py",
   "mimetype": "text/x-python",
   "name": "python",
   "nbconvert_exporter": "python",
   "pygments_lexer": "ipython3",
   "version": "3.9.13"
  }
 },
 "nbformat": 4,
 "nbformat_minor": 5
}
