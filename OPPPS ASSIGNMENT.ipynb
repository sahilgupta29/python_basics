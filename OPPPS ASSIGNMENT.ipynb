{
 "cells": [
  {
   "cell_type": "code",
   "execution_count": 1,
   "id": "c92a01f0",
   "metadata": {},
   "outputs": [
    {
     "name": "stdout",
     "output_type": "stream",
     "text": [
      "Toyota\n",
      "Civic\n",
      "The car has started.\n",
      "The car needs to be started first.\n",
      "The car has stopped.\n"
     ]
    }
   ],
   "source": [
    "#Q1.In object-oriented programming (OOP), a class is a blueprint or template that defines the characteristics (attributes) and behaviors (methods) of a particular type of object. It provides a structure for creating objects of that class.\n",
    "#An object, on the other hand, is an instance of a class. It represents a specific entity or element in a program, and it can interact with other objects through method invocations.\n",
    "\n",
    "\n",
    "class Car:\n",
    "    def __init__(self, brand, model, color):\n",
    "        self.brand = brand\n",
    "        self.model = model\n",
    "        self.color = color\n",
    "        self.is_running = False\n",
    "\n",
    "    def start(self):\n",
    "        if not self.is_running:\n",
    "            self.is_running = True\n",
    "            print(\"The car has started.\")\n",
    "        else:\n",
    "            print(\"The car is already running.\")\n",
    "\n",
    "    def stop(self):\n",
    "        if self.is_running:\n",
    "            self.is_running = False\n",
    "            print(\"The car has stopped.\")\n",
    "        else:\n",
    "            print(\"The car is already stopped.\")\n",
    "\n",
    "    def accelerate(self, speed):\n",
    "        if self.is_running:\n",
    "            print(f\"The car is accelerating at {speed} km/h.\")\n",
    "        else:\n",
    "            print(\"The car needs to be started first.\")\n",
    "\n",
    "# Creating objects of the Car class\n",
    "car1 = Car(\"Toyota\", \"Corolla\", \"Blue\")\n",
    "car2 = Car(\"Honda\", \"Civic\", \"Red\")\n",
    "\n",
    "# Accessing attributes and invoking methods\n",
    "print(car1.brand)     # Output: Toyota\n",
    "print(car2.model)     # Output: Civic\n",
    "\n",
    "car1.start()          # Output: The car has started.\n",
    "car2.accelerate(80)   # Output: The car is accelerating at 80 km/h.\n",
    "car1.stop()           # Output: The car has stopped.\n",
    "            \n"
   ]
  },
  {
   "cell_type": "code",
   "execution_count": 2,
   "id": "57b2763d",
   "metadata": {},
   "outputs": [],
   "source": [
    "#Q2.The four pillars of object-oriented programming (OOP) are:\n",
    "# 1.Inheritance\n",
    "# 2.Abstraction\n",
    "# 3.polymorphism\n",
    "# 4.Encapsulation"
   ]
  },
  {
   "cell_type": "code",
   "execution_count": 3,
   "id": "2f9f6283",
   "metadata": {},
   "outputs": [
    {
     "name": "stdout",
     "output_type": "stream",
     "text": [
      "My name is John and I am 25 years old.\n"
     ]
    }
   ],
   "source": [
    "#Q3.The __init__() function is a special method in Python classes, also known as a constructor. It is automatically called when an object is created from a class. \n",
    "#The primary purpose of the __init__() function is to initialize the attributes of an object with specific values.\n",
    "class Person:\n",
    "    def __init__(self, name, age):\n",
    "        self.name = name\n",
    "        self.age = age\n",
    "\n",
    "    def introduce(self):\n",
    "        print(f\"My name is {self.name} and I am {self.age} years old.\")\n",
    "\n",
    "# Creating an object of the Person class\n",
    "person1 = Person(\"John\", 25)\n",
    "\n",
    "# Accessing attributes and invoking methods\n",
    "person1.introduce()  # Output: My name is John and I am 25 years old.\n"
   ]
  },
  {
   "cell_type": "code",
   "execution_count": 4,
   "id": "c6a5afad",
   "metadata": {},
   "outputs": [
    {
     "name": "stdout",
     "output_type": "stream",
     "text": [
      "Hello, my name is John\n"
     ]
    }
   ],
   "source": [
    "#Q4.In object-oriented programming (OOP), the self parameter is used to refer to the instance of a class within its own methods. \n",
    "#It is a convention in Python (though the name can be different) and is automatically passed as the first parameter to instance methods.\n",
    "class Person:\n",
    "    def __init__(self, name):\n",
    "        self.name = name\n",
    "\n",
    "    def introduce(self):\n",
    "        print(\"Hello, my name is\", self.name)\n",
    "\n",
    "# Creating an object of the Person class\n",
    "person1 = Person(\"John\")\n",
    "\n",
    "# Calling the introduce() method on the person1 object\n",
    "person1.introduce()  # Output: Hello, my name is John\n"
   ]
  },
  {
   "cell_type": "code",
   "execution_count": 5,
   "id": "d4aee66a",
   "metadata": {},
   "outputs": [
    {
     "name": "stdout",
     "output_type": "stream",
     "text": [
      "Dog barks.\n",
      "Car is being driven.\n",
      "Boat is sailing.\n",
      "Dog barks.\n",
      "Mammal gives birth to live young ones.\n",
      "Engine started.\n",
      "Car is being driven.\n",
      "Engine started.\n",
      "Motorcycle is being ridden.\n"
     ]
    }
   ],
   "source": [
    "#Q5.Inheritance is a fundamental concept in object-oriented programming (OOP) that allows creating new classes (derived classes) based on existing classes (base or parent classes). \n",
    "#Inheritance promotes code reuse and establishes a hierarchical relationship between classes, where the derived class inherits the attributes and methods of the base class.\n",
    "\n",
    "#Single Inheritance\n",
    "class Animal:\n",
    "    def sound(self):\n",
    "        print(\"Animal makes a sound.\")\n",
    "\n",
    "class Dog(Animal):\n",
    "    def sound(self):\n",
    "        print(\"Dog barks.\")\n",
    "\n",
    "# Creating an object of the Dog class\n",
    "dog = Dog()\n",
    "dog.sound()  # Output: Dog barks.\n",
    "\n",
    "# multiple inheritance\n",
    "class Car:\n",
    "    def drive(self):\n",
    "        print(\"Car is being driven.\")\n",
    "\n",
    "class Boat:\n",
    "    def sail(self):\n",
    "        print(\"Boat is sailing.\")\n",
    "\n",
    "class AmphibiousVehicle(Car, Boat):\n",
    "    pass\n",
    "\n",
    "# Creating an object of the AmphibiousVehicle class\n",
    "vehicle = AmphibiousVehicle()\n",
    "vehicle.drive()  # Output: Car is being driven.\n",
    "vehicle.sail()  # Output: Boat is sailing.\n",
    "\n",
    "\n",
    "##multilevel inheritance\n",
    "class Animal:\n",
    "    def sound(self):\n",
    "        print(\"Animal makes a sound.\")\n",
    "\n",
    "class Mammal(Animal):\n",
    "    def give_birth(self):\n",
    "        print(\"Mammal gives birth to live young ones.\")\n",
    "\n",
    "class Dog(Mammal):\n",
    "    def sound(self):\n",
    "        print(\"Dog barks.\")\n",
    "\n",
    "# Creating an object of the Dog class\n",
    "dog = Dog()\n",
    "dog.sound()  # Output: Dog barks.\n",
    "dog.give_birth()  # Output: Mammal gives birth to live young ones.\n",
    "\n",
    "#Hierarchical Inheritance:\n",
    "\n",
    "class Vehicle:\n",
    "    def start_engine(self):\n",
    "        print(\"Engine started.\")\n",
    "\n",
    "class Car(Vehicle):\n",
    "    def drive(self):\n",
    "        print(\"Car is being driven.\")\n",
    "\n",
    "class Motorcycle(Vehicle):\n",
    "    def ride(self):\n",
    "        print(\"Motorcycle is being ridden.\")\n",
    "\n",
    "# Creating objects of the Car and Motorcycle classes\n",
    "car = Car()\n",
    "motorcycle = Motorcycle()\n",
    "\n",
    "car.start_engine()  # Output: Engine started.\n",
    "car.drive()  # Output: Car is being driven.\n",
    "\n",
    "motorcycle.start_engine()  # Output: Engine started.\n",
    "motorcycle.ride()  # Output: Motorcycle is being ridden.\n"
   ]
  },
  {
   "cell_type": "code",
   "execution_count": null,
   "id": "539e1db1",
   "metadata": {},
   "outputs": [],
   "source": []
  }
 ],
 "metadata": {
  "kernelspec": {
   "display_name": "Python 3 (ipykernel)",
   "language": "python",
   "name": "python3"
  },
  "language_info": {
   "codemirror_mode": {
    "name": "ipython",
    "version": 3
   },
   "file_extension": ".py",
   "mimetype": "text/x-python",
   "name": "python",
   "nbconvert_exporter": "python",
   "pygments_lexer": "ipython3",
   "version": "3.9.13"
  }
 },
 "nbformat": 4,
 "nbformat_minor": 5
}
