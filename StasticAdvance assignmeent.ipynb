{
 "cells": [
  {
   "cell_type": "markdown",
   "id": "6646ce62",
   "metadata": {},
   "source": [
    "Q1. What is the Probability density function?"
   ]
  },
  {
   "cell_type": "code",
   "execution_count": 3,
   "id": "2158ae79",
   "metadata": {},
   "outputs": [
    {
     "data": {
      "text/plain": [
       "\"In short, the Probability Density Function (PDF) is a mathematical function used to describe how the likelihood of different\\nvalues of a continuous random variable is distributed. It tells us the relative probability of the variable taking on specific \\nvalues within a given range. The PDF must be non-negative, and the total area under the curve is always equal to 1. \\nIt's a fundamental concept in probability and statistics, helping us understand and analyze random variables and their\\nbehavior.\""
      ]
     },
     "execution_count": 3,
     "metadata": {},
     "output_type": "execute_result"
    }
   ],
   "source": [
    "\"\"\"In short, the Probability Density Function (PDF) is a mathematical function used to describe how the likelihood of different\n",
    "values of a continuous random variable is distributed. It tells us the relative probability of the variable taking on specific \n",
    "values within a given range. The PDF must be non-negative, and the total area under the curve is always equal to 1. \n",
    "It's a fundamental concept in probability and statistics, helping us understand and analyze random variables and their\n",
    "behavior.\"\"\""
   ]
  },
  {
   "cell_type": "markdown",
   "id": "f3f96568",
   "metadata": {},
   "source": [
    "Q2. What are the types of Probability distribution?"
   ]
  },
  {
   "cell_type": "code",
   "execution_count": 4,
   "id": "085d936b",
   "metadata": {},
   "outputs": [
    {
     "data": {
      "text/plain": [
       "'In data science, probability distributions play a crucial role in understanding and analyzing data, making predictions, \\nand making informed decisions. Different probability distributions are used to model various types of data and phenomena\\nencountered in data science. Here\\'s how some common probability distributions are used in data science:\\n\\n1. **Normal Distribution (Gaussian Distribution):** The normal distribution is widely used in data science due to the \\ncentral limit theorem. Many natural phenomena follow this distribution, and it is often assumed for modeling continuous data. \\nIt\\'s used for tasks like hypothesis testing, confidence interval estimation, and outlier detection.\\n\\n2. **Exponential Distribution:** The exponential distribution is used to model the time between events in certain processes,\\nsuch as customer arrivals, machine failures, or service times. It\\'s commonly used in reliability analysis and queuing theory.\\n\\n3. **Poisson Distribution:** The Poisson distribution is used for count data, such as the number of occurrences of a \\nspecific event in a fixed interval of time or space. It\\'s used in various fields, including finance, biology, and \\ntelecommunications.\\n\\n4. **Binomial Distribution:** The binomial distribution is used when dealing with binary outcomes or counting the number \\nof successes in a fixed number of independent trials. It\\'s often used in A/B testing and analyzing conversion rates.\\n\\n5. **Multinomial Distribution:** In data science, this distribution is used when dealing with categorical data involving\\nmore than two categories. It\\'s useful for tasks like text classification, where a document can belong to multiple classes.\\n\\n6. **Chi-squared Distribution:** The chi-squared distribution is used in various statistical tests, such as the \\nchi-squared test for independence and goodness-of-fit tests. It\\'s used to assess the relationship between categorical variables.\\n\\n7. **Student\\'s t-Distribution:** The t-distribution is used for hypothesis testing and confidence interval \\nestimation when the sample size is small and the population standard deviation is unknown. It\\'s often applied in cases \\nwhere the data might not follow a normal distribution.\\n\\n8. **Uniform Distribution:** The uniform distribution is useful for generating random numbers within a specified range. \\nIt\\'s used in simulations, random sampling, and Monte Carlo methods.\\n\\n9. **Beta Distribution:** The beta distribution is used for modeling probabilities and proportions, often in scenarios \\nlike Bayesian analysis, A/B testing, and reliability estimation.\\n\\n10. **Gamma Distribution:** The gamma distribution is used for modeling time-to-failure data, waiting times, and other \\npositive continuous variables.\\n\\nData scientists use these probability distributions to analyze data, make predictions, build statistical models, and gain\\ninsights from various types of datasets. The choice of distribution depends on the nature of the data and the specific \\n\"problem being addressed.'"
      ]
     },
     "execution_count": 4,
     "metadata": {},
     "output_type": "execute_result"
    }
   ],
   "source": [
    "\"\"\"In data science, probability distributions play a crucial role in understanding and analyzing data, making predictions, \n",
    "and making informed decisions. Different probability distributions are used to model various types of data and phenomena\n",
    "encountered in data science. Here's how some common probability distributions are used in data science:\n",
    "\n",
    "1. **Normal Distribution (Gaussian Distribution):** The normal distribution is widely used in data science due to the \n",
    "central limit theorem. Many natural phenomena follow this distribution, and it is often assumed for modeling continuous data. \n",
    "It's used for tasks like hypothesis testing, confidence interval estimation, and outlier detection.\n",
    "\n",
    "2. **Exponential Distribution:** The exponential distribution is used to model the time between events in certain processes,\n",
    "such as customer arrivals, machine failures, or service times. It's commonly used in reliability analysis and queuing theory.\n",
    "\n",
    "3. **Poisson Distribution:** The Poisson distribution is used for count data, such as the number of occurrences of a \n",
    "specific event in a fixed interval of time or space. It's used in various fields, including finance, biology, and \n",
    "telecommunications.\n",
    "\n",
    "4. **Binomial Distribution:** The binomial distribution is used when dealing with binary outcomes or counting the number \n",
    "of successes in a fixed number of independent trials. It's often used in A/B testing and analyzing conversion rates.\n",
    "\n",
    "5. **Multinomial Distribution:** In data science, this distribution is used when dealing with categorical data involving\n",
    "more than two categories. It's useful for tasks like text classification, where a document can belong to multiple classes.\n",
    "\n",
    "6. **Chi-squared Distribution:** The chi-squared distribution is used in various statistical tests, such as the \n",
    "chi-squared test for independence and goodness-of-fit tests. It's used to assess the relationship between categorical variables.\n",
    "\n",
    "7. **Student's t-Distribution:** The t-distribution is used for hypothesis testing and confidence interval \n",
    "estimation when the sample size is small and the population standard deviation is unknown. It's often applied in cases \n",
    "where the data might not follow a normal distribution.\n",
    "\n",
    "8. **Uniform Distribution:** The uniform distribution is useful for generating random numbers within a specified range. \n",
    "It's used in simulations, random sampling, and Monte Carlo methods.\n",
    "\n",
    "9. **Beta Distribution:** The beta distribution is used for modeling probabilities and proportions, often in scenarios \n",
    "like Bayesian analysis, A/B testing, and reliability estimation.\n",
    "\n",
    "10. **Gamma Distribution:** The gamma distribution is used for modeling time-to-failure data, waiting times, and other \n",
    "positive continuous variables.\n",
    "\n",
    "Data scientists use these probability distributions to analyze data, make predictions, build statistical models, and gain\n",
    "insights from various types of datasets. The choice of distribution depends on the nature of the data and the specific \n",
    "\"problem being addressed.\"\"\""
   ]
  },
  {
   "cell_type": "markdown",
   "id": "de2bb1c1",
   "metadata": {},
   "source": [
    "Q3. Write a Python function to calculate the probability density function of a normal distribution with\n",
    "given mean and standard deviation at a given point."
   ]
  },
  {
   "cell_type": "code",
   "execution_count": 6,
   "id": "8d2e7948",
   "metadata": {},
   "outputs": [
    {
     "name": "stdout",
     "output_type": "stream",
     "text": [
      "PDF at x = 1.5: 0.12951759566589174\n"
     ]
    }
   ],
   "source": [
    "import math\n",
    "\n",
    "def normal_pdf(x, mu, sigma):\n",
    "    \"\"\"\n",
    "    Calculate the probability density function (PDF) of a normal distribution at a given point.\n",
    "    \n",
    "    Args:\n",
    "        x (float): The point at which to calculate the PDF.\n",
    "        mu (float): Mean of the normal distribution.\n",
    "        sigma (float): Standard deviation of the normal distribution.\n",
    "        \n",
    "    Returns:\n",
    "        float: The PDF value at the given point.\n",
    "    \"\"\"\n",
    "    coeff = 1.0 / (sigma * math.sqrt(2 * math.pi))\n",
    "    exponent = -0.5 * ((x - mu) / sigma) ** 2\n",
    "    pdf_value = coeff * math.exp(exponent)\n",
    "    return pdf_value\n",
    "\n",
    "# Example usage\n",
    "mean = 0.0\n",
    "std_dev = 1.0\n",
    "x_value = 1.5\n",
    "pdf_at_x = normal_pdf(x_value, mean, std_dev)\n",
    "print(f\"PDF at x = {x_value}: {pdf_at_x}\")\n"
   ]
  },
  {
   "cell_type": "markdown",
   "id": "8c3038cf",
   "metadata": {},
   "source": [
    "Q4. What are the properties of Binomial distribution? Give two examples of events where binomial\n",
    "distribution can be applied."
   ]
  },
  {
   "cell_type": "code",
   "execution_count": 7,
   "id": "0b0a5109",
   "metadata": {},
   "outputs": [
    {
     "data": {
      "text/plain": [
       "'\\n**Properties of Binomial Distribution:**\\n1. Fixed number of trials (n).\\n2. Independent trials with constant probability of success (p).\\n3. Discrete outcomes (success or failure count).\\n4. Probability mass function (PMF) gives probabilities.\\n5. Mean (μ) = np, Variance (σ^2) = np(1 - p).\\n\\n**Examples of Binomial Distribution:**\\n1. **Coin Flipping:** Modeling the number of heads (successes) in a fixed number of coin flips.\\n2. **Quality Control:** Counting the number of defective products (failures) in a sample from a production line.\\n\\nIn both cases, the Binomial distribution helps calculate the likelihood of observing a specific number of successes\\n(or failures) in a series of independent trials with a constant probability of success.'"
      ]
     },
     "execution_count": 7,
     "metadata": {},
     "output_type": "execute_result"
    }
   ],
   "source": [
    "\"\"\"\n",
    "**Properties of Binomial Distribution:**\n",
    "1. Fixed number of trials (n).\n",
    "2. Independent trials with constant probability of success (p).\n",
    "3. Discrete outcomes (success or failure count).\n",
    "4. Probability mass function (PMF) gives probabilities.\n",
    "5. Mean (μ) = np, Variance (σ^2) = np(1 - p).\n",
    "\n",
    "**Examples of Binomial Distribution:**\n",
    "1. **Coin Flipping:** Modeling the number of heads (successes) in a fixed number of coin flips.\n",
    "2. **Quality Control:** Counting the number of defective products (failures) in a sample from a production line.\n",
    "\n",
    "In both cases, the Binomial distribution helps calculate the likelihood of observing a specific number of successes\n",
    "(or failures) in a series of independent trials with a constant probability of success.\"\"\""
   ]
  },
  {
   "cell_type": "markdown",
   "id": "13b7e369",
   "metadata": {},
   "source": [
    "Q5. Generate a random sample of size 1000 from a binomial distribution with probability of success 0.4\n",
    "and plot a histogram of the results using matplotlib."
   ]
  },
  {
   "cell_type": "code",
   "execution_count": 8,
   "id": "1a9753ef",
   "metadata": {},
   "outputs": [
    {
     "data": {
      "image/png": "[encoded data removed]",
      "text/plain": [
       "<Figure size 640x480 with 1 Axes>"
      ]
     },
     "metadata": {},
     "output_type": "display_data"
    }
   ],
   "source": [
    "import numpy as np\n",
    "import matplotlib.pyplot as plt\n",
    "\n",
    "# Parameters\n",
    "sample_size = 1000\n",
    "probability_of_success = 0.4\n",
    "number_of_trials = 1  # Each sample is a single trial in this case\n",
    "\n",
    "# Generate random sample from Binomial distribution\n",
    "random_sample = np.random.binomial(number_of_trials, probability_of_success, size=sample_size)\n",
    "\n",
    "# Plot histogram\n",
    "plt.hist(random_sample, bins=np.arange(-0.5, number_of_trials + 1.5), alpha=0.7, edgecolor='black')\n",
    "plt.xlabel('Number of Successes')\n",
    "plt.ylabel('Frequency')\n",
    "plt.title(f'Binomial Distribution (p = {probability_of_success}, n = {number_of_trials})')\n",
    "plt.xticks(np.arange(number_of_trials + 1))\n",
    "plt.grid(True)\n",
    "plt.show()\n"
   ]
  },
  {
   "cell_type": "markdown",
   "id": "663cadc2",
   "metadata": {},
   "source": [
    "Q6. Write a Python function to calculate the cumulative distribution function of a Poisson distribution\n",
    "with given mean at a given point.\n"
   ]
  },
  {
   "cell_type": "code",
   "execution_count": 9,
   "id": "6e5f47db",
   "metadata": {},
   "outputs": [
    {
     "name": "stdout",
     "output_type": "stream",
     "text": [
      "CDF at point 2: 8.5\n"
     ]
    }
   ],
   "source": [
    "import math\n",
    "\n",
    "def poisson_cdf(k, mu):\n",
    "    \"\"\"\n",
    "    Calculate the cumulative distribution function (CDF) of a Poisson distribution at a given point.\n",
    "    \n",
    "    Args:\n",
    "        k (int): The point at which to calculate the CDF.\n",
    "        mu (float): Mean of the Poisson distribution.\n",
    "        \n",
    "    Returns:\n",
    "        float: The CDF value at the given point.\n",
    "    \"\"\"\n",
    "    cdf_value = sum((mu ** i / math.factorial(i)) for i in range(k + 1))\n",
    "    return cdf_value\n",
    "\n",
    "# Example usage\n",
    "mean = 3.0\n",
    "point = 2\n",
    "cdf_at_point = poisson_cdf(point, mean)\n",
    "print(f\"CDF at point {point}: {cdf_at_point}\")\n"
   ]
  },
  {
   "cell_type": "markdown",
   "id": "fc32c057",
   "metadata": {},
   "source": [
    "Q7. How Binomial distribution different from Poisson distribution?"
   ]
  },
  {
   "cell_type": "code",
   "execution_count": 10,
   "id": "336f4553",
   "metadata": {},
   "outputs": [
    {
     "data": {
      "text/plain": [
       "'Certainly! In short:\\n\\n**Binomial Distribution:**\\n- Models the number of successes in a fixed number of trials.\\n- Two possible outcomes (success or failure) per trial.\\n- Constant probability of success across trials.\\n- Parameters: number of trials (n) and probability of success (p).\\n\\n**Poisson Distribution:**\\n- Models the count of rare events in a continuous interval.\\n- No fixed number of trials; focuses on event count.\\n- Describes average rate of occurrence (λ).\\n\\nIn essence, the Binomial distribution is about counting successes in a set number of trials, while the Poisson distribution \\nis about counting rare events over a continuous interval.'"
      ]
     },
     "execution_count": 10,
     "metadata": {},
     "output_type": "execute_result"
    }
   ],
   "source": [
    "\"\"\"Certainly! In short:\n",
    "\n",
    "**Binomial Distribution:**\n",
    "- Models the number of successes in a fixed number of trials.\n",
    "- Two possible outcomes (success or failure) per trial.\n",
    "- Constant probability of success across trials.\n",
    "- Parameters: number of trials (n) and probability of success (p).\n",
    "\n",
    "**Poisson Distribution:**\n",
    "- Models the count of rare events in a continuous interval.\n",
    "- No fixed number of trials; focuses on event count.\n",
    "- Describes average rate of occurrence (λ).\n",
    "\n",
    "In essence, the Binomial distribution is about counting successes in a set number of trials, while the Poisson distribution \n",
    "is about counting rare events over a continuous interval.\"\"\""
   ]
  },
  {
   "cell_type": "markdown",
   "id": "18d96aec",
   "metadata": {},
   "source": [
    "Q8. Generate a random sample of size 1000 from a Poisson distribution with mean 5 and calculate the\n",
    "sample mean and variance."
   ]
  },
  {
   "cell_type": "code",
   "execution_count": 11,
   "id": "b59ae4e7",
   "metadata": {},
   "outputs": [
    {
     "name": "stdout",
     "output_type": "stream",
     "text": [
      "Sample Mean: 4.872\n",
      "Sample Variance: 5.018634634634634\n"
     ]
    }
   ],
   "source": [
    "import numpy as np\n",
    "\n",
    "# Parameters\n",
    "sample_size = 1000\n",
    "mean = 5\n",
    "\n",
    "# Generate random sample from Poisson distribution\n",
    "random_sample = np.random.poisson(mean, size=sample_size)\n",
    "\n",
    "# Calculate sample mean and variance\n",
    "sample_mean = np.mean(random_sample)\n",
    "sample_variance = np.var(random_sample, ddof=1)  # Using Bessel's correction (ddof=1) for sample variance\n",
    "\n",
    "print(f\"Sample Mean: {sample_mean}\")\n",
    "print(f\"Sample Variance: {sample_variance}\")\n"
   ]
  },
  {
   "cell_type": "markdown",
   "id": "89f9b8b7",
   "metadata": {},
   "source": [
    "Q9. How mean and variance are related in Binomial distribution and Poisson distribution?"
   ]
  },
  {
   "cell_type": "code",
   "execution_count": 12,
   "id": "49c0aa0c",
   "metadata": {},
   "outputs": [
    {
     "data": {
      "text/plain": [
       "'Both the mean and variance are important measures of central tendency and dispersion in probability distributions. \\nThe relationship between the mean (μ) and variance (σ^2) differs between the Binomial distribution and the Poisson distribution.\\n\\n**Binomial Distribution:**\\nFor a Binomial distribution with parameters n (number of trials) and p (probability of success), the mean and variance are \\nrelated as follows:\\n\\nMean (μ) = n * p\\nVariance (σ^2) = n * p * (1 - p)\\n\\nIn the Binomial distribution, the variance increases as the probability of success (p) moves away from 0.5. When p = 0.5, \\nthe distribution is most spread out, resulting in the highest possible variance. As p deviates from 0.5, the distribution \\nbecomes more skewed, leading to lower variance.\\n\\n**Poisson Distribution:**\\nFor a Poisson distribution with a mean rate of occurrence λ, the mean and variance are related as follows:\\n\\nMean (μ) = λ\\nVariance (σ^2) = λ\\n\\nIn the Poisson distribution, the variance is always equal to the mean. This means that the spread of the distribution is \\ndetermined solely by the mean rate of occurrence. When the mean (λ) is large, the distribution is more spread out, and when \\nit is small, the distribution is more concentrated around the mean.\\n\\nIn summary, in the Binomial distribution, the variance depends on both the number of trials and the probability of success,\\nwhile in the Poisson distribution, the variance is solely determined by the mean rate of occurrence.'"
      ]
     },
     "execution_count": 12,
     "metadata": {},
     "output_type": "execute_result"
    }
   ],
   "source": [
    "\"\"\"Both the mean and variance are important measures of central tendency and dispersion in probability distributions. \n",
    "The relationship between the mean (μ) and variance (σ^2) differs between the Binomial distribution and the Poisson distribution.\n",
    "\n",
    "**Binomial Distribution:**\n",
    "For a Binomial distribution with parameters n (number of trials) and p (probability of success), the mean and variance are \n",
    "related as follows:\n",
    "\n",
    "Mean (μ) = n * p\n",
    "Variance (σ^2) = n * p * (1 - p)\n",
    "\n",
    "In the Binomial distribution, the variance increases as the probability of success (p) moves away from 0.5. When p = 0.5, \n",
    "the distribution is most spread out, resulting in the highest possible variance. As p deviates from 0.5, the distribution \n",
    "becomes more skewed, leading to lower variance.\n",
    "\n",
    "**Poisson Distribution:**\n",
    "For a Poisson distribution with a mean rate of occurrence λ, the mean and variance are related as follows:\n",
    "\n",
    "Mean (μ) = λ\n",
    "Variance (σ^2) = λ\n",
    "\n",
    "In the Poisson distribution, the variance is always equal to the mean. This means that the spread of the distribution is \n",
    "determined solely by the mean rate of occurrence. When the mean (λ) is large, the distribution is more spread out, and when \n",
    "it is small, the distribution is more concentrated around the mean.\n",
    "\n",
    "In summary, in the Binomial distribution, the variance depends on both the number of trials and the probability of success,\n",
    "while in the Poisson distribution, the variance is solely determined by the mean rate of occurrence.\"\"\""
   ]
  },
  {
   "cell_type": "markdown",
   "id": "1aa24fef",
   "metadata": {},
   "source": [
    "Q10. In normal distribution with respect to mean position, where does the least frequent data appear?"
   ]
  },
  {
   "cell_type": "code",
   "execution_count": 13,
   "id": "5b3ab81a",
   "metadata": {},
   "outputs": [
    {
     "data": {
      "text/plain": [
       "'In a normal distribution (also known as a Gaussian distribution), the data is symmetrically distributed around the mean.\\nThis means that the least frequent data points occur at the tails of the distribution, farthest from the mean.\\n\\nIn a standard normal distribution (with a mean of 0 and a standard deviation of 1), about 68% of the data falls within one\\nstandard deviation of the mean, about 95% falls within two standard deviations, and about 99.7% falls within three standard\\ndeviations.\\n\\nSo, the least frequent data points are located in the tails of the distribution, more than a few standard deviations away \\nfrom the mean. These extreme values are less likely to occur compared to values closer to the mean, and they contribute to \\nthe \"thinness\" of the tails of the normal distribution curve.'"
      ]
     },
     "execution_count": 13,
     "metadata": {},
     "output_type": "execute_result"
    }
   ],
   "source": [
    "\"\"\"In a normal distribution (also known as a Gaussian distribution), the data is symmetrically distributed around the mean.\n",
    "This means that the least frequent data points occur at the tails of the distribution, farthest from the mean.\n",
    "\n",
    "In a standard normal distribution (with a mean of 0 and a standard deviation of 1), about 68% of the data falls within one\n",
    "standard deviation of the mean, about 95% falls within two standard deviations, and about 99.7% falls within three standard\n",
    "deviations.\n",
    "\n",
    "So, the least frequent data points are located in the tails of the distribution, more than a few standard deviations away \n",
    "from the mean. These extreme values are less likely to occur compared to values closer to the mean, and they contribute to \n",
    "the \"thinness\" of the tails of the normal distribution curve.\"\"\""
   ]
  },
  {
   "cell_type": "code",
   "execution_count": null,
   "id": "d925da19",
   "metadata": {},
   "outputs": [],
   "source": []
  }
 ],
 "metadata": {
  "kernelspec": {
   "display_name": "Python 3 (ipykernel)",
   "language": "python",
   "name": "python3"
  },
  "language_info": {
   "codemirror_mode": {
    "name": "ipython",
    "version": 3
   },
   "file_extension": ".py",
   "mimetype": "text/x-python",
   "name": "python",
   "nbconvert_exporter": "python",
   "pygments_lexer": "ipython3",
   "version": "3.9.13"
  }
 },
 "nbformat": 4,
 "nbformat_minor": 5
}
